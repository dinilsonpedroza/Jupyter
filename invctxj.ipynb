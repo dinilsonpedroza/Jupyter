{
  "nbformat": 4,
  "nbformat_minor": 0,
  "metadata": {
    "colab": {
      "name": "invctxj.ipynb",
      "provenance": [],
      "collapsed_sections": [],
      "authorship_tag": "ABX9TyNfNDWRp3Dr0qnYl7GbP6TU",
      "include_colab_link": true
    },
    "kernelspec": {
      "name": "python3",
      "display_name": "Python 3"
    },
    "language_info": {
      "name": "python"
    }
  },
  "cells": [
    {
      "cell_type": "markdown",
      "metadata": {
        "id": "view-in-github",
        "colab_type": "text"
      },
      "source": [
        "<a href=\"https://colab.research.google.com/github/dinilsonpedroza/Jupyter/blob/main/invctxj.ipynb\" target=\"_parent\"><img src=\"https://colab.research.google.com/assets/colab-badge.svg\" alt=\"Open In Colab\"/></a>"
      ]
    },
    {
      "cell_type": "markdown",
      "metadata": {
        "id": "HYrSI53oQGJk"
      },
      "source": [
        "Começamos importando as bibliotecas que usaremos no trabalho."
      ]
    },
    {
      "cell_type": "code",
      "metadata": {
        "id": "a2mTzHiOQCkn"
      },
      "source": [
        "import pandas as pd\n",
        "import numpy as np\n",
        "import matplotlib.pyplot as plt\n",
        "import seaborn as sns\n",
        "%matplotlib inline"
      ],
      "execution_count": null,
      "outputs": []
    },
    {
      "cell_type": "code",
      "metadata": {
        "id": "yNVH_sVCQCu-"
      },
      "source": [
        "invcart = pd.read_csv('/content/txj2.csv', decimal = ',') ### lendo o arquivo com decimais separados por vírgulas."
      ],
      "execution_count": null,
      "outputs": []
    },
    {
      "cell_type": "markdown",
      "metadata": {
        "id": "qGv-haDxUqII"
      },
      "source": [
        "O arquivo *invcart* foi montado com dados obtidos no módulo de séries temporais  do site do banco central (www.bcb.gov.br, em sequida *estatísticas* e *séries temporais*. São dados sobre entrada de capitais (em carteira) e taxa média de juros mensal, "
      ]
    },
    {
      "cell_type": "code",
      "metadata": {
        "colab": {
          "base_uri": "https://localhost:8080/",
          "height": 419
        },
        "id": "05yaJQINVGoO",
        "outputId": "3b9a3f90-ae66-4ec3-84ca-354b187f639b"
      },
      "source": [
        "invcart"
      ],
      "execution_count": null,
      "outputs": [
        {
          "output_type": "execute_result",
          "data": {
            "text/html": [
              "<div>\n",
              "<style scoped>\n",
              "    .dataframe tbody tr th:only-of-type {\n",
              "        vertical-align: middle;\n",
              "    }\n",
              "\n",
              "    .dataframe tbody tr th {\n",
              "        vertical-align: top;\n",
              "    }\n",
              "\n",
              "    .dataframe thead th {\n",
              "        text-align: right;\n",
              "    }\n",
              "</style>\n",
              "<table border=\"1\" class=\"dataframe\">\n",
              "  <thead>\n",
              "    <tr style=\"text-align: right;\">\n",
              "      <th></th>\n",
              "      <th>txj</th>\n",
              "      <th>invc</th>\n",
              "    </tr>\n",
              "  </thead>\n",
              "  <tbody>\n",
              "    <tr>\n",
              "      <th>0</th>\n",
              "      <td>2.04</td>\n",
              "      <td>880.9</td>\n",
              "    </tr>\n",
              "    <tr>\n",
              "      <th>1</th>\n",
              "      <td>2.07</td>\n",
              "      <td>1281.2</td>\n",
              "    </tr>\n",
              "    <tr>\n",
              "      <th>2</th>\n",
              "      <td>2.07</td>\n",
              "      <td>1417.1</td>\n",
              "    </tr>\n",
              "    <tr>\n",
              "      <th>3</th>\n",
              "      <td>2.05</td>\n",
              "      <td>1604.4</td>\n",
              "    </tr>\n",
              "    <tr>\n",
              "      <th>4</th>\n",
              "      <td>2.07</td>\n",
              "      <td>4126.4</td>\n",
              "    </tr>\n",
              "    <tr>\n",
              "      <th>...</th>\n",
              "      <td>...</td>\n",
              "      <td>...</td>\n",
              "    </tr>\n",
              "    <tr>\n",
              "      <th>122</th>\n",
              "      <td>1.53</td>\n",
              "      <td>5364.3</td>\n",
              "    </tr>\n",
              "    <tr>\n",
              "      <th>123</th>\n",
              "      <td>1.53</td>\n",
              "      <td>5904.2</td>\n",
              "    </tr>\n",
              "    <tr>\n",
              "      <th>124</th>\n",
              "      <td>1.56</td>\n",
              "      <td>5930.9</td>\n",
              "    </tr>\n",
              "    <tr>\n",
              "      <th>125</th>\n",
              "      <td>1.61</td>\n",
              "      <td>4544.4</td>\n",
              "    </tr>\n",
              "    <tr>\n",
              "      <th>126</th>\n",
              "      <td>1.65</td>\n",
              "      <td>8305.9</td>\n",
              "    </tr>\n",
              "  </tbody>\n",
              "</table>\n",
              "<p>127 rows × 2 columns</p>\n",
              "</div>"
            ],
            "text/plain": [
              "      txj    invc\n",
              "0    2.04   880.9\n",
              "1    2.07  1281.2\n",
              "2    2.07  1417.1\n",
              "3    2.05  1604.4\n",
              "4    2.07  4126.4\n",
              "..    ...     ...\n",
              "122  1.53  5364.3\n",
              "123  1.53  5904.2\n",
              "124  1.56  5930.9\n",
              "125  1.61  4544.4\n",
              "126  1.65  8305.9\n",
              "\n",
              "[127 rows x 2 columns]"
            ]
          },
          "metadata": {},
          "execution_count": 81
        }
      ]
    },
    {
      "cell_type": "code",
      "metadata": {
        "id": "aFOzQ2deVGrD"
      },
      "source": [
        "invcart['data'] = pd.date_range(start='03/01/2011', periods=len(invcart.txj), freq='M') ### acrescentando uma coluna de data."
      ],
      "execution_count": null,
      "outputs": []
    },
    {
      "cell_type": "code",
      "metadata": {
        "colab": {
          "base_uri": "https://localhost:8080/",
          "height": 419
        },
        "id": "Q4GcYnK6VGuB",
        "outputId": "e39af1c7-0a68-41b9-cf52-c770fbd1647b"
      },
      "source": [
        "invcart"
      ],
      "execution_count": null,
      "outputs": [
        {
          "output_type": "execute_result",
          "data": {
            "text/html": [
              "<div>\n",
              "<style scoped>\n",
              "    .dataframe tbody tr th:only-of-type {\n",
              "        vertical-align: middle;\n",
              "    }\n",
              "\n",
              "    .dataframe tbody tr th {\n",
              "        vertical-align: top;\n",
              "    }\n",
              "\n",
              "    .dataframe thead th {\n",
              "        text-align: right;\n",
              "    }\n",
              "</style>\n",
              "<table border=\"1\" class=\"dataframe\">\n",
              "  <thead>\n",
              "    <tr style=\"text-align: right;\">\n",
              "      <th></th>\n",
              "      <th>txj</th>\n",
              "      <th>invc</th>\n",
              "      <th>data</th>\n",
              "    </tr>\n",
              "  </thead>\n",
              "  <tbody>\n",
              "    <tr>\n",
              "      <th>0</th>\n",
              "      <td>2.04</td>\n",
              "      <td>880.9</td>\n",
              "      <td>2011-03-31</td>\n",
              "    </tr>\n",
              "    <tr>\n",
              "      <th>1</th>\n",
              "      <td>2.07</td>\n",
              "      <td>1281.2</td>\n",
              "      <td>2011-04-30</td>\n",
              "    </tr>\n",
              "    <tr>\n",
              "      <th>2</th>\n",
              "      <td>2.07</td>\n",
              "      <td>1417.1</td>\n",
              "      <td>2011-05-31</td>\n",
              "    </tr>\n",
              "    <tr>\n",
              "      <th>3</th>\n",
              "      <td>2.05</td>\n",
              "      <td>1604.4</td>\n",
              "      <td>2011-06-30</td>\n",
              "    </tr>\n",
              "    <tr>\n",
              "      <th>4</th>\n",
              "      <td>2.07</td>\n",
              "      <td>4126.4</td>\n",
              "      <td>2011-07-31</td>\n",
              "    </tr>\n",
              "    <tr>\n",
              "      <th>...</th>\n",
              "      <td>...</td>\n",
              "      <td>...</td>\n",
              "      <td>...</td>\n",
              "    </tr>\n",
              "    <tr>\n",
              "      <th>122</th>\n",
              "      <td>1.53</td>\n",
              "      <td>5364.3</td>\n",
              "      <td>2021-05-31</td>\n",
              "    </tr>\n",
              "    <tr>\n",
              "      <th>123</th>\n",
              "      <td>1.53</td>\n",
              "      <td>5904.2</td>\n",
              "      <td>2021-06-30</td>\n",
              "    </tr>\n",
              "    <tr>\n",
              "      <th>124</th>\n",
              "      <td>1.56</td>\n",
              "      <td>5930.9</td>\n",
              "      <td>2021-07-31</td>\n",
              "    </tr>\n",
              "    <tr>\n",
              "      <th>125</th>\n",
              "      <td>1.61</td>\n",
              "      <td>4544.4</td>\n",
              "      <td>2021-08-31</td>\n",
              "    </tr>\n",
              "    <tr>\n",
              "      <th>126</th>\n",
              "      <td>1.65</td>\n",
              "      <td>8305.9</td>\n",
              "      <td>2021-09-30</td>\n",
              "    </tr>\n",
              "  </tbody>\n",
              "</table>\n",
              "<p>127 rows × 3 columns</p>\n",
              "</div>"
            ],
            "text/plain": [
              "      txj    invc       data\n",
              "0    2.04   880.9 2011-03-31\n",
              "1    2.07  1281.2 2011-04-30\n",
              "2    2.07  1417.1 2011-05-31\n",
              "3    2.05  1604.4 2011-06-30\n",
              "4    2.07  4126.4 2011-07-31\n",
              "..    ...     ...        ...\n",
              "122  1.53  5364.3 2021-05-31\n",
              "123  1.53  5904.2 2021-06-30\n",
              "124  1.56  5930.9 2021-07-31\n",
              "125  1.61  4544.4 2021-08-31\n",
              "126  1.65  8305.9 2021-09-30\n",
              "\n",
              "[127 rows x 3 columns]"
            ]
          },
          "metadata": {},
          "execution_count": 90
        }
      ]
    },
    {
      "cell_type": "code",
      "metadata": {
        "id": "3xLfh9T8VGwv"
      },
      "source": [
        "invcart.invc = invcart.invc.pct_change() ### transformando a coluna de invc em variações percentuais."
      ],
      "execution_count": null,
      "outputs": []
    },
    {
      "cell_type": "code",
      "metadata": {
        "colab": {
          "base_uri": "https://localhost:8080/",
          "height": 419
        },
        "id": "wBUFvs_oVGzt",
        "outputId": "7bea4a41-aa74-4fb1-b61c-7d7622cf2676"
      },
      "source": [
        "invcart"
      ],
      "execution_count": null,
      "outputs": [
        {
          "output_type": "execute_result",
          "data": {
            "text/html": [
              "<div>\n",
              "<style scoped>\n",
              "    .dataframe tbody tr th:only-of-type {\n",
              "        vertical-align: middle;\n",
              "    }\n",
              "\n",
              "    .dataframe tbody tr th {\n",
              "        vertical-align: top;\n",
              "    }\n",
              "\n",
              "    .dataframe thead th {\n",
              "        text-align: right;\n",
              "    }\n",
              "</style>\n",
              "<table border=\"1\" class=\"dataframe\">\n",
              "  <thead>\n",
              "    <tr style=\"text-align: right;\">\n",
              "      <th></th>\n",
              "      <th>txj</th>\n",
              "      <th>invc</th>\n",
              "      <th>data</th>\n",
              "    </tr>\n",
              "  </thead>\n",
              "  <tbody>\n",
              "    <tr>\n",
              "      <th>0</th>\n",
              "      <td>2.04</td>\n",
              "      <td>NaN</td>\n",
              "      <td>2011-03-31</td>\n",
              "    </tr>\n",
              "    <tr>\n",
              "      <th>1</th>\n",
              "      <td>2.07</td>\n",
              "      <td>0.454422</td>\n",
              "      <td>2011-04-30</td>\n",
              "    </tr>\n",
              "    <tr>\n",
              "      <th>2</th>\n",
              "      <td>2.07</td>\n",
              "      <td>0.106072</td>\n",
              "      <td>2011-05-31</td>\n",
              "    </tr>\n",
              "    <tr>\n",
              "      <th>3</th>\n",
              "      <td>2.05</td>\n",
              "      <td>0.132171</td>\n",
              "      <td>2011-06-30</td>\n",
              "    </tr>\n",
              "    <tr>\n",
              "      <th>4</th>\n",
              "      <td>2.07</td>\n",
              "      <td>1.571927</td>\n",
              "      <td>2011-07-31</td>\n",
              "    </tr>\n",
              "    <tr>\n",
              "      <th>...</th>\n",
              "      <td>...</td>\n",
              "      <td>...</td>\n",
              "      <td>...</td>\n",
              "    </tr>\n",
              "    <tr>\n",
              "      <th>122</th>\n",
              "      <td>1.53</td>\n",
              "      <td>-0.181722</td>\n",
              "      <td>2021-05-31</td>\n",
              "    </tr>\n",
              "    <tr>\n",
              "      <th>123</th>\n",
              "      <td>1.53</td>\n",
              "      <td>0.100647</td>\n",
              "      <td>2021-06-30</td>\n",
              "    </tr>\n",
              "    <tr>\n",
              "      <th>124</th>\n",
              "      <td>1.56</td>\n",
              "      <td>0.004522</td>\n",
              "      <td>2021-07-31</td>\n",
              "    </tr>\n",
              "    <tr>\n",
              "      <th>125</th>\n",
              "      <td>1.61</td>\n",
              "      <td>-0.233776</td>\n",
              "      <td>2021-08-31</td>\n",
              "    </tr>\n",
              "    <tr>\n",
              "      <th>126</th>\n",
              "      <td>1.65</td>\n",
              "      <td>0.827722</td>\n",
              "      <td>2021-09-30</td>\n",
              "    </tr>\n",
              "  </tbody>\n",
              "</table>\n",
              "<p>127 rows × 3 columns</p>\n",
              "</div>"
            ],
            "text/plain": [
              "      txj      invc       data\n",
              "0    2.04       NaN 2011-03-31\n",
              "1    2.07  0.454422 2011-04-30\n",
              "2    2.07  0.106072 2011-05-31\n",
              "3    2.05  0.132171 2011-06-30\n",
              "4    2.07  1.571927 2011-07-31\n",
              "..    ...       ...        ...\n",
              "122  1.53 -0.181722 2021-05-31\n",
              "123  1.53  0.100647 2021-06-30\n",
              "124  1.56  0.004522 2021-07-31\n",
              "125  1.61 -0.233776 2021-08-31\n",
              "126  1.65  0.827722 2021-09-30\n",
              "\n",
              "[127 rows x 3 columns]"
            ]
          },
          "metadata": {},
          "execution_count": 92
        }
      ]
    },
    {
      "cell_type": "markdown",
      "metadata": {
        "id": "-P24dPhOVprN"
      },
      "source": [
        "Por causa da variação percentual, perdemos uma informação (a primeira, claro)."
      ]
    },
    {
      "cell_type": "code",
      "metadata": {
        "id": "MGiRPFt2VG28"
      },
      "source": [
        "invcart = invcart.drop([0], axis=0) ### Excluindo a primeira linha do data frame."
      ],
      "execution_count": null,
      "outputs": []
    },
    {
      "cell_type": "code",
      "metadata": {
        "colab": {
          "base_uri": "https://localhost:8080/",
          "height": 419
        },
        "id": "WgF04GmVVG6h",
        "outputId": "06c73172-78dc-44b3-83d9-5533d34768cb"
      },
      "source": [
        "invcart"
      ],
      "execution_count": null,
      "outputs": [
        {
          "output_type": "execute_result",
          "data": {
            "text/html": [
              "<div>\n",
              "<style scoped>\n",
              "    .dataframe tbody tr th:only-of-type {\n",
              "        vertical-align: middle;\n",
              "    }\n",
              "\n",
              "    .dataframe tbody tr th {\n",
              "        vertical-align: top;\n",
              "    }\n",
              "\n",
              "    .dataframe thead th {\n",
              "        text-align: right;\n",
              "    }\n",
              "</style>\n",
              "<table border=\"1\" class=\"dataframe\">\n",
              "  <thead>\n",
              "    <tr style=\"text-align: right;\">\n",
              "      <th></th>\n",
              "      <th>txj</th>\n",
              "      <th>invc</th>\n",
              "      <th>data</th>\n",
              "    </tr>\n",
              "  </thead>\n",
              "  <tbody>\n",
              "    <tr>\n",
              "      <th>1</th>\n",
              "      <td>2.07</td>\n",
              "      <td>0.454422</td>\n",
              "      <td>2011-04-30</td>\n",
              "    </tr>\n",
              "    <tr>\n",
              "      <th>2</th>\n",
              "      <td>2.07</td>\n",
              "      <td>0.106072</td>\n",
              "      <td>2011-05-31</td>\n",
              "    </tr>\n",
              "    <tr>\n",
              "      <th>3</th>\n",
              "      <td>2.05</td>\n",
              "      <td>0.132171</td>\n",
              "      <td>2011-06-30</td>\n",
              "    </tr>\n",
              "    <tr>\n",
              "      <th>4</th>\n",
              "      <td>2.07</td>\n",
              "      <td>1.571927</td>\n",
              "      <td>2011-07-31</td>\n",
              "    </tr>\n",
              "    <tr>\n",
              "      <th>5</th>\n",
              "      <td>2.03</td>\n",
              "      <td>-0.717090</td>\n",
              "      <td>2011-08-31</td>\n",
              "    </tr>\n",
              "    <tr>\n",
              "      <th>...</th>\n",
              "      <td>...</td>\n",
              "      <td>...</td>\n",
              "      <td>...</td>\n",
              "    </tr>\n",
              "    <tr>\n",
              "      <th>122</th>\n",
              "      <td>1.53</td>\n",
              "      <td>-0.181722</td>\n",
              "      <td>2021-05-31</td>\n",
              "    </tr>\n",
              "    <tr>\n",
              "      <th>123</th>\n",
              "      <td>1.53</td>\n",
              "      <td>0.100647</td>\n",
              "      <td>2021-06-30</td>\n",
              "    </tr>\n",
              "    <tr>\n",
              "      <th>124</th>\n",
              "      <td>1.56</td>\n",
              "      <td>0.004522</td>\n",
              "      <td>2021-07-31</td>\n",
              "    </tr>\n",
              "    <tr>\n",
              "      <th>125</th>\n",
              "      <td>1.61</td>\n",
              "      <td>-0.233776</td>\n",
              "      <td>2021-08-31</td>\n",
              "    </tr>\n",
              "    <tr>\n",
              "      <th>126</th>\n",
              "      <td>1.65</td>\n",
              "      <td>0.827722</td>\n",
              "      <td>2021-09-30</td>\n",
              "    </tr>\n",
              "  </tbody>\n",
              "</table>\n",
              "<p>126 rows × 3 columns</p>\n",
              "</div>"
            ],
            "text/plain": [
              "      txj      invc       data\n",
              "1    2.07  0.454422 2011-04-30\n",
              "2    2.07  0.106072 2011-05-31\n",
              "3    2.05  0.132171 2011-06-30\n",
              "4    2.07  1.571927 2011-07-31\n",
              "5    2.03 -0.717090 2011-08-31\n",
              "..    ...       ...        ...\n",
              "122  1.53 -0.181722 2021-05-31\n",
              "123  1.53  0.100647 2021-06-30\n",
              "124  1.56  0.004522 2021-07-31\n",
              "125  1.61 -0.233776 2021-08-31\n",
              "126  1.65  0.827722 2021-09-30\n",
              "\n",
              "[126 rows x 3 columns]"
            ]
          },
          "metadata": {},
          "execution_count": 94
        }
      ]
    },
    {
      "cell_type": "markdown",
      "metadata": {
        "id": "cewD7XLUV0z6"
      },
      "source": [
        "Eliminamos a primeira linha, para deixar a série homogênea, já que perdemos uma informação na operação anterior."
      ]
    },
    {
      "cell_type": "markdown",
      "metadata": {
        "id": "lTIKMAoMWOBb"
      },
      "source": [
        "**Gráfico de dispersão**"
      ]
    },
    {
      "cell_type": "code",
      "metadata": {
        "colab": {
          "base_uri": "https://localhost:8080/",
          "height": 520
        },
        "id": "opD0NcH1amKz",
        "outputId": "608e23e0-b399-4932-f764-c318c230fdb9"
      },
      "source": [
        "plt.scatter(invcart.txj, invcart.invc, c='blue')\n",
        "plt.title('Investimento em carteira x taxa de juros (2011-2021)',fontsize = 16)\n",
        "plt.ylabel(\"Investmento em Carteira (var %)\", fontsize = 15)\n",
        "plt.xlabel(\"Taxa de juros (%)\",fontsize = 15)\n",
        "plt.show() ### Gráfico de dispersão entre investimento em carteira e taxa de juros."
      ],
      "execution_count": null,
      "outputs": [
        {
          "output_type": "display_data",
          "data": {
            "image/png": "[encoded data removed]",
            "text/plain": [
              "<Figure size 864x576 with 1 Axes>"
            ]
          },
          "metadata": {
            "needs_background": "light"
          }
        }
      ]
    },
    {
      "cell_type": "code",
      "metadata": {
        "colab": {
          "base_uri": "https://localhost:8080/",
          "height": 568
        },
        "id": "44TRC_2Tamfb",
        "outputId": "76a0d197-a538-4935-ef5b-9c524fa2004a"
      },
      "source": [
        "sns.regplot(invcart.txj, invcart.invc, marker=\"+\")### Gráfico de dispersão mais reta de regressão."
      ],
      "execution_count": null,
      "outputs": [
        {
          "output_type": "stream",
          "name": "stderr",
          "text": [
            "/usr/local/lib/python3.7/dist-packages/seaborn/_decorators.py:43: FutureWarning: Pass the following variables as keyword args: x, y. From version 0.12, the only valid positional argument will be `data`, and passing other arguments without an explicit keyword will result in an error or misinterpretation.\n",
            "  FutureWarning\n"
          ]
        },
        {
          "output_type": "execute_result",
          "data": {
            "text/plain": [
              "<matplotlib.axes._subplots.AxesSubplot at 0x7f8836d19fd0>"
            ]
          },
          "metadata": {},
          "execution_count": 97
        },
        {
          "output_type": "display_data",
          "data": {
            "image/png": "[encoded data removed]",
            "text/plain": [
              "<Figure size 864x576 with 1 Axes>"
            ]
          },
          "metadata": {
            "needs_background": "light"
          }
        }
      ]
    },
    {
      "cell_type": "code",
      "metadata": {
        "colab": {
          "base_uri": "https://localhost:8080/",
          "height": 391
        },
        "id": "GjmhmCEqamrR",
        "outputId": "b75c6b25-058e-4e57-a359-2bba5145c244"
      },
      "source": [
        "sns.pairplot(invcart) ### Observando correlações entre as variáveis co o pairplot."
      ],
      "execution_count": null,
      "outputs": [
        {
          "output_type": "execute_result",
          "data": {
            "text/plain": [
              "<seaborn.axisgrid.PairGrid at 0x7f884171a390>"
            ]
          },
          "metadata": {},
          "execution_count": 98
        },
        {
          "output_type": "display_data",
          "data": {
            "image/png": "[encoded data removed]",
            "text/plain": [
              "<Figure size 360x360 with 6 Axes>"
            ]
          },
          "metadata": {
            "needs_background": "light"
          }
        }
      ]
    },
    {
      "cell_type": "markdown",
      "metadata": {
        "id": "lw2p-ea9Wg4z"
      },
      "source": [
        "Há, portanto, uma correlação muito baixa entre as duas variáveis, *entrada de capitais em carteira* e *taxa de juros internos."
      ]
    },
    {
      "cell_type": "code",
      "metadata": {
        "colab": {
          "base_uri": "https://localhost:8080/",
          "height": 391
        },
        "id": "M1auoTCDamvc",
        "outputId": "ec09858a-c317-412f-9c85-1a2aff5bcd34"
      },
      "source": [
        "sns.pairplot(invcart, kind='reg') ### pairplot com reta de regressão."
      ],
      "execution_count": null,
      "outputs": [
        {
          "output_type": "execute_result",
          "data": {
            "text/plain": [
              "<seaborn.axisgrid.PairGrid at 0x7f8836be7510>"
            ]
          },
          "metadata": {},
          "execution_count": 99
        },
        {
          "output_type": "display_data",
          "data": {
            "image/png": "[encoded data removed]",
            "text/plain": [
              "<Figure size 360x360 with 6 Axes>"
            ]
          },
          "metadata": {
            "needs_background": "light"
          }
        }
      ]
    },
    {
      "cell_type": "markdown",
      "metadata": {
        "id": "wkk8sFJjW72B"
      },
      "source": [
        "**Calculando a correlação**"
      ]
    },
    {
      "cell_type": "code",
      "metadata": {
        "id": "7Rv3yvAoam1y"
      },
      "source": [
        "invcart1 = invcart.drop(['data'], axis=1) ### Excluindo a coluna de datas do data frame."
      ],
      "execution_count": null,
      "outputs": []
    },
    {
      "cell_type": "code",
      "metadata": {
        "colab": {
          "base_uri": "https://localhost:8080/",
          "height": 419
        },
        "id": "4y4UkN9UqEiU",
        "outputId": "81e5c1c8-3b4b-4e76-95a1-53bb1ad48ef6"
      },
      "source": [
        "invcart1"
      ],
      "execution_count": null,
      "outputs": [
        {
          "output_type": "execute_result",
          "data": {
            "text/html": [
              "<div>\n",
              "<style scoped>\n",
              "    .dataframe tbody tr th:only-of-type {\n",
              "        vertical-align: middle;\n",
              "    }\n",
              "\n",
              "    .dataframe tbody tr th {\n",
              "        vertical-align: top;\n",
              "    }\n",
              "\n",
              "    .dataframe thead th {\n",
              "        text-align: right;\n",
              "    }\n",
              "</style>\n",
              "<table border=\"1\" class=\"dataframe\">\n",
              "  <thead>\n",
              "    <tr style=\"text-align: right;\">\n",
              "      <th></th>\n",
              "      <th>txj</th>\n",
              "      <th>invc</th>\n",
              "    </tr>\n",
              "  </thead>\n",
              "  <tbody>\n",
              "    <tr>\n",
              "      <th>1</th>\n",
              "      <td>2.07</td>\n",
              "      <td>0.454422</td>\n",
              "    </tr>\n",
              "    <tr>\n",
              "      <th>2</th>\n",
              "      <td>2.07</td>\n",
              "      <td>0.106072</td>\n",
              "    </tr>\n",
              "    <tr>\n",
              "      <th>3</th>\n",
              "      <td>2.05</td>\n",
              "      <td>0.132171</td>\n",
              "    </tr>\n",
              "    <tr>\n",
              "      <th>4</th>\n",
              "      <td>2.07</td>\n",
              "      <td>1.571927</td>\n",
              "    </tr>\n",
              "    <tr>\n",
              "      <th>5</th>\n",
              "      <td>2.03</td>\n",
              "      <td>-0.717090</td>\n",
              "    </tr>\n",
              "    <tr>\n",
              "      <th>...</th>\n",
              "      <td>...</td>\n",
              "      <td>...</td>\n",
              "    </tr>\n",
              "    <tr>\n",
              "      <th>122</th>\n",
              "      <td>1.53</td>\n",
              "      <td>-0.181722</td>\n",
              "    </tr>\n",
              "    <tr>\n",
              "      <th>123</th>\n",
              "      <td>1.53</td>\n",
              "      <td>0.100647</td>\n",
              "    </tr>\n",
              "    <tr>\n",
              "      <th>124</th>\n",
              "      <td>1.56</td>\n",
              "      <td>0.004522</td>\n",
              "    </tr>\n",
              "    <tr>\n",
              "      <th>125</th>\n",
              "      <td>1.61</td>\n",
              "      <td>-0.233776</td>\n",
              "    </tr>\n",
              "    <tr>\n",
              "      <th>126</th>\n",
              "      <td>1.65</td>\n",
              "      <td>0.827722</td>\n",
              "    </tr>\n",
              "  </tbody>\n",
              "</table>\n",
              "<p>126 rows × 2 columns</p>\n",
              "</div>"
            ],
            "text/plain": [
              "      txj      invc\n",
              "1    2.07  0.454422\n",
              "2    2.07  0.106072\n",
              "3    2.05  0.132171\n",
              "4    2.07  1.571927\n",
              "5    2.03 -0.717090\n",
              "..    ...       ...\n",
              "122  1.53 -0.181722\n",
              "123  1.53  0.100647\n",
              "124  1.56  0.004522\n",
              "125  1.61 -0.233776\n",
              "126  1.65  0.827722\n",
              "\n",
              "[126 rows x 2 columns]"
            ]
          },
          "metadata": {},
          "execution_count": 103
        }
      ]
    },
    {
      "cell_type": "code",
      "metadata": {
        "colab": {
          "base_uri": "https://localhost:8080/",
          "height": 111
        },
        "id": "9vDFmV8MqEx_",
        "outputId": "7244b858-fea2-4f14-cb32-ae9507ee78c6"
      },
      "source": [
        "invcart1.corr() ### calculando a correlação entre as duas variáveis."
      ],
      "execution_count": null,
      "outputs": [
        {
          "output_type": "execute_result",
          "data": {
            "text/html": [
              "<div>\n",
              "<style scoped>\n",
              "    .dataframe tbody tr th:only-of-type {\n",
              "        vertical-align: middle;\n",
              "    }\n",
              "\n",
              "    .dataframe tbody tr th {\n",
              "        vertical-align: top;\n",
              "    }\n",
              "\n",
              "    .dataframe thead th {\n",
              "        text-align: right;\n",
              "    }\n",
              "</style>\n",
              "<table border=\"1\" class=\"dataframe\">\n",
              "  <thead>\n",
              "    <tr style=\"text-align: right;\">\n",
              "      <th></th>\n",
              "      <th>txj</th>\n",
              "      <th>invc</th>\n",
              "    </tr>\n",
              "  </thead>\n",
              "  <tbody>\n",
              "    <tr>\n",
              "      <th>txj</th>\n",
              "      <td>1.000000</td>\n",
              "      <td>-0.038126</td>\n",
              "    </tr>\n",
              "    <tr>\n",
              "      <th>invc</th>\n",
              "      <td>-0.038126</td>\n",
              "      <td>1.000000</td>\n",
              "    </tr>\n",
              "  </tbody>\n",
              "</table>\n",
              "</div>"
            ],
            "text/plain": [
              "           txj      invc\n",
              "txj   1.000000 -0.038126\n",
              "invc -0.038126  1.000000"
            ]
          },
          "metadata": {},
          "execution_count": 107
        }
      ]
    },
    {
      "cell_type": "code",
      "metadata": {
        "colab": {
          "base_uri": "https://localhost:8080/",
          "height": 111
        },
        "id": "PFZbP6ejqE6r",
        "outputId": "6457e48d-d301-4b8b-d409-7bd10b8bf83c"
      },
      "source": [
        "invcart.corr()"
      ],
      "execution_count": null,
      "outputs": [
        {
          "output_type": "execute_result",
          "data": {
            "text/html": [
              "<div>\n",
              "<style scoped>\n",
              "    .dataframe tbody tr th:only-of-type {\n",
              "        vertical-align: middle;\n",
              "    }\n",
              "\n",
              "    .dataframe tbody tr th {\n",
              "        vertical-align: top;\n",
              "    }\n",
              "\n",
              "    .dataframe thead th {\n",
              "        text-align: right;\n",
              "    }\n",
              "</style>\n",
              "<table border=\"1\" class=\"dataframe\">\n",
              "  <thead>\n",
              "    <tr style=\"text-align: right;\">\n",
              "      <th></th>\n",
              "      <th>txj</th>\n",
              "      <th>invc</th>\n",
              "    </tr>\n",
              "  </thead>\n",
              "  <tbody>\n",
              "    <tr>\n",
              "      <th>txj</th>\n",
              "      <td>1.000000</td>\n",
              "      <td>-0.038126</td>\n",
              "    </tr>\n",
              "    <tr>\n",
              "      <th>invc</th>\n",
              "      <td>-0.038126</td>\n",
              "      <td>1.000000</td>\n",
              "    </tr>\n",
              "  </tbody>\n",
              "</table>\n",
              "</div>"
            ],
            "text/plain": [
              "           txj      invc\n",
              "txj   1.000000 -0.038126\n",
              "invc -0.038126  1.000000"
            ]
          },
          "metadata": {},
          "execution_count": 108
        }
      ]
    },
    {
      "cell_type": "markdown",
      "metadata": {
        "id": "X5oY5m7aXVnP"
      },
      "source": [
        "**Raspagem**\n",
        "\n",
        "---"
      ]
    },
    {
      "cell_type": "markdown",
      "metadata": {
        "id": "pghg9UUOXG-q"
      },
      "source": [
        "Vamos agora estudar a relação entre investimentos diretos e PIB."
      ]
    },
    {
      "cell_type": "markdown",
      "metadata": {
        "id": "2PHn556ojNtK"
      },
      "source": [
        "*Investimentos Diretos no Brasil*"
      ]
    },
    {
      "cell_type": "code",
      "metadata": {
        "id": "V_LCumYfras_"
      },
      "source": [
        "link= 'http://api.bcb.gov.br/dados/serie/bcdata.sgs.22891/dados?formato=json' ### Estamos iniciando o processo de *raspagem* de dados."
      ],
      "execution_count": null,
      "outputs": []
    },
    {
      "cell_type": "code",
      "metadata": {
        "id": "W9PSx5efbhg7"
      },
      "source": [
        "IDE = pd.read_json(link)"
      ],
      "execution_count": null,
      "outputs": []
    },
    {
      "cell_type": "markdown",
      "metadata": {
        "id": "8eBhmlLiXo24"
      },
      "source": [
        "Na raspagem de dados, estamos usando uma função do *Pandas* que permite trazer para nosso espaço de trabalho um objeto arquivado em **Json** (*Java Script Object Notation*, formato ideal para transferência de arquivos). Para que a operação seja possível, é necessário que o site onde pegamos os dados disponha de **API** (*Application Programming Interface*, rotinas que facilitam a transferênica de dados em sites nos quais eles esteja arquivados)."
      ]
    },
    {
      "cell_type": "code",
      "metadata": {
        "colab": {
          "base_uri": "https://localhost:8080/",
          "height": 419
        },
        "id": "KlKFgNVMbhq2",
        "outputId": "6ea8ef92-78a7-4716-80d4-fd438b7a382b"
      },
      "source": [
        "IDE ### De investimento direto."
      ],
      "execution_count": null,
      "outputs": [
        {
          "output_type": "execute_result",
          "data": {
            "text/html": [
              "<div>\n",
              "<style scoped>\n",
              "    .dataframe tbody tr th:only-of-type {\n",
              "        vertical-align: middle;\n",
              "    }\n",
              "\n",
              "    .dataframe tbody tr th {\n",
              "        vertical-align: top;\n",
              "    }\n",
              "\n",
              "    .dataframe thead th {\n",
              "        text-align: right;\n",
              "    }\n",
              "</style>\n",
              "<table border=\"1\" class=\"dataframe\">\n",
              "  <thead>\n",
              "    <tr style=\"text-align: right;\">\n",
              "      <th></th>\n",
              "      <th>data</th>\n",
              "      <th>valor</th>\n",
              "    </tr>\n",
              "  </thead>\n",
              "  <tbody>\n",
              "    <tr>\n",
              "      <th>0</th>\n",
              "      <td>01/01/1995</td>\n",
              "      <td>437.6</td>\n",
              "    </tr>\n",
              "    <tr>\n",
              "      <th>1</th>\n",
              "      <td>01/02/1995</td>\n",
              "      <td>156.7</td>\n",
              "    </tr>\n",
              "    <tr>\n",
              "      <th>2</th>\n",
              "      <td>01/03/1995</td>\n",
              "      <td>146.4</td>\n",
              "    </tr>\n",
              "    <tr>\n",
              "      <th>3</th>\n",
              "      <td>01/04/1995</td>\n",
              "      <td>96.4</td>\n",
              "    </tr>\n",
              "    <tr>\n",
              "      <th>4</th>\n",
              "      <td>01/05/1995</td>\n",
              "      <td>386.2</td>\n",
              "    </tr>\n",
              "    <tr>\n",
              "      <th>...</th>\n",
              "      <td>...</td>\n",
              "      <td>...</td>\n",
              "    </tr>\n",
              "    <tr>\n",
              "      <th>316</th>\n",
              "      <td>01/05/2021</td>\n",
              "      <td>1565.9</td>\n",
              "    </tr>\n",
              "    <tr>\n",
              "      <th>317</th>\n",
              "      <td>01/06/2021</td>\n",
              "      <td>2832.1</td>\n",
              "    </tr>\n",
              "    <tr>\n",
              "      <th>318</th>\n",
              "      <td>01/07/2021</td>\n",
              "      <td>3953.3</td>\n",
              "    </tr>\n",
              "    <tr>\n",
              "      <th>319</th>\n",
              "      <td>01/08/2021</td>\n",
              "      <td>2298.1</td>\n",
              "    </tr>\n",
              "    <tr>\n",
              "      <th>320</th>\n",
              "      <td>01/09/2021</td>\n",
              "      <td>4155.1</td>\n",
              "    </tr>\n",
              "  </tbody>\n",
              "</table>\n",
              "<p>321 rows × 2 columns</p>\n",
              "</div>"
            ],
            "text/plain": [
              "           data   valor\n",
              "0    01/01/1995   437.6\n",
              "1    01/02/1995   156.7\n",
              "2    01/03/1995   146.4\n",
              "3    01/04/1995    96.4\n",
              "4    01/05/1995   386.2\n",
              "..          ...     ...\n",
              "316  01/05/2021  1565.9\n",
              "317  01/06/2021  2832.1\n",
              "318  01/07/2021  3953.3\n",
              "319  01/08/2021  2298.1\n",
              "320  01/09/2021  4155.1\n",
              "\n",
              "[321 rows x 2 columns]"
            ]
          },
          "metadata": {},
          "execution_count": 7
        }
      ]
    },
    {
      "cell_type": "code",
      "metadata": {
        "id": "I66K4igUbht4"
      },
      "source": [
        "IDE.index = pd.to_datetime(IDE['data']) ### Estamos aqui substituindo a coluna *Index* pela de datas do próprio arquivo."
      ],
      "execution_count": null,
      "outputs": []
    },
    {
      "cell_type": "code",
      "metadata": {
        "colab": {
          "base_uri": "https://localhost:8080/",
          "height": 450
        },
        "id": "21n5000fbhw4",
        "outputId": "3ad239af-f17a-48a8-fc77-08b42738d7ea"
      },
      "source": [
        "IDE"
      ],
      "execution_count": null,
      "outputs": [
        {
          "output_type": "execute_result",
          "data": {
            "text/html": [
              "<div>\n",
              "<style scoped>\n",
              "    .dataframe tbody tr th:only-of-type {\n",
              "        vertical-align: middle;\n",
              "    }\n",
              "\n",
              "    .dataframe tbody tr th {\n",
              "        vertical-align: top;\n",
              "    }\n",
              "\n",
              "    .dataframe thead th {\n",
              "        text-align: right;\n",
              "    }\n",
              "</style>\n",
              "<table border=\"1\" class=\"dataframe\">\n",
              "  <thead>\n",
              "    <tr style=\"text-align: right;\">\n",
              "      <th></th>\n",
              "      <th>data</th>\n",
              "      <th>valor</th>\n",
              "    </tr>\n",
              "    <tr>\n",
              "      <th>data</th>\n",
              "      <th></th>\n",
              "      <th></th>\n",
              "    </tr>\n",
              "  </thead>\n",
              "  <tbody>\n",
              "    <tr>\n",
              "      <th>1995-01-01</th>\n",
              "      <td>01/01/1995</td>\n",
              "      <td>437.6</td>\n",
              "    </tr>\n",
              "    <tr>\n",
              "      <th>1995-01-02</th>\n",
              "      <td>01/02/1995</td>\n",
              "      <td>156.7</td>\n",
              "    </tr>\n",
              "    <tr>\n",
              "      <th>1995-01-03</th>\n",
              "      <td>01/03/1995</td>\n",
              "      <td>146.4</td>\n",
              "    </tr>\n",
              "    <tr>\n",
              "      <th>1995-01-04</th>\n",
              "      <td>01/04/1995</td>\n",
              "      <td>96.4</td>\n",
              "    </tr>\n",
              "    <tr>\n",
              "      <th>1995-01-05</th>\n",
              "      <td>01/05/1995</td>\n",
              "      <td>386.2</td>\n",
              "    </tr>\n",
              "    <tr>\n",
              "      <th>...</th>\n",
              "      <td>...</td>\n",
              "      <td>...</td>\n",
              "    </tr>\n",
              "    <tr>\n",
              "      <th>2021-01-05</th>\n",
              "      <td>01/05/2021</td>\n",
              "      <td>1565.9</td>\n",
              "    </tr>\n",
              "    <tr>\n",
              "      <th>2021-01-06</th>\n",
              "      <td>01/06/2021</td>\n",
              "      <td>2832.1</td>\n",
              "    </tr>\n",
              "    <tr>\n",
              "      <th>2021-01-07</th>\n",
              "      <td>01/07/2021</td>\n",
              "      <td>3953.3</td>\n",
              "    </tr>\n",
              "    <tr>\n",
              "      <th>2021-01-08</th>\n",
              "      <td>01/08/2021</td>\n",
              "      <td>2298.1</td>\n",
              "    </tr>\n",
              "    <tr>\n",
              "      <th>2021-01-09</th>\n",
              "      <td>01/09/2021</td>\n",
              "      <td>4155.1</td>\n",
              "    </tr>\n",
              "  </tbody>\n",
              "</table>\n",
              "<p>321 rows × 2 columns</p>\n",
              "</div>"
            ],
            "text/plain": [
              "                  data   valor\n",
              "data                          \n",
              "1995-01-01  01/01/1995   437.6\n",
              "1995-01-02  01/02/1995   156.7\n",
              "1995-01-03  01/03/1995   146.4\n",
              "1995-01-04  01/04/1995    96.4\n",
              "1995-01-05  01/05/1995   386.2\n",
              "...                ...     ...\n",
              "2021-01-05  01/05/2021  1565.9\n",
              "2021-01-06  01/06/2021  2832.1\n",
              "2021-01-07  01/07/2021  3953.3\n",
              "2021-01-08  01/08/2021  2298.1\n",
              "2021-01-09  01/09/2021  4155.1\n",
              "\n",
              "[321 rows x 2 columns]"
            ]
          },
          "metadata": {},
          "execution_count": 9
        }
      ]
    },
    {
      "cell_type": "code",
      "metadata": {
        "id": "NJUATsP8bh18"
      },
      "source": [
        "BPIDE = IDE['valor'] ### Estamos eliminando a coluna de datas antiga."
      ],
      "execution_count": null,
      "outputs": []
    },
    {
      "cell_type": "code",
      "metadata": {
        "colab": {
          "base_uri": "https://localhost:8080/"
        },
        "id": "ly5WqLiFd30R",
        "outputId": "15a43ed0-267d-42e4-9740-10c645032c9b"
      },
      "source": [
        "BPIDE"
      ],
      "execution_count": null,
      "outputs": [
        {
          "output_type": "execute_result",
          "data": {
            "text/plain": [
              "data\n",
              "1995-01-01     437.6\n",
              "1995-01-02     156.7\n",
              "1995-01-03     146.4\n",
              "1995-01-04      96.4\n",
              "1995-01-05     386.2\n",
              "               ...  \n",
              "2021-01-05    1565.9\n",
              "2021-01-06    2832.1\n",
              "2021-01-07    3953.3\n",
              "2021-01-08    2298.1\n",
              "2021-01-09    4155.1\n",
              "Name: valor, Length: 321, dtype: float64"
            ]
          },
          "metadata": {},
          "execution_count": 11
        }
      ]
    },
    {
      "cell_type": "code",
      "metadata": {
        "colab": {
          "base_uri": "https://localhost:8080/",
          "height": 288
        },
        "id": "m7IHRKbSd4v1",
        "outputId": "9e9499f7-ba81-4ead-cb41-a77946dd79be"
      },
      "source": [
        "BPIDE.plot()"
      ],
      "execution_count": null,
      "outputs": [
        {
          "output_type": "execute_result",
          "data": {
            "text/plain": [
              "<matplotlib.axes._subplots.AxesSubplot at 0x7f2b7855fdd0>"
            ]
          },
          "metadata": {},
          "execution_count": 12
        },
        {
          "output_type": "display_data",
          "data": {
            "image/png": "[encoded data removed]",
            "text/plain": [
              "<Figure size 432x288 with 1 Axes>"
            ]
          },
          "metadata": {
            "needs_background": "light"
          }
        }
      ]
    },
    {
      "cell_type": "code",
      "metadata": {
        "colab": {
          "base_uri": "https://localhost:8080/",
          "height": 754
        },
        "id": "YTbcckmcgvxv",
        "outputId": "d1233a96-c719-4d9c-ddea-a6990742a588"
      },
      "source": [
        "plt.rcParams['figure.figsize'] = (12,12)\n",
        "plt.title('Investimento Direto no Brasil - 1995-2021 (US$ Milhões',fontsize = 16)\n",
        "plt.plot(BPIDE,lw =2, label = 'IDE', c= 'g')\n",
        "plt.ylabel(\"IDE\",fontsize = 15)\n",
        "plt.xlabel('Meses/anos',fontsize = 15)\n",
        "plt.legend(loc = 'upper left')"
      ],
      "execution_count": null,
      "outputs": [
        {
          "output_type": "execute_result",
          "data": {
            "text/plain": [
              "<matplotlib.legend.Legend at 0x7f2b622f2c10>"
            ]
          },
          "metadata": {},
          "execution_count": 13
        },
        {
          "output_type": "display_data",
          "data": {
            "image/png": "[encoded data removed]",
            "text/plain": [
              "<Figure size 864x864 with 1 Axes>"
            ]
          },
          "metadata": {
            "needs_background": "light"
          }
        }
      ]
    },
    {
      "cell_type": "markdown",
      "metadata": {
        "id": "Qvy2juuojV-f"
      },
      "source": [
        "*PIB*"
      ]
    },
    {
      "cell_type": "code",
      "metadata": {
        "id": "Z1Rz_M-pjZr6"
      },
      "source": [
        "link2= 'https://apisidra.ibge.gov.br/values/t/6784/n1/all/v/9810/p/all/d/v9810%201'"
      ],
      "execution_count": null,
      "outputs": []
    },
    {
      "cell_type": "code",
      "metadata": {
        "id": "vm7FV9sujpig"
      },
      "source": [
        "PIB = pd.read_json(link2)"
      ],
      "execution_count": null,
      "outputs": []
    },
    {
      "cell_type": "code",
      "metadata": {
        "colab": {
          "base_uri": "https://localhost:8080/",
          "height": 1000
        },
        "id": "1-9p74Ccjplg",
        "outputId": "c2412217-5953-4025-8d41-f9245580956d"
      },
      "source": [
        "PIB"
      ],
      "execution_count": null,
      "outputs": [
        {
          "output_type": "execute_result",
          "data": {
            "text/html": [
              "<div>\n",
              "<style scoped>\n",
              "    .dataframe tbody tr th:only-of-type {\n",
              "        vertical-align: middle;\n",
              "    }\n",
              "\n",
              "    .dataframe tbody tr th {\n",
              "        vertical-align: top;\n",
              "    }\n",
              "\n",
              "    .dataframe thead th {\n",
              "        text-align: right;\n",
              "    }\n",
              "</style>\n",
              "<table border=\"1\" class=\"dataframe\">\n",
              "  <thead>\n",
              "    <tr style=\"text-align: right;\">\n",
              "      <th></th>\n",
              "      <th>NC</th>\n",
              "      <th>NN</th>\n",
              "      <th>MC</th>\n",
              "      <th>MN</th>\n",
              "      <th>V</th>\n",
              "      <th>D1C</th>\n",
              "      <th>D1N</th>\n",
              "      <th>D2C</th>\n",
              "      <th>D2N</th>\n",
              "      <th>D3C</th>\n",
              "      <th>D3N</th>\n",
              "    </tr>\n",
              "  </thead>\n",
              "  <tbody>\n",
              "    <tr>\n",
              "      <th>0</th>\n",
              "      <td>Nível Territorial (Código)</td>\n",
              "      <td>Nível Territorial</td>\n",
              "      <td>Unidade de Medida (Código)</td>\n",
              "      <td>Unidade de Medida</td>\n",
              "      <td>Valor</td>\n",
              "      <td>Brasil (Código)</td>\n",
              "      <td>Brasil</td>\n",
              "      <td>Variável (Código)</td>\n",
              "      <td>Variável</td>\n",
              "      <td>Ano (Código)</td>\n",
              "      <td>Ano</td>\n",
              "    </tr>\n",
              "    <tr>\n",
              "      <th>1</th>\n",
              "      <td>1</td>\n",
              "      <td>Brasil</td>\n",
              "      <td>2</td>\n",
              "      <td>%</td>\n",
              "      <td>2.2</td>\n",
              "      <td>1</td>\n",
              "      <td>Brasil</td>\n",
              "      <td>9810</td>\n",
              "      <td>PIB - variação em volume</td>\n",
              "      <td>1996</td>\n",
              "      <td>1996</td>\n",
              "    </tr>\n",
              "    <tr>\n",
              "      <th>2</th>\n",
              "      <td>1</td>\n",
              "      <td>Brasil</td>\n",
              "      <td>2</td>\n",
              "      <td>%</td>\n",
              "      <td>3.4</td>\n",
              "      <td>1</td>\n",
              "      <td>Brasil</td>\n",
              "      <td>9810</td>\n",
              "      <td>PIB - variação em volume</td>\n",
              "      <td>1997</td>\n",
              "      <td>1997</td>\n",
              "    </tr>\n",
              "    <tr>\n",
              "      <th>3</th>\n",
              "      <td>1</td>\n",
              "      <td>Brasil</td>\n",
              "      <td>2</td>\n",
              "      <td>%</td>\n",
              "      <td>0.3</td>\n",
              "      <td>1</td>\n",
              "      <td>Brasil</td>\n",
              "      <td>9810</td>\n",
              "      <td>PIB - variação em volume</td>\n",
              "      <td>1998</td>\n",
              "      <td>1998</td>\n",
              "    </tr>\n",
              "    <tr>\n",
              "      <th>4</th>\n",
              "      <td>1</td>\n",
              "      <td>Brasil</td>\n",
              "      <td>2</td>\n",
              "      <td>%</td>\n",
              "      <td>0.5</td>\n",
              "      <td>1</td>\n",
              "      <td>Brasil</td>\n",
              "      <td>9810</td>\n",
              "      <td>PIB - variação em volume</td>\n",
              "      <td>1999</td>\n",
              "      <td>1999</td>\n",
              "    </tr>\n",
              "    <tr>\n",
              "      <th>5</th>\n",
              "      <td>1</td>\n",
              "      <td>Brasil</td>\n",
              "      <td>2</td>\n",
              "      <td>%</td>\n",
              "      <td>4.4</td>\n",
              "      <td>1</td>\n",
              "      <td>Brasil</td>\n",
              "      <td>9810</td>\n",
              "      <td>PIB - variação em volume</td>\n",
              "      <td>2000</td>\n",
              "      <td>2000</td>\n",
              "    </tr>\n",
              "    <tr>\n",
              "      <th>6</th>\n",
              "      <td>1</td>\n",
              "      <td>Brasil</td>\n",
              "      <td>2</td>\n",
              "      <td>%</td>\n",
              "      <td>1.4</td>\n",
              "      <td>1</td>\n",
              "      <td>Brasil</td>\n",
              "      <td>9810</td>\n",
              "      <td>PIB - variação em volume</td>\n",
              "      <td>2001</td>\n",
              "      <td>2001</td>\n",
              "    </tr>\n",
              "    <tr>\n",
              "      <th>7</th>\n",
              "      <td>1</td>\n",
              "      <td>Brasil</td>\n",
              "      <td>2</td>\n",
              "      <td>%</td>\n",
              "      <td>3.1</td>\n",
              "      <td>1</td>\n",
              "      <td>Brasil</td>\n",
              "      <td>9810</td>\n",
              "      <td>PIB - variação em volume</td>\n",
              "      <td>2002</td>\n",
              "      <td>2002</td>\n",
              "    </tr>\n",
              "    <tr>\n",
              "      <th>8</th>\n",
              "      <td>1</td>\n",
              "      <td>Brasil</td>\n",
              "      <td>2</td>\n",
              "      <td>%</td>\n",
              "      <td>1.1</td>\n",
              "      <td>1</td>\n",
              "      <td>Brasil</td>\n",
              "      <td>9810</td>\n",
              "      <td>PIB - variação em volume</td>\n",
              "      <td>2003</td>\n",
              "      <td>2003</td>\n",
              "    </tr>\n",
              "    <tr>\n",
              "      <th>9</th>\n",
              "      <td>1</td>\n",
              "      <td>Brasil</td>\n",
              "      <td>2</td>\n",
              "      <td>%</td>\n",
              "      <td>5.8</td>\n",
              "      <td>1</td>\n",
              "      <td>Brasil</td>\n",
              "      <td>9810</td>\n",
              "      <td>PIB - variação em volume</td>\n",
              "      <td>2004</td>\n",
              "      <td>2004</td>\n",
              "    </tr>\n",
              "    <tr>\n",
              "      <th>10</th>\n",
              "      <td>1</td>\n",
              "      <td>Brasil</td>\n",
              "      <td>2</td>\n",
              "      <td>%</td>\n",
              "      <td>3.2</td>\n",
              "      <td>1</td>\n",
              "      <td>Brasil</td>\n",
              "      <td>9810</td>\n",
              "      <td>PIB - variação em volume</td>\n",
              "      <td>2005</td>\n",
              "      <td>2005</td>\n",
              "    </tr>\n",
              "    <tr>\n",
              "      <th>11</th>\n",
              "      <td>1</td>\n",
              "      <td>Brasil</td>\n",
              "      <td>2</td>\n",
              "      <td>%</td>\n",
              "      <td>4.0</td>\n",
              "      <td>1</td>\n",
              "      <td>Brasil</td>\n",
              "      <td>9810</td>\n",
              "      <td>PIB - variação em volume</td>\n",
              "      <td>2006</td>\n",
              "      <td>2006</td>\n",
              "    </tr>\n",
              "    <tr>\n",
              "      <th>12</th>\n",
              "      <td>1</td>\n",
              "      <td>Brasil</td>\n",
              "      <td>2</td>\n",
              "      <td>%</td>\n",
              "      <td>6.1</td>\n",
              "      <td>1</td>\n",
              "      <td>Brasil</td>\n",
              "      <td>9810</td>\n",
              "      <td>PIB - variação em volume</td>\n",
              "      <td>2007</td>\n",
              "      <td>2007</td>\n",
              "    </tr>\n",
              "    <tr>\n",
              "      <th>13</th>\n",
              "      <td>1</td>\n",
              "      <td>Brasil</td>\n",
              "      <td>2</td>\n",
              "      <td>%</td>\n",
              "      <td>5.1</td>\n",
              "      <td>1</td>\n",
              "      <td>Brasil</td>\n",
              "      <td>9810</td>\n",
              "      <td>PIB - variação em volume</td>\n",
              "      <td>2008</td>\n",
              "      <td>2008</td>\n",
              "    </tr>\n",
              "    <tr>\n",
              "      <th>14</th>\n",
              "      <td>1</td>\n",
              "      <td>Brasil</td>\n",
              "      <td>2</td>\n",
              "      <td>%</td>\n",
              "      <td>-0.1</td>\n",
              "      <td>1</td>\n",
              "      <td>Brasil</td>\n",
              "      <td>9810</td>\n",
              "      <td>PIB - variação em volume</td>\n",
              "      <td>2009</td>\n",
              "      <td>2009</td>\n",
              "    </tr>\n",
              "    <tr>\n",
              "      <th>15</th>\n",
              "      <td>1</td>\n",
              "      <td>Brasil</td>\n",
              "      <td>2</td>\n",
              "      <td>%</td>\n",
              "      <td>7.5</td>\n",
              "      <td>1</td>\n",
              "      <td>Brasil</td>\n",
              "      <td>9810</td>\n",
              "      <td>PIB - variação em volume</td>\n",
              "      <td>2010</td>\n",
              "      <td>2010</td>\n",
              "    </tr>\n",
              "    <tr>\n",
              "      <th>16</th>\n",
              "      <td>1</td>\n",
              "      <td>Brasil</td>\n",
              "      <td>2</td>\n",
              "      <td>%</td>\n",
              "      <td>4.0</td>\n",
              "      <td>1</td>\n",
              "      <td>Brasil</td>\n",
              "      <td>9810</td>\n",
              "      <td>PIB - variação em volume</td>\n",
              "      <td>2011</td>\n",
              "      <td>2011</td>\n",
              "    </tr>\n",
              "    <tr>\n",
              "      <th>17</th>\n",
              "      <td>1</td>\n",
              "      <td>Brasil</td>\n",
              "      <td>2</td>\n",
              "      <td>%</td>\n",
              "      <td>1.9</td>\n",
              "      <td>1</td>\n",
              "      <td>Brasil</td>\n",
              "      <td>9810</td>\n",
              "      <td>PIB - variação em volume</td>\n",
              "      <td>2012</td>\n",
              "      <td>2012</td>\n",
              "    </tr>\n",
              "    <tr>\n",
              "      <th>18</th>\n",
              "      <td>1</td>\n",
              "      <td>Brasil</td>\n",
              "      <td>2</td>\n",
              "      <td>%</td>\n",
              "      <td>3.0</td>\n",
              "      <td>1</td>\n",
              "      <td>Brasil</td>\n",
              "      <td>9810</td>\n",
              "      <td>PIB - variação em volume</td>\n",
              "      <td>2013</td>\n",
              "      <td>2013</td>\n",
              "    </tr>\n",
              "    <tr>\n",
              "      <th>19</th>\n",
              "      <td>1</td>\n",
              "      <td>Brasil</td>\n",
              "      <td>2</td>\n",
              "      <td>%</td>\n",
              "      <td>0.5</td>\n",
              "      <td>1</td>\n",
              "      <td>Brasil</td>\n",
              "      <td>9810</td>\n",
              "      <td>PIB - variação em volume</td>\n",
              "      <td>2014</td>\n",
              "      <td>2014</td>\n",
              "    </tr>\n",
              "    <tr>\n",
              "      <th>20</th>\n",
              "      <td>1</td>\n",
              "      <td>Brasil</td>\n",
              "      <td>2</td>\n",
              "      <td>%</td>\n",
              "      <td>-3.5</td>\n",
              "      <td>1</td>\n",
              "      <td>Brasil</td>\n",
              "      <td>9810</td>\n",
              "      <td>PIB - variação em volume</td>\n",
              "      <td>2015</td>\n",
              "      <td>2015</td>\n",
              "    </tr>\n",
              "    <tr>\n",
              "      <th>21</th>\n",
              "      <td>1</td>\n",
              "      <td>Brasil</td>\n",
              "      <td>2</td>\n",
              "      <td>%</td>\n",
              "      <td>-3.3</td>\n",
              "      <td>1</td>\n",
              "      <td>Brasil</td>\n",
              "      <td>9810</td>\n",
              "      <td>PIB - variação em volume</td>\n",
              "      <td>2016</td>\n",
              "      <td>2016</td>\n",
              "    </tr>\n",
              "    <tr>\n",
              "      <th>22</th>\n",
              "      <td>1</td>\n",
              "      <td>Brasil</td>\n",
              "      <td>2</td>\n",
              "      <td>%</td>\n",
              "      <td>1.3</td>\n",
              "      <td>1</td>\n",
              "      <td>Brasil</td>\n",
              "      <td>9810</td>\n",
              "      <td>PIB - variação em volume</td>\n",
              "      <td>2017</td>\n",
              "      <td>2017</td>\n",
              "    </tr>\n",
              "    <tr>\n",
              "      <th>23</th>\n",
              "      <td>1</td>\n",
              "      <td>Brasil</td>\n",
              "      <td>2</td>\n",
              "      <td>%</td>\n",
              "      <td>1.8</td>\n",
              "      <td>1</td>\n",
              "      <td>Brasil</td>\n",
              "      <td>9810</td>\n",
              "      <td>PIB - variação em volume</td>\n",
              "      <td>2018</td>\n",
              "      <td>2018</td>\n",
              "    </tr>\n",
              "    <tr>\n",
              "      <th>24</th>\n",
              "      <td>1</td>\n",
              "      <td>Brasil</td>\n",
              "      <td>2</td>\n",
              "      <td>%</td>\n",
              "      <td>1.2</td>\n",
              "      <td>1</td>\n",
              "      <td>Brasil</td>\n",
              "      <td>9810</td>\n",
              "      <td>PIB - variação em volume</td>\n",
              "      <td>2019</td>\n",
              "      <td>2019</td>\n",
              "    </tr>\n",
              "  </tbody>\n",
              "</table>\n",
              "</div>"
            ],
            "text/plain": [
              "                            NC                 NN  ...           D3C   D3N\n",
              "0   Nível Territorial (Código)  Nível Territorial  ...  Ano (Código)   Ano\n",
              "1                            1             Brasil  ...          1996  1996\n",
              "2                            1             Brasil  ...          1997  1997\n",
              "3                            1             Brasil  ...          1998  1998\n",
              "4                            1             Brasil  ...          1999  1999\n",
              "5                            1             Brasil  ...          2000  2000\n",
              "6                            1             Brasil  ...          2001  2001\n",
              "7                            1             Brasil  ...          2002  2002\n",
              "8                            1             Brasil  ...          2003  2003\n",
              "9                            1             Brasil  ...          2004  2004\n",
              "10                           1             Brasil  ...          2005  2005\n",
              "11                           1             Brasil  ...          2006  2006\n",
              "12                           1             Brasil  ...          2007  2007\n",
              "13                           1             Brasil  ...          2008  2008\n",
              "14                           1             Brasil  ...          2009  2009\n",
              "15                           1             Brasil  ...          2010  2010\n",
              "16                           1             Brasil  ...          2011  2011\n",
              "17                           1             Brasil  ...          2012  2012\n",
              "18                           1             Brasil  ...          2013  2013\n",
              "19                           1             Brasil  ...          2014  2014\n",
              "20                           1             Brasil  ...          2015  2015\n",
              "21                           1             Brasil  ...          2016  2016\n",
              "22                           1             Brasil  ...          2017  2017\n",
              "23                           1             Brasil  ...          2018  2018\n",
              "24                           1             Brasil  ...          2019  2019\n",
              "\n",
              "[25 rows x 11 columns]"
            ]
          },
          "metadata": {},
          "execution_count": 16
        }
      ]
    },
    {
      "cell_type": "code",
      "metadata": {
        "id": "nV9zl9bPjprc"
      },
      "source": [
        "Pib = PIB.drop([0], axis=0) ### Excluindo a primeira linha do data frame, para permitir a leitura."
      ],
      "execution_count": null,
      "outputs": []
    },
    {
      "cell_type": "code",
      "metadata": {
        "colab": {
          "base_uri": "https://localhost:8080/",
          "height": 793
        },
        "id": "2Qe8UQ2Kjpuv",
        "outputId": "c0ef07a5-7419-4730-8c67-9904f3302725"
      },
      "source": [
        "Pib"
      ],
      "execution_count": null,
      "outputs": [
        {
          "output_type": "execute_result",
          "data": {
            "text/html": [
              "<div>\n",
              "<style scoped>\n",
              "    .dataframe tbody tr th:only-of-type {\n",
              "        vertical-align: middle;\n",
              "    }\n",
              "\n",
              "    .dataframe tbody tr th {\n",
              "        vertical-align: top;\n",
              "    }\n",
              "\n",
              "    .dataframe thead th {\n",
              "        text-align: right;\n",
              "    }\n",
              "</style>\n",
              "<table border=\"1\" class=\"dataframe\">\n",
              "  <thead>\n",
              "    <tr style=\"text-align: right;\">\n",
              "      <th></th>\n",
              "      <th>NC</th>\n",
              "      <th>NN</th>\n",
              "      <th>MC</th>\n",
              "      <th>MN</th>\n",
              "      <th>V</th>\n",
              "      <th>D1C</th>\n",
              "      <th>D1N</th>\n",
              "      <th>D2C</th>\n",
              "      <th>D2N</th>\n",
              "      <th>D3C</th>\n",
              "      <th>D3N</th>\n",
              "    </tr>\n",
              "  </thead>\n",
              "  <tbody>\n",
              "    <tr>\n",
              "      <th>1</th>\n",
              "      <td>1</td>\n",
              "      <td>Brasil</td>\n",
              "      <td>2</td>\n",
              "      <td>%</td>\n",
              "      <td>2.2</td>\n",
              "      <td>1</td>\n",
              "      <td>Brasil</td>\n",
              "      <td>9810</td>\n",
              "      <td>PIB - variação em volume</td>\n",
              "      <td>1996</td>\n",
              "      <td>1996</td>\n",
              "    </tr>\n",
              "    <tr>\n",
              "      <th>2</th>\n",
              "      <td>1</td>\n",
              "      <td>Brasil</td>\n",
              "      <td>2</td>\n",
              "      <td>%</td>\n",
              "      <td>3.4</td>\n",
              "      <td>1</td>\n",
              "      <td>Brasil</td>\n",
              "      <td>9810</td>\n",
              "      <td>PIB - variação em volume</td>\n",
              "      <td>1997</td>\n",
              "      <td>1997</td>\n",
              "    </tr>\n",
              "    <tr>\n",
              "      <th>3</th>\n",
              "      <td>1</td>\n",
              "      <td>Brasil</td>\n",
              "      <td>2</td>\n",
              "      <td>%</td>\n",
              "      <td>0.3</td>\n",
              "      <td>1</td>\n",
              "      <td>Brasil</td>\n",
              "      <td>9810</td>\n",
              "      <td>PIB - variação em volume</td>\n",
              "      <td>1998</td>\n",
              "      <td>1998</td>\n",
              "    </tr>\n",
              "    <tr>\n",
              "      <th>4</th>\n",
              "      <td>1</td>\n",
              "      <td>Brasil</td>\n",
              "      <td>2</td>\n",
              "      <td>%</td>\n",
              "      <td>0.5</td>\n",
              "      <td>1</td>\n",
              "      <td>Brasil</td>\n",
              "      <td>9810</td>\n",
              "      <td>PIB - variação em volume</td>\n",
              "      <td>1999</td>\n",
              "      <td>1999</td>\n",
              "    </tr>\n",
              "    <tr>\n",
              "      <th>5</th>\n",
              "      <td>1</td>\n",
              "      <td>Brasil</td>\n",
              "      <td>2</td>\n",
              "      <td>%</td>\n",
              "      <td>4.4</td>\n",
              "      <td>1</td>\n",
              "      <td>Brasil</td>\n",
              "      <td>9810</td>\n",
              "      <td>PIB - variação em volume</td>\n",
              "      <td>2000</td>\n",
              "      <td>2000</td>\n",
              "    </tr>\n",
              "    <tr>\n",
              "      <th>6</th>\n",
              "      <td>1</td>\n",
              "      <td>Brasil</td>\n",
              "      <td>2</td>\n",
              "      <td>%</td>\n",
              "      <td>1.4</td>\n",
              "      <td>1</td>\n",
              "      <td>Brasil</td>\n",
              "      <td>9810</td>\n",
              "      <td>PIB - variação em volume</td>\n",
              "      <td>2001</td>\n",
              "      <td>2001</td>\n",
              "    </tr>\n",
              "    <tr>\n",
              "      <th>7</th>\n",
              "      <td>1</td>\n",
              "      <td>Brasil</td>\n",
              "      <td>2</td>\n",
              "      <td>%</td>\n",
              "      <td>3.1</td>\n",
              "      <td>1</td>\n",
              "      <td>Brasil</td>\n",
              "      <td>9810</td>\n",
              "      <td>PIB - variação em volume</td>\n",
              "      <td>2002</td>\n",
              "      <td>2002</td>\n",
              "    </tr>\n",
              "    <tr>\n",
              "      <th>8</th>\n",
              "      <td>1</td>\n",
              "      <td>Brasil</td>\n",
              "      <td>2</td>\n",
              "      <td>%</td>\n",
              "      <td>1.1</td>\n",
              "      <td>1</td>\n",
              "      <td>Brasil</td>\n",
              "      <td>9810</td>\n",
              "      <td>PIB - variação em volume</td>\n",
              "      <td>2003</td>\n",
              "      <td>2003</td>\n",
              "    </tr>\n",
              "    <tr>\n",
              "      <th>9</th>\n",
              "      <td>1</td>\n",
              "      <td>Brasil</td>\n",
              "      <td>2</td>\n",
              "      <td>%</td>\n",
              "      <td>5.8</td>\n",
              "      <td>1</td>\n",
              "      <td>Brasil</td>\n",
              "      <td>9810</td>\n",
              "      <td>PIB - variação em volume</td>\n",
              "      <td>2004</td>\n",
              "      <td>2004</td>\n",
              "    </tr>\n",
              "    <tr>\n",
              "      <th>10</th>\n",
              "      <td>1</td>\n",
              "      <td>Brasil</td>\n",
              "      <td>2</td>\n",
              "      <td>%</td>\n",
              "      <td>3.2</td>\n",
              "      <td>1</td>\n",
              "      <td>Brasil</td>\n",
              "      <td>9810</td>\n",
              "      <td>PIB - variação em volume</td>\n",
              "      <td>2005</td>\n",
              "      <td>2005</td>\n",
              "    </tr>\n",
              "    <tr>\n",
              "      <th>11</th>\n",
              "      <td>1</td>\n",
              "      <td>Brasil</td>\n",
              "      <td>2</td>\n",
              "      <td>%</td>\n",
              "      <td>4.0</td>\n",
              "      <td>1</td>\n",
              "      <td>Brasil</td>\n",
              "      <td>9810</td>\n",
              "      <td>PIB - variação em volume</td>\n",
              "      <td>2006</td>\n",
              "      <td>2006</td>\n",
              "    </tr>\n",
              "    <tr>\n",
              "      <th>12</th>\n",
              "      <td>1</td>\n",
              "      <td>Brasil</td>\n",
              "      <td>2</td>\n",
              "      <td>%</td>\n",
              "      <td>6.1</td>\n",
              "      <td>1</td>\n",
              "      <td>Brasil</td>\n",
              "      <td>9810</td>\n",
              "      <td>PIB - variação em volume</td>\n",
              "      <td>2007</td>\n",
              "      <td>2007</td>\n",
              "    </tr>\n",
              "    <tr>\n",
              "      <th>13</th>\n",
              "      <td>1</td>\n",
              "      <td>Brasil</td>\n",
              "      <td>2</td>\n",
              "      <td>%</td>\n",
              "      <td>5.1</td>\n",
              "      <td>1</td>\n",
              "      <td>Brasil</td>\n",
              "      <td>9810</td>\n",
              "      <td>PIB - variação em volume</td>\n",
              "      <td>2008</td>\n",
              "      <td>2008</td>\n",
              "    </tr>\n",
              "    <tr>\n",
              "      <th>14</th>\n",
              "      <td>1</td>\n",
              "      <td>Brasil</td>\n",
              "      <td>2</td>\n",
              "      <td>%</td>\n",
              "      <td>-0.1</td>\n",
              "      <td>1</td>\n",
              "      <td>Brasil</td>\n",
              "      <td>9810</td>\n",
              "      <td>PIB - variação em volume</td>\n",
              "      <td>2009</td>\n",
              "      <td>2009</td>\n",
              "    </tr>\n",
              "    <tr>\n",
              "      <th>15</th>\n",
              "      <td>1</td>\n",
              "      <td>Brasil</td>\n",
              "      <td>2</td>\n",
              "      <td>%</td>\n",
              "      <td>7.5</td>\n",
              "      <td>1</td>\n",
              "      <td>Brasil</td>\n",
              "      <td>9810</td>\n",
              "      <td>PIB - variação em volume</td>\n",
              "      <td>2010</td>\n",
              "      <td>2010</td>\n",
              "    </tr>\n",
              "    <tr>\n",
              "      <th>16</th>\n",
              "      <td>1</td>\n",
              "      <td>Brasil</td>\n",
              "      <td>2</td>\n",
              "      <td>%</td>\n",
              "      <td>4.0</td>\n",
              "      <td>1</td>\n",
              "      <td>Brasil</td>\n",
              "      <td>9810</td>\n",
              "      <td>PIB - variação em volume</td>\n",
              "      <td>2011</td>\n",
              "      <td>2011</td>\n",
              "    </tr>\n",
              "    <tr>\n",
              "      <th>17</th>\n",
              "      <td>1</td>\n",
              "      <td>Brasil</td>\n",
              "      <td>2</td>\n",
              "      <td>%</td>\n",
              "      <td>1.9</td>\n",
              "      <td>1</td>\n",
              "      <td>Brasil</td>\n",
              "      <td>9810</td>\n",
              "      <td>PIB - variação em volume</td>\n",
              "      <td>2012</td>\n",
              "      <td>2012</td>\n",
              "    </tr>\n",
              "    <tr>\n",
              "      <th>18</th>\n",
              "      <td>1</td>\n",
              "      <td>Brasil</td>\n",
              "      <td>2</td>\n",
              "      <td>%</td>\n",
              "      <td>3.0</td>\n",
              "      <td>1</td>\n",
              "      <td>Brasil</td>\n",
              "      <td>9810</td>\n",
              "      <td>PIB - variação em volume</td>\n",
              "      <td>2013</td>\n",
              "      <td>2013</td>\n",
              "    </tr>\n",
              "    <tr>\n",
              "      <th>19</th>\n",
              "      <td>1</td>\n",
              "      <td>Brasil</td>\n",
              "      <td>2</td>\n",
              "      <td>%</td>\n",
              "      <td>0.5</td>\n",
              "      <td>1</td>\n",
              "      <td>Brasil</td>\n",
              "      <td>9810</td>\n",
              "      <td>PIB - variação em volume</td>\n",
              "      <td>2014</td>\n",
              "      <td>2014</td>\n",
              "    </tr>\n",
              "    <tr>\n",
              "      <th>20</th>\n",
              "      <td>1</td>\n",
              "      <td>Brasil</td>\n",
              "      <td>2</td>\n",
              "      <td>%</td>\n",
              "      <td>-3.5</td>\n",
              "      <td>1</td>\n",
              "      <td>Brasil</td>\n",
              "      <td>9810</td>\n",
              "      <td>PIB - variação em volume</td>\n",
              "      <td>2015</td>\n",
              "      <td>2015</td>\n",
              "    </tr>\n",
              "    <tr>\n",
              "      <th>21</th>\n",
              "      <td>1</td>\n",
              "      <td>Brasil</td>\n",
              "      <td>2</td>\n",
              "      <td>%</td>\n",
              "      <td>-3.3</td>\n",
              "      <td>1</td>\n",
              "      <td>Brasil</td>\n",
              "      <td>9810</td>\n",
              "      <td>PIB - variação em volume</td>\n",
              "      <td>2016</td>\n",
              "      <td>2016</td>\n",
              "    </tr>\n",
              "    <tr>\n",
              "      <th>22</th>\n",
              "      <td>1</td>\n",
              "      <td>Brasil</td>\n",
              "      <td>2</td>\n",
              "      <td>%</td>\n",
              "      <td>1.3</td>\n",
              "      <td>1</td>\n",
              "      <td>Brasil</td>\n",
              "      <td>9810</td>\n",
              "      <td>PIB - variação em volume</td>\n",
              "      <td>2017</td>\n",
              "      <td>2017</td>\n",
              "    </tr>\n",
              "    <tr>\n",
              "      <th>23</th>\n",
              "      <td>1</td>\n",
              "      <td>Brasil</td>\n",
              "      <td>2</td>\n",
              "      <td>%</td>\n",
              "      <td>1.8</td>\n",
              "      <td>1</td>\n",
              "      <td>Brasil</td>\n",
              "      <td>9810</td>\n",
              "      <td>PIB - variação em volume</td>\n",
              "      <td>2018</td>\n",
              "      <td>2018</td>\n",
              "    </tr>\n",
              "    <tr>\n",
              "      <th>24</th>\n",
              "      <td>1</td>\n",
              "      <td>Brasil</td>\n",
              "      <td>2</td>\n",
              "      <td>%</td>\n",
              "      <td>1.2</td>\n",
              "      <td>1</td>\n",
              "      <td>Brasil</td>\n",
              "      <td>9810</td>\n",
              "      <td>PIB - variação em volume</td>\n",
              "      <td>2019</td>\n",
              "      <td>2019</td>\n",
              "    </tr>\n",
              "  </tbody>\n",
              "</table>\n",
              "</div>"
            ],
            "text/plain": [
              "   NC      NN MC MN     V  ...     D1N   D2C                       D2N   D3C   D3N\n",
              "1   1  Brasil  2  %   2.2  ...  Brasil  9810  PIB - variação em volume  1996  1996\n",
              "2   1  Brasil  2  %   3.4  ...  Brasil  9810  PIB - variação em volume  1997  1997\n",
              "3   1  Brasil  2  %   0.3  ...  Brasil  9810  PIB - variação em volume  1998  1998\n",
              "4   1  Brasil  2  %   0.5  ...  Brasil  9810  PIB - variação em volume  1999  1999\n",
              "5   1  Brasil  2  %   4.4  ...  Brasil  9810  PIB - variação em volume  2000  2000\n",
              "6   1  Brasil  2  %   1.4  ...  Brasil  9810  PIB - variação em volume  2001  2001\n",
              "7   1  Brasil  2  %   3.1  ...  Brasil  9810  PIB - variação em volume  2002  2002\n",
              "8   1  Brasil  2  %   1.1  ...  Brasil  9810  PIB - variação em volume  2003  2003\n",
              "9   1  Brasil  2  %   5.8  ...  Brasil  9810  PIB - variação em volume  2004  2004\n",
              "10  1  Brasil  2  %   3.2  ...  Brasil  9810  PIB - variação em volume  2005  2005\n",
              "11  1  Brasil  2  %   4.0  ...  Brasil  9810  PIB - variação em volume  2006  2006\n",
              "12  1  Brasil  2  %   6.1  ...  Brasil  9810  PIB - variação em volume  2007  2007\n",
              "13  1  Brasil  2  %   5.1  ...  Brasil  9810  PIB - variação em volume  2008  2008\n",
              "14  1  Brasil  2  %  -0.1  ...  Brasil  9810  PIB - variação em volume  2009  2009\n",
              "15  1  Brasil  2  %   7.5  ...  Brasil  9810  PIB - variação em volume  2010  2010\n",
              "16  1  Brasil  2  %   4.0  ...  Brasil  9810  PIB - variação em volume  2011  2011\n",
              "17  1  Brasil  2  %   1.9  ...  Brasil  9810  PIB - variação em volume  2012  2012\n",
              "18  1  Brasil  2  %   3.0  ...  Brasil  9810  PIB - variação em volume  2013  2013\n",
              "19  1  Brasil  2  %   0.5  ...  Brasil  9810  PIB - variação em volume  2014  2014\n",
              "20  1  Brasil  2  %  -3.5  ...  Brasil  9810  PIB - variação em volume  2015  2015\n",
              "21  1  Brasil  2  %  -3.3  ...  Brasil  9810  PIB - variação em volume  2016  2016\n",
              "22  1  Brasil  2  %   1.3  ...  Brasil  9810  PIB - variação em volume  2017  2017\n",
              "23  1  Brasil  2  %   1.8  ...  Brasil  9810  PIB - variação em volume  2018  2018\n",
              "24  1  Brasil  2  %   1.2  ...  Brasil  9810  PIB - variação em volume  2019  2019\n",
              "\n",
              "[24 rows x 11 columns]"
            ]
          },
          "metadata": {},
          "execution_count": 18
        }
      ]
    },
    {
      "cell_type": "code",
      "metadata": {
        "id": "veMhCs-ydBD-"
      },
      "source": [
        "Pib.index = pd.to_datetime(Pib['D3C']) ### Tansformando a coluna Index em data."
      ],
      "execution_count": null,
      "outputs": []
    },
    {
      "cell_type": "code",
      "metadata": {
        "colab": {
          "base_uri": "https://localhost:8080/",
          "height": 824
        },
        "id": "41sMoi6NdNUk",
        "outputId": "2481061b-d0b4-4568-88a6-01375069b81d"
      },
      "source": [
        "Pib"
      ],
      "execution_count": null,
      "outputs": [
        {
          "output_type": "execute_result",
          "data": {
            "text/html": [
              "<div>\n",
              "<style scoped>\n",
              "    .dataframe tbody tr th:only-of-type {\n",
              "        vertical-align: middle;\n",
              "    }\n",
              "\n",
              "    .dataframe tbody tr th {\n",
              "        vertical-align: top;\n",
              "    }\n",
              "\n",
              "    .dataframe thead th {\n",
              "        text-align: right;\n",
              "    }\n",
              "</style>\n",
              "<table border=\"1\" class=\"dataframe\">\n",
              "  <thead>\n",
              "    <tr style=\"text-align: right;\">\n",
              "      <th></th>\n",
              "      <th>NC</th>\n",
              "      <th>NN</th>\n",
              "      <th>MC</th>\n",
              "      <th>MN</th>\n",
              "      <th>V</th>\n",
              "      <th>D1C</th>\n",
              "      <th>D1N</th>\n",
              "      <th>D2C</th>\n",
              "      <th>D2N</th>\n",
              "      <th>D3C</th>\n",
              "      <th>D3N</th>\n",
              "    </tr>\n",
              "    <tr>\n",
              "      <th>D3C</th>\n",
              "      <th></th>\n",
              "      <th></th>\n",
              "      <th></th>\n",
              "      <th></th>\n",
              "      <th></th>\n",
              "      <th></th>\n",
              "      <th></th>\n",
              "      <th></th>\n",
              "      <th></th>\n",
              "      <th></th>\n",
              "      <th></th>\n",
              "    </tr>\n",
              "  </thead>\n",
              "  <tbody>\n",
              "    <tr>\n",
              "      <th>1996-01-01</th>\n",
              "      <td>1</td>\n",
              "      <td>Brasil</td>\n",
              "      <td>2</td>\n",
              "      <td>%</td>\n",
              "      <td>2.2</td>\n",
              "      <td>1</td>\n",
              "      <td>Brasil</td>\n",
              "      <td>9810</td>\n",
              "      <td>PIB - variação em volume</td>\n",
              "      <td>1996</td>\n",
              "      <td>1996</td>\n",
              "    </tr>\n",
              "    <tr>\n",
              "      <th>1997-01-01</th>\n",
              "      <td>1</td>\n",
              "      <td>Brasil</td>\n",
              "      <td>2</td>\n",
              "      <td>%</td>\n",
              "      <td>3.4</td>\n",
              "      <td>1</td>\n",
              "      <td>Brasil</td>\n",
              "      <td>9810</td>\n",
              "      <td>PIB - variação em volume</td>\n",
              "      <td>1997</td>\n",
              "      <td>1997</td>\n",
              "    </tr>\n",
              "    <tr>\n",
              "      <th>1998-01-01</th>\n",
              "      <td>1</td>\n",
              "      <td>Brasil</td>\n",
              "      <td>2</td>\n",
              "      <td>%</td>\n",
              "      <td>0.3</td>\n",
              "      <td>1</td>\n",
              "      <td>Brasil</td>\n",
              "      <td>9810</td>\n",
              "      <td>PIB - variação em volume</td>\n",
              "      <td>1998</td>\n",
              "      <td>1998</td>\n",
              "    </tr>\n",
              "    <tr>\n",
              "      <th>1999-01-01</th>\n",
              "      <td>1</td>\n",
              "      <td>Brasil</td>\n",
              "      <td>2</td>\n",
              "      <td>%</td>\n",
              "      <td>0.5</td>\n",
              "      <td>1</td>\n",
              "      <td>Brasil</td>\n",
              "      <td>9810</td>\n",
              "      <td>PIB - variação em volume</td>\n",
              "      <td>1999</td>\n",
              "      <td>1999</td>\n",
              "    </tr>\n",
              "    <tr>\n",
              "      <th>2000-01-01</th>\n",
              "      <td>1</td>\n",
              "      <td>Brasil</td>\n",
              "      <td>2</td>\n",
              "      <td>%</td>\n",
              "      <td>4.4</td>\n",
              "      <td>1</td>\n",
              "      <td>Brasil</td>\n",
              "      <td>9810</td>\n",
              "      <td>PIB - variação em volume</td>\n",
              "      <td>2000</td>\n",
              "      <td>2000</td>\n",
              "    </tr>\n",
              "    <tr>\n",
              "      <th>2001-01-01</th>\n",
              "      <td>1</td>\n",
              "      <td>Brasil</td>\n",
              "      <td>2</td>\n",
              "      <td>%</td>\n",
              "      <td>1.4</td>\n",
              "      <td>1</td>\n",
              "      <td>Brasil</td>\n",
              "      <td>9810</td>\n",
              "      <td>PIB - variação em volume</td>\n",
              "      <td>2001</td>\n",
              "      <td>2001</td>\n",
              "    </tr>\n",
              "    <tr>\n",
              "      <th>2002-01-01</th>\n",
              "      <td>1</td>\n",
              "      <td>Brasil</td>\n",
              "      <td>2</td>\n",
              "      <td>%</td>\n",
              "      <td>3.1</td>\n",
              "      <td>1</td>\n",
              "      <td>Brasil</td>\n",
              "      <td>9810</td>\n",
              "      <td>PIB - variação em volume</td>\n",
              "      <td>2002</td>\n",
              "      <td>2002</td>\n",
              "    </tr>\n",
              "    <tr>\n",
              "      <th>2003-01-01</th>\n",
              "      <td>1</td>\n",
              "      <td>Brasil</td>\n",
              "      <td>2</td>\n",
              "      <td>%</td>\n",
              "      <td>1.1</td>\n",
              "      <td>1</td>\n",
              "      <td>Brasil</td>\n",
              "      <td>9810</td>\n",
              "      <td>PIB - variação em volume</td>\n",
              "      <td>2003</td>\n",
              "      <td>2003</td>\n",
              "    </tr>\n",
              "    <tr>\n",
              "      <th>2004-01-01</th>\n",
              "      <td>1</td>\n",
              "      <td>Brasil</td>\n",
              "      <td>2</td>\n",
              "      <td>%</td>\n",
              "      <td>5.8</td>\n",
              "      <td>1</td>\n",
              "      <td>Brasil</td>\n",
              "      <td>9810</td>\n",
              "      <td>PIB - variação em volume</td>\n",
              "      <td>2004</td>\n",
              "      <td>2004</td>\n",
              "    </tr>\n",
              "    <tr>\n",
              "      <th>2005-01-01</th>\n",
              "      <td>1</td>\n",
              "      <td>Brasil</td>\n",
              "      <td>2</td>\n",
              "      <td>%</td>\n",
              "      <td>3.2</td>\n",
              "      <td>1</td>\n",
              "      <td>Brasil</td>\n",
              "      <td>9810</td>\n",
              "      <td>PIB - variação em volume</td>\n",
              "      <td>2005</td>\n",
              "      <td>2005</td>\n",
              "    </tr>\n",
              "    <tr>\n",
              "      <th>2006-01-01</th>\n",
              "      <td>1</td>\n",
              "      <td>Brasil</td>\n",
              "      <td>2</td>\n",
              "      <td>%</td>\n",
              "      <td>4.0</td>\n",
              "      <td>1</td>\n",
              "      <td>Brasil</td>\n",
              "      <td>9810</td>\n",
              "      <td>PIB - variação em volume</td>\n",
              "      <td>2006</td>\n",
              "      <td>2006</td>\n",
              "    </tr>\n",
              "    <tr>\n",
              "      <th>2007-01-01</th>\n",
              "      <td>1</td>\n",
              "      <td>Brasil</td>\n",
              "      <td>2</td>\n",
              "      <td>%</td>\n",
              "      <td>6.1</td>\n",
              "      <td>1</td>\n",
              "      <td>Brasil</td>\n",
              "      <td>9810</td>\n",
              "      <td>PIB - variação em volume</td>\n",
              "      <td>2007</td>\n",
              "      <td>2007</td>\n",
              "    </tr>\n",
              "    <tr>\n",
              "      <th>2008-01-01</th>\n",
              "      <td>1</td>\n",
              "      <td>Brasil</td>\n",
              "      <td>2</td>\n",
              "      <td>%</td>\n",
              "      <td>5.1</td>\n",
              "      <td>1</td>\n",
              "      <td>Brasil</td>\n",
              "      <td>9810</td>\n",
              "      <td>PIB - variação em volume</td>\n",
              "      <td>2008</td>\n",
              "      <td>2008</td>\n",
              "    </tr>\n",
              "    <tr>\n",
              "      <th>2009-01-01</th>\n",
              "      <td>1</td>\n",
              "      <td>Brasil</td>\n",
              "      <td>2</td>\n",
              "      <td>%</td>\n",
              "      <td>-0.1</td>\n",
              "      <td>1</td>\n",
              "      <td>Brasil</td>\n",
              "      <td>9810</td>\n",
              "      <td>PIB - variação em volume</td>\n",
              "      <td>2009</td>\n",
              "      <td>2009</td>\n",
              "    </tr>\n",
              "    <tr>\n",
              "      <th>2010-01-01</th>\n",
              "      <td>1</td>\n",
              "      <td>Brasil</td>\n",
              "      <td>2</td>\n",
              "      <td>%</td>\n",
              "      <td>7.5</td>\n",
              "      <td>1</td>\n",
              "      <td>Brasil</td>\n",
              "      <td>9810</td>\n",
              "      <td>PIB - variação em volume</td>\n",
              "      <td>2010</td>\n",
              "      <td>2010</td>\n",
              "    </tr>\n",
              "    <tr>\n",
              "      <th>2011-01-01</th>\n",
              "      <td>1</td>\n",
              "      <td>Brasil</td>\n",
              "      <td>2</td>\n",
              "      <td>%</td>\n",
              "      <td>4.0</td>\n",
              "      <td>1</td>\n",
              "      <td>Brasil</td>\n",
              "      <td>9810</td>\n",
              "      <td>PIB - variação em volume</td>\n",
              "      <td>2011</td>\n",
              "      <td>2011</td>\n",
              "    </tr>\n",
              "    <tr>\n",
              "      <th>2012-01-01</th>\n",
              "      <td>1</td>\n",
              "      <td>Brasil</td>\n",
              "      <td>2</td>\n",
              "      <td>%</td>\n",
              "      <td>1.9</td>\n",
              "      <td>1</td>\n",
              "      <td>Brasil</td>\n",
              "      <td>9810</td>\n",
              "      <td>PIB - variação em volume</td>\n",
              "      <td>2012</td>\n",
              "      <td>2012</td>\n",
              "    </tr>\n",
              "    <tr>\n",
              "      <th>2013-01-01</th>\n",
              "      <td>1</td>\n",
              "      <td>Brasil</td>\n",
              "      <td>2</td>\n",
              "      <td>%</td>\n",
              "      <td>3.0</td>\n",
              "      <td>1</td>\n",
              "      <td>Brasil</td>\n",
              "      <td>9810</td>\n",
              "      <td>PIB - variação em volume</td>\n",
              "      <td>2013</td>\n",
              "      <td>2013</td>\n",
              "    </tr>\n",
              "    <tr>\n",
              "      <th>2014-01-01</th>\n",
              "      <td>1</td>\n",
              "      <td>Brasil</td>\n",
              "      <td>2</td>\n",
              "      <td>%</td>\n",
              "      <td>0.5</td>\n",
              "      <td>1</td>\n",
              "      <td>Brasil</td>\n",
              "      <td>9810</td>\n",
              "      <td>PIB - variação em volume</td>\n",
              "      <td>2014</td>\n",
              "      <td>2014</td>\n",
              "    </tr>\n",
              "    <tr>\n",
              "      <th>2015-01-01</th>\n",
              "      <td>1</td>\n",
              "      <td>Brasil</td>\n",
              "      <td>2</td>\n",
              "      <td>%</td>\n",
              "      <td>-3.5</td>\n",
              "      <td>1</td>\n",
              "      <td>Brasil</td>\n",
              "      <td>9810</td>\n",
              "      <td>PIB - variação em volume</td>\n",
              "      <td>2015</td>\n",
              "      <td>2015</td>\n",
              "    </tr>\n",
              "    <tr>\n",
              "      <th>2016-01-01</th>\n",
              "      <td>1</td>\n",
              "      <td>Brasil</td>\n",
              "      <td>2</td>\n",
              "      <td>%</td>\n",
              "      <td>-3.3</td>\n",
              "      <td>1</td>\n",
              "      <td>Brasil</td>\n",
              "      <td>9810</td>\n",
              "      <td>PIB - variação em volume</td>\n",
              "      <td>2016</td>\n",
              "      <td>2016</td>\n",
              "    </tr>\n",
              "    <tr>\n",
              "      <th>2017-01-01</th>\n",
              "      <td>1</td>\n",
              "      <td>Brasil</td>\n",
              "      <td>2</td>\n",
              "      <td>%</td>\n",
              "      <td>1.3</td>\n",
              "      <td>1</td>\n",
              "      <td>Brasil</td>\n",
              "      <td>9810</td>\n",
              "      <td>PIB - variação em volume</td>\n",
              "      <td>2017</td>\n",
              "      <td>2017</td>\n",
              "    </tr>\n",
              "    <tr>\n",
              "      <th>2018-01-01</th>\n",
              "      <td>1</td>\n",
              "      <td>Brasil</td>\n",
              "      <td>2</td>\n",
              "      <td>%</td>\n",
              "      <td>1.8</td>\n",
              "      <td>1</td>\n",
              "      <td>Brasil</td>\n",
              "      <td>9810</td>\n",
              "      <td>PIB - variação em volume</td>\n",
              "      <td>2018</td>\n",
              "      <td>2018</td>\n",
              "    </tr>\n",
              "    <tr>\n",
              "      <th>2019-01-01</th>\n",
              "      <td>1</td>\n",
              "      <td>Brasil</td>\n",
              "      <td>2</td>\n",
              "      <td>%</td>\n",
              "      <td>1.2</td>\n",
              "      <td>1</td>\n",
              "      <td>Brasil</td>\n",
              "      <td>9810</td>\n",
              "      <td>PIB - variação em volume</td>\n",
              "      <td>2019</td>\n",
              "      <td>2019</td>\n",
              "    </tr>\n",
              "  </tbody>\n",
              "</table>\n",
              "</div>"
            ],
            "text/plain": [
              "           NC      NN MC MN  ...   D2C                       D2N   D3C   D3N\n",
              "D3C                          ...                                            \n",
              "1996-01-01  1  Brasil  2  %  ...  9810  PIB - variação em volume  1996  1996\n",
              "1997-01-01  1  Brasil  2  %  ...  9810  PIB - variação em volume  1997  1997\n",
              "1998-01-01  1  Brasil  2  %  ...  9810  PIB - variação em volume  1998  1998\n",
              "1999-01-01  1  Brasil  2  %  ...  9810  PIB - variação em volume  1999  1999\n",
              "2000-01-01  1  Brasil  2  %  ...  9810  PIB - variação em volume  2000  2000\n",
              "2001-01-01  1  Brasil  2  %  ...  9810  PIB - variação em volume  2001  2001\n",
              "2002-01-01  1  Brasil  2  %  ...  9810  PIB - variação em volume  2002  2002\n",
              "2003-01-01  1  Brasil  2  %  ...  9810  PIB - variação em volume  2003  2003\n",
              "2004-01-01  1  Brasil  2  %  ...  9810  PIB - variação em volume  2004  2004\n",
              "2005-01-01  1  Brasil  2  %  ...  9810  PIB - variação em volume  2005  2005\n",
              "2006-01-01  1  Brasil  2  %  ...  9810  PIB - variação em volume  2006  2006\n",
              "2007-01-01  1  Brasil  2  %  ...  9810  PIB - variação em volume  2007  2007\n",
              "2008-01-01  1  Brasil  2  %  ...  9810  PIB - variação em volume  2008  2008\n",
              "2009-01-01  1  Brasil  2  %  ...  9810  PIB - variação em volume  2009  2009\n",
              "2010-01-01  1  Brasil  2  %  ...  9810  PIB - variação em volume  2010  2010\n",
              "2011-01-01  1  Brasil  2  %  ...  9810  PIB - variação em volume  2011  2011\n",
              "2012-01-01  1  Brasil  2  %  ...  9810  PIB - variação em volume  2012  2012\n",
              "2013-01-01  1  Brasil  2  %  ...  9810  PIB - variação em volume  2013  2013\n",
              "2014-01-01  1  Brasil  2  %  ...  9810  PIB - variação em volume  2014  2014\n",
              "2015-01-01  1  Brasil  2  %  ...  9810  PIB - variação em volume  2015  2015\n",
              "2016-01-01  1  Brasil  2  %  ...  9810  PIB - variação em volume  2016  2016\n",
              "2017-01-01  1  Brasil  2  %  ...  9810  PIB - variação em volume  2017  2017\n",
              "2018-01-01  1  Brasil  2  %  ...  9810  PIB - variação em volume  2018  2018\n",
              "2019-01-01  1  Brasil  2  %  ...  9810  PIB - variação em volume  2019  2019\n",
              "\n",
              "[24 rows x 11 columns]"
            ]
          },
          "metadata": {},
          "execution_count": 22
        }
      ]
    },
    {
      "cell_type": "code",
      "metadata": {
        "id": "q9ZbpfLbdNfB"
      },
      "source": [
        "pib = Pib['V'] ### Estamos eliminando a coluna de datas antiga."
      ],
      "execution_count": null,
      "outputs": []
    },
    {
      "cell_type": "code",
      "metadata": {
        "colab": {
          "base_uri": "https://localhost:8080/"
        },
        "id": "blYwtqQCQGFh",
        "outputId": "9749ef5b-dd1f-4147-b58b-79f8cb483584"
      },
      "source": [
        "pib"
      ],
      "execution_count": null,
      "outputs": [
        {
          "output_type": "execute_result",
          "data": {
            "text/plain": [
              "D3C\n",
              "1996-01-01     2.2\n",
              "1997-01-01     3.4\n",
              "1998-01-01     0.3\n",
              "1999-01-01     0.5\n",
              "2000-01-01     4.4\n",
              "2001-01-01     1.4\n",
              "2002-01-01     3.1\n",
              "2003-01-01     1.1\n",
              "2004-01-01     5.8\n",
              "2005-01-01     3.2\n",
              "2006-01-01     4.0\n",
              "2007-01-01     6.1\n",
              "2008-01-01     5.1\n",
              "2009-01-01    -0.1\n",
              "2010-01-01     7.5\n",
              "2011-01-01     4.0\n",
              "2012-01-01     1.9\n",
              "2013-01-01     3.0\n",
              "2014-01-01     0.5\n",
              "2015-01-01    -3.5\n",
              "2016-01-01    -3.3\n",
              "2017-01-01     1.3\n",
              "2018-01-01     1.8\n",
              "2019-01-01     1.2\n",
              "Name: V, dtype: object"
            ]
          },
          "metadata": {},
          "execution_count": 25
        }
      ]
    },
    {
      "cell_type": "code",
      "metadata": {
        "id": "n32oEGDXdNiP"
      },
      "source": [
        "pibr = pib.astype(float) ### Convertendo a arquivo para uma formato númerico (flat)."
      ],
      "execution_count": null,
      "outputs": []
    },
    {
      "cell_type": "code",
      "metadata": {
        "colab": {
          "base_uri": "https://localhost:8080/",
          "height": 733
        },
        "id": "cFBXcV8GdNlc",
        "outputId": "07756e5a-6f56-4e91-b5cc-da25e3126acb"
      },
      "source": [
        "pibr.plot()"
      ],
      "execution_count": null,
      "outputs": [
        {
          "output_type": "execute_result",
          "data": {
            "text/plain": [
              "<matplotlib.axes._subplots.AxesSubplot at 0x7f2b63f99a50>"
            ]
          },
          "metadata": {},
          "execution_count": 28
        },
        {
          "output_type": "display_data",
          "data": {
            "image/png": "[encoded data removed]",
            "text/plain": [
              "<Figure size 864x864 with 1 Axes>"
            ]
          },
          "metadata": {
            "needs_background": "light"
          }
        }
      ]
    },
    {
      "cell_type": "code",
      "metadata": {
        "colab": {
          "base_uri": "https://localhost:8080/",
          "height": 537
        },
        "id": "Nj1YYEuodmyz",
        "outputId": "a46a52ec-f2f8-41ca-c3ef-470425335723"
      },
      "source": [
        "plt.rcParams['figure.figsize'] = (12,8)\n",
        "plt.title('PIB Real - 1996-2019',fontsize = 16)\n",
        "plt.plot(pibr,lw =2, label = 'Taxa de crescimento do PIB', c= 'b')\n",
        "plt.ylabel(\"Taxa de crescimento do PIB\",fontsize = 15)\n",
        "plt.xlabel('Meses/anos',fontsize = 15)\n",
        "plt.legend(loc = 'upper left')"
      ],
      "execution_count": null,
      "outputs": [
        {
          "output_type": "execute_result",
          "data": {
            "text/plain": [
              "<matplotlib.legend.Legend at 0x7f2b61f53750>"
            ]
          },
          "metadata": {},
          "execution_count": 29
        },
        {
          "output_type": "display_data",
          "data": {
            "image/png": "[encoded data removed]",
            "text/plain": [
              "<Figure size 864x576 with 1 Axes>"
            ]
          },
          "metadata": {
            "needs_background": "light"
          }
        }
      ]
    }
  ]
}