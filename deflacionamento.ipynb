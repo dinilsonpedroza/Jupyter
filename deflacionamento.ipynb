{
  "nbformat": 4,
  "nbformat_minor": 0,
  "metadata": {
    "colab": {
      "name": "deflacionamento.ipynb",
      "provenance": [],
      "collapsed_sections": [],
      "authorship_tag": "ABX9TyMCZHcP9F8HpPBW0C6dWEJh",
      "include_colab_link": true
    },
    "kernelspec": {
      "name": "python3",
      "display_name": "Python 3"
    },
    "language_info": {
      "name": "python"
    }
  },
  "cells": [
    {
      "cell_type": "markdown",
      "metadata": {
        "id": "view-in-github",
        "colab_type": "text"
      },
      "source": [
        "<a href=\"https://colab.research.google.com/github/dinilsonpedroza/Jupyter/blob/main/deflacionamento.ipynb\" target=\"_parent\"><img src=\"https://colab.research.google.com/assets/colab-badge.svg\" alt=\"Open In Colab\"/></a>"
      ]
    },
    {
      "cell_type": "markdown",
      "metadata": {
        "id": "hgf4AncviEcI"
      },
      "source": [
        "**DEFLACIONAMENTO**\n",
        "------\n",
        "***"
      ]
    },
    {
      "cell_type": "code",
      "metadata": {
        "id": "x1VAEyDYim3m"
      },
      "source": [
        "import pandas as pd\n",
        "import numpy as np\n",
        "from matplotlib import pyplot as plt\n",
        "from urllib.request import urlopen ### Bibliotecas que serão usadas no trabalho."
      ],
      "execution_count": 201,
      "outputs": []
    },
    {
      "cell_type": "markdown",
      "metadata": {
        "id": "ix4xDO-0lFEG"
      },
      "source": [
        "Na raspagem de dados usamos uma função do *Pandas* que permite trazer para nosso espaço de trabalho um objeto arquivado em **Json** (Java Script Object Notation, formato ideal para transferência de arquivos). Para que a operação seja possível, é necessário que o site onde pegamos os dados disponha de **API** (Application Programming Interface, rotinas que facilitam a transferênica de dados em sites nos quais eles esteja arquivados). Como pretendemos apresentar o PIB em termos nominais, a séries trabalhadas serão: **PIB per capita nominal** e **índice de preços**. Ambas do IBGE."
      ]
    },
    {
      "cell_type": "markdown",
      "metadata": {
        "id": "iO6u1M850sOn"
      },
      "source": [
        "**PIB per capita nominal**\n",
        "---\n"
      ]
    },
    {
      "cell_type": "code",
      "metadata": {
        "id": "nMP24_XLjXif"
      },
      "source": [
        "linkPIBpc= 'https://apisidra.ibge.gov.br/values/t/6784/n1/all/v/9812/p/all/d/v9812%202' ### PIB pc nominal. Este endereço foi pego no SIDRA - IBGE."
      ],
      "execution_count": 202,
      "outputs": []
    },
    {
      "cell_type": "code",
      "metadata": {
        "id": "Q9-k-PukjX5j"
      },
      "source": [
        "DFPIBpc = pd.read_json(linkPIBpc) ### Usando a função read_json para fazer a raspagem de dados com o link anterior."
      ],
      "execution_count": 203,
      "outputs": []
    },
    {
      "cell_type": "code",
      "metadata": {
        "colab": {
          "base_uri": "https://localhost:8080/",
          "height": 293
        },
        "id": "ye8KZIeIjX8v",
        "outputId": "752f9da0-c356-4543-af6f-e13ce9a0d8b7"
      },
      "source": [
        "DFPIBpc.head() ### Visualizando o início da tabela que foi pega (um data frame)."
      ],
      "execution_count": 204,
      "outputs": [
        {
          "output_type": "execute_result",
          "data": {
            "text/html": [
              "<div>\n",
              "<style scoped>\n",
              "    .dataframe tbody tr th:only-of-type {\n",
              "        vertical-align: middle;\n",
              "    }\n",
              "\n",
              "    .dataframe tbody tr th {\n",
              "        vertical-align: top;\n",
              "    }\n",
              "\n",
              "    .dataframe thead th {\n",
              "        text-align: right;\n",
              "    }\n",
              "</style>\n",
              "<table border=\"1\" class=\"dataframe\">\n",
              "  <thead>\n",
              "    <tr style=\"text-align: right;\">\n",
              "      <th></th>\n",
              "      <th>NC</th>\n",
              "      <th>NN</th>\n",
              "      <th>MC</th>\n",
              "      <th>MN</th>\n",
              "      <th>V</th>\n",
              "      <th>D1C</th>\n",
              "      <th>D1N</th>\n",
              "      <th>D2C</th>\n",
              "      <th>D2N</th>\n",
              "      <th>D3C</th>\n",
              "      <th>D3N</th>\n",
              "    </tr>\n",
              "  </thead>\n",
              "  <tbody>\n",
              "    <tr>\n",
              "      <th>0</th>\n",
              "      <td>Nível Territorial (Código)</td>\n",
              "      <td>Nível Territorial</td>\n",
              "      <td>Unidade de Medida (Código)</td>\n",
              "      <td>Unidade de Medida</td>\n",
              "      <td>Valor</td>\n",
              "      <td>Brasil (Código)</td>\n",
              "      <td>Brasil</td>\n",
              "      <td>Variável (Código)</td>\n",
              "      <td>Variável</td>\n",
              "      <td>Ano (Código)</td>\n",
              "      <td>Ano</td>\n",
              "    </tr>\n",
              "    <tr>\n",
              "      <th>1</th>\n",
              "      <td>1</td>\n",
              "      <td>Brasil</td>\n",
              "      <td>38</td>\n",
              "      <td>Reais</td>\n",
              "      <td>5219.36</td>\n",
              "      <td>1</td>\n",
              "      <td>Brasil</td>\n",
              "      <td>9812</td>\n",
              "      <td>PIB per capita - valores correntes</td>\n",
              "      <td>1996</td>\n",
              "      <td>1996</td>\n",
              "    </tr>\n",
              "    <tr>\n",
              "      <th>2</th>\n",
              "      <td>1</td>\n",
              "      <td>Brasil</td>\n",
              "      <td>38</td>\n",
              "      <td>Reais</td>\n",
              "      <td>5729.02</td>\n",
              "      <td>1</td>\n",
              "      <td>Brasil</td>\n",
              "      <td>9812</td>\n",
              "      <td>PIB per capita - valores correntes</td>\n",
              "      <td>1997</td>\n",
              "      <td>1997</td>\n",
              "    </tr>\n",
              "    <tr>\n",
              "      <th>3</th>\n",
              "      <td>1</td>\n",
              "      <td>Brasil</td>\n",
              "      <td>38</td>\n",
              "      <td>Reais</td>\n",
              "      <td>5944.92</td>\n",
              "      <td>1</td>\n",
              "      <td>Brasil</td>\n",
              "      <td>9812</td>\n",
              "      <td>PIB per capita - valores correntes</td>\n",
              "      <td>1998</td>\n",
              "      <td>1998</td>\n",
              "    </tr>\n",
              "    <tr>\n",
              "      <th>4</th>\n",
              "      <td>1</td>\n",
              "      <td>Brasil</td>\n",
              "      <td>38</td>\n",
              "      <td>Reais</td>\n",
              "      <td>6359.80</td>\n",
              "      <td>1</td>\n",
              "      <td>Brasil</td>\n",
              "      <td>9812</td>\n",
              "      <td>PIB per capita - valores correntes</td>\n",
              "      <td>1999</td>\n",
              "      <td>1999</td>\n",
              "    </tr>\n",
              "  </tbody>\n",
              "</table>\n",
              "</div>"
            ],
            "text/plain": [
              "                           NC                 NN  ...           D3C   D3N\n",
              "0  Nível Territorial (Código)  Nível Territorial  ...  Ano (Código)   Ano\n",
              "1                           1             Brasil  ...          1996  1996\n",
              "2                           1             Brasil  ...          1997  1997\n",
              "3                           1             Brasil  ...          1998  1998\n",
              "4                           1             Brasil  ...          1999  1999\n",
              "\n",
              "[5 rows x 11 columns]"
            ]
          },
          "metadata": {},
          "execution_count": 204
        }
      ]
    },
    {
      "cell_type": "code",
      "metadata": {
        "colab": {
          "base_uri": "https://localhost:8080/"
        },
        "id": "049ZRy9UjYAU",
        "outputId": "ecdfc7c2-5480-4798-dcfc-766824aaf7ec"
      },
      "source": [
        "type(DFPIBpc) ### Verificando o tipo de objeto criado: data frame."
      ],
      "execution_count": 205,
      "outputs": [
        {
          "output_type": "execute_result",
          "data": {
            "text/plain": [
              "pandas.core.frame.DataFrame"
            ]
          },
          "metadata": {},
          "execution_count": 205
        }
      ]
    },
    {
      "cell_type": "code",
      "metadata": {
        "id": "6kRQtCHPjYDe"
      },
      "source": [
        "PIBpc = DFPIBpc.drop([0], axis=0) ### Excluindo a primeira linha do data frame, para facilitar a leitura."
      ],
      "execution_count": 206,
      "outputs": []
    },
    {
      "cell_type": "code",
      "metadata": {
        "colab": {
          "base_uri": "https://localhost:8080/",
          "height": 206
        },
        "id": "IZ2fhRz-jYKc",
        "outputId": "a0341334-f1cc-464b-d993-c46a59f99f29"
      },
      "source": [
        "PIBpc.head()"
      ],
      "execution_count": 207,
      "outputs": [
        {
          "output_type": "execute_result",
          "data": {
            "text/html": [
              "<div>\n",
              "<style scoped>\n",
              "    .dataframe tbody tr th:only-of-type {\n",
              "        vertical-align: middle;\n",
              "    }\n",
              "\n",
              "    .dataframe tbody tr th {\n",
              "        vertical-align: top;\n",
              "    }\n",
              "\n",
              "    .dataframe thead th {\n",
              "        text-align: right;\n",
              "    }\n",
              "</style>\n",
              "<table border=\"1\" class=\"dataframe\">\n",
              "  <thead>\n",
              "    <tr style=\"text-align: right;\">\n",
              "      <th></th>\n",
              "      <th>NC</th>\n",
              "      <th>NN</th>\n",
              "      <th>MC</th>\n",
              "      <th>MN</th>\n",
              "      <th>V</th>\n",
              "      <th>D1C</th>\n",
              "      <th>D1N</th>\n",
              "      <th>D2C</th>\n",
              "      <th>D2N</th>\n",
              "      <th>D3C</th>\n",
              "      <th>D3N</th>\n",
              "    </tr>\n",
              "  </thead>\n",
              "  <tbody>\n",
              "    <tr>\n",
              "      <th>1</th>\n",
              "      <td>1</td>\n",
              "      <td>Brasil</td>\n",
              "      <td>38</td>\n",
              "      <td>Reais</td>\n",
              "      <td>5219.36</td>\n",
              "      <td>1</td>\n",
              "      <td>Brasil</td>\n",
              "      <td>9812</td>\n",
              "      <td>PIB per capita - valores correntes</td>\n",
              "      <td>1996</td>\n",
              "      <td>1996</td>\n",
              "    </tr>\n",
              "    <tr>\n",
              "      <th>2</th>\n",
              "      <td>1</td>\n",
              "      <td>Brasil</td>\n",
              "      <td>38</td>\n",
              "      <td>Reais</td>\n",
              "      <td>5729.02</td>\n",
              "      <td>1</td>\n",
              "      <td>Brasil</td>\n",
              "      <td>9812</td>\n",
              "      <td>PIB per capita - valores correntes</td>\n",
              "      <td>1997</td>\n",
              "      <td>1997</td>\n",
              "    </tr>\n",
              "    <tr>\n",
              "      <th>3</th>\n",
              "      <td>1</td>\n",
              "      <td>Brasil</td>\n",
              "      <td>38</td>\n",
              "      <td>Reais</td>\n",
              "      <td>5944.92</td>\n",
              "      <td>1</td>\n",
              "      <td>Brasil</td>\n",
              "      <td>9812</td>\n",
              "      <td>PIB per capita - valores correntes</td>\n",
              "      <td>1998</td>\n",
              "      <td>1998</td>\n",
              "    </tr>\n",
              "    <tr>\n",
              "      <th>4</th>\n",
              "      <td>1</td>\n",
              "      <td>Brasil</td>\n",
              "      <td>38</td>\n",
              "      <td>Reais</td>\n",
              "      <td>6359.80</td>\n",
              "      <td>1</td>\n",
              "      <td>Brasil</td>\n",
              "      <td>9812</td>\n",
              "      <td>PIB per capita - valores correntes</td>\n",
              "      <td>1999</td>\n",
              "      <td>1999</td>\n",
              "    </tr>\n",
              "    <tr>\n",
              "      <th>5</th>\n",
              "      <td>1</td>\n",
              "      <td>Brasil</td>\n",
              "      <td>38</td>\n",
              "      <td>Reais</td>\n",
              "      <td>6900.62</td>\n",
              "      <td>1</td>\n",
              "      <td>Brasil</td>\n",
              "      <td>9812</td>\n",
              "      <td>PIB per capita - valores correntes</td>\n",
              "      <td>2000</td>\n",
              "      <td>2000</td>\n",
              "    </tr>\n",
              "  </tbody>\n",
              "</table>\n",
              "</div>"
            ],
            "text/plain": [
              "  NC      NN  MC     MN  ...   D2C                                 D2N   D3C   D3N\n",
              "1  1  Brasil  38  Reais  ...  9812  PIB per capita - valores correntes  1996  1996\n",
              "2  1  Brasil  38  Reais  ...  9812  PIB per capita - valores correntes  1997  1997\n",
              "3  1  Brasil  38  Reais  ...  9812  PIB per capita - valores correntes  1998  1998\n",
              "4  1  Brasil  38  Reais  ...  9812  PIB per capita - valores correntes  1999  1999\n",
              "5  1  Brasil  38  Reais  ...  9812  PIB per capita - valores correntes  2000  2000\n",
              "\n",
              "[5 rows x 11 columns]"
            ]
          },
          "metadata": {},
          "execution_count": 207
        }
      ]
    },
    {
      "cell_type": "code",
      "metadata": {
        "id": "I-P8evVPIQxp"
      },
      "source": [
        "pibpc = PIBpc[[\"V\", \"D3C\"]] ### Criando um outro data frame só com os valores que interessam."
      ],
      "execution_count": 218,
      "outputs": []
    },
    {
      "cell_type": "code",
      "metadata": {
        "colab": {
          "base_uri": "https://localhost:8080/",
          "height": 206
        },
        "id": "xnwjvXXhIQ0Z",
        "outputId": "ba521d74-ce30-47de-c50d-363c5f653b71"
      },
      "source": [
        "pibpc.head()"
      ],
      "execution_count": 219,
      "outputs": [
        {
          "output_type": "execute_result",
          "data": {
            "text/html": [
              "<div>\n",
              "<style scoped>\n",
              "    .dataframe tbody tr th:only-of-type {\n",
              "        vertical-align: middle;\n",
              "    }\n",
              "\n",
              "    .dataframe tbody tr th {\n",
              "        vertical-align: top;\n",
              "    }\n",
              "\n",
              "    .dataframe thead th {\n",
              "        text-align: right;\n",
              "    }\n",
              "</style>\n",
              "<table border=\"1\" class=\"dataframe\">\n",
              "  <thead>\n",
              "    <tr style=\"text-align: right;\">\n",
              "      <th></th>\n",
              "      <th>V</th>\n",
              "      <th>D3C</th>\n",
              "    </tr>\n",
              "  </thead>\n",
              "  <tbody>\n",
              "    <tr>\n",
              "      <th>1</th>\n",
              "      <td>5219.36</td>\n",
              "      <td>1996</td>\n",
              "    </tr>\n",
              "    <tr>\n",
              "      <th>2</th>\n",
              "      <td>5729.02</td>\n",
              "      <td>1997</td>\n",
              "    </tr>\n",
              "    <tr>\n",
              "      <th>3</th>\n",
              "      <td>5944.92</td>\n",
              "      <td>1998</td>\n",
              "    </tr>\n",
              "    <tr>\n",
              "      <th>4</th>\n",
              "      <td>6359.80</td>\n",
              "      <td>1999</td>\n",
              "    </tr>\n",
              "    <tr>\n",
              "      <th>5</th>\n",
              "      <td>6900.62</td>\n",
              "      <td>2000</td>\n",
              "    </tr>\n",
              "  </tbody>\n",
              "</table>\n",
              "</div>"
            ],
            "text/plain": [
              "         V   D3C\n",
              "1  5219.36  1996\n",
              "2  5729.02  1997\n",
              "3  5944.92  1998\n",
              "4  6359.80  1999\n",
              "5  6900.62  2000"
            ]
          },
          "metadata": {},
          "execution_count": 219
        }
      ]
    },
    {
      "cell_type": "code",
      "metadata": {
        "colab": {
          "base_uri": "https://localhost:8080/"
        },
        "id": "t2EU3527hezd",
        "outputId": "8d908d24-e307-4b6d-e9b7-045fdbc7715e"
      },
      "source": [
        "pibpc.rename(columns={'D3C': 'Anos'}, inplace = True) ### Renomeando a coluna de datas (de D3C para Anos)."
      ],
      "execution_count": 220,
      "outputs": [
        {
          "output_type": "stream",
          "name": "stderr",
          "text": [
            "/usr/local/lib/python3.7/dist-packages/pandas/core/frame.py:4308: SettingWithCopyWarning: \n",
            "A value is trying to be set on a copy of a slice from a DataFrame\n",
            "\n",
            "See the caveats in the documentation: https://pandas.pydata.org/pandas-docs/stable/user_guide/indexing.html#returning-a-view-versus-a-copy\n",
            "  errors=errors,\n"
          ]
        }
      ]
    },
    {
      "cell_type": "markdown",
      "metadata": {
        "id": "H_JwX-IDtTG6"
      },
      "source": [
        "Apesar no nome da variável (\"Anos\") se referir a uma unidade de tempo, a coluna não é, para o Python, uma coluna de datas. Precisamos transformá-la em tempo. Uma das formas é a empregada a seguir: vamos fazer com que a coluna \"Index\", que sempre consta nos data frames, seja considerada, ela, a coluna do tempo."
      ]
    },
    {
      "cell_type": "code",
      "metadata": {
        "id": "Nlyb9H1QDBvi"
      },
      "source": [
        "pibpc.index= pd.DatetimeIndex(pibpc['Anos']).year"
      ],
      "execution_count": 221,
      "outputs": []
    },
    {
      "cell_type": "code",
      "metadata": {
        "colab": {
          "base_uri": "https://localhost:8080/",
          "height": 238
        },
        "id": "mB0CIqCzlrwC",
        "outputId": "c52b9b03-5794-477e-bbc2-09d6723ce670"
      },
      "source": [
        "pibpc.head()"
      ],
      "execution_count": 223,
      "outputs": [
        {
          "output_type": "execute_result",
          "data": {
            "text/html": [
              "<div>\n",
              "<style scoped>\n",
              "    .dataframe tbody tr th:only-of-type {\n",
              "        vertical-align: middle;\n",
              "    }\n",
              "\n",
              "    .dataframe tbody tr th {\n",
              "        vertical-align: top;\n",
              "    }\n",
              "\n",
              "    .dataframe thead th {\n",
              "        text-align: right;\n",
              "    }\n",
              "</style>\n",
              "<table border=\"1\" class=\"dataframe\">\n",
              "  <thead>\n",
              "    <tr style=\"text-align: right;\">\n",
              "      <th></th>\n",
              "      <th>V</th>\n",
              "      <th>Anos</th>\n",
              "    </tr>\n",
              "    <tr>\n",
              "      <th>Anos</th>\n",
              "      <th></th>\n",
              "      <th></th>\n",
              "    </tr>\n",
              "  </thead>\n",
              "  <tbody>\n",
              "    <tr>\n",
              "      <th>1996</th>\n",
              "      <td>5219.36</td>\n",
              "      <td>1996</td>\n",
              "    </tr>\n",
              "    <tr>\n",
              "      <th>1997</th>\n",
              "      <td>5729.02</td>\n",
              "      <td>1997</td>\n",
              "    </tr>\n",
              "    <tr>\n",
              "      <th>1998</th>\n",
              "      <td>5944.92</td>\n",
              "      <td>1998</td>\n",
              "    </tr>\n",
              "    <tr>\n",
              "      <th>1999</th>\n",
              "      <td>6359.80</td>\n",
              "      <td>1999</td>\n",
              "    </tr>\n",
              "    <tr>\n",
              "      <th>2000</th>\n",
              "      <td>6900.62</td>\n",
              "      <td>2000</td>\n",
              "    </tr>\n",
              "  </tbody>\n",
              "</table>\n",
              "</div>"
            ],
            "text/plain": [
              "            V  Anos\n",
              "Anos               \n",
              "1996  5219.36  1996\n",
              "1997  5729.02  1997\n",
              "1998  5944.92  1998\n",
              "1999  6359.80  1999\n",
              "2000  6900.62  2000"
            ]
          },
          "metadata": {},
          "execution_count": 223
        }
      ]
    },
    {
      "cell_type": "markdown",
      "metadata": {
        "id": "7M7LQeBQt9O9"
      },
      "source": [
        "Notem que a terceira coluna do data frame *pibpc* é redundante. Vamos tratar de excluí-la."
      ]
    },
    {
      "cell_type": "code",
      "metadata": {
        "id": "yaZkRZoYw3hr",
        "colab": {
          "base_uri": "https://localhost:8080/"
        },
        "outputId": "4aa3f903-3de4-40d8-a216-ccbbaf2e9f22"
      },
      "source": [
        "pibpcdf = pibpc.drop(pibpc.columns[[1]], axis=1, inplace=True) ### Atenção para as mudanças de nomes, não são obrigatórias."
      ],
      "execution_count": 224,
      "outputs": [
        {
          "output_type": "stream",
          "name": "stderr",
          "text": [
            "/usr/local/lib/python3.7/dist-packages/pandas/core/frame.py:4174: SettingWithCopyWarning: \n",
            "A value is trying to be set on a copy of a slice from a DataFrame\n",
            "\n",
            "See the caveats in the documentation: https://pandas.pydata.org/pandas-docs/stable/user_guide/indexing.html#returning-a-view-versus-a-copy\n",
            "  errors=errors,\n"
          ]
        }
      ]
    },
    {
      "cell_type": "code",
      "metadata": {
        "id": "ZDss3j41lr6K"
      },
      "source": [
        "PIBPC = pibpc.astype(float) ### Convertendo a arquivo para uma formato númerico (float). Atenção para a mudança de nome, mais uma vez."
      ],
      "execution_count": 225,
      "outputs": []
    },
    {
      "cell_type": "code",
      "metadata": {
        "colab": {
          "base_uri": "https://localhost:8080/",
          "height": 238
        },
        "id": "a0X4700Fw9ou",
        "outputId": "d172b010-e5b1-4db0-b6cb-d7bace23da9c"
      },
      "source": [
        "PIBPC.head()"
      ],
      "execution_count": 226,
      "outputs": [
        {
          "output_type": "execute_result",
          "data": {
            "text/html": [
              "<div>\n",
              "<style scoped>\n",
              "    .dataframe tbody tr th:only-of-type {\n",
              "        vertical-align: middle;\n",
              "    }\n",
              "\n",
              "    .dataframe tbody tr th {\n",
              "        vertical-align: top;\n",
              "    }\n",
              "\n",
              "    .dataframe thead th {\n",
              "        text-align: right;\n",
              "    }\n",
              "</style>\n",
              "<table border=\"1\" class=\"dataframe\">\n",
              "  <thead>\n",
              "    <tr style=\"text-align: right;\">\n",
              "      <th></th>\n",
              "      <th>V</th>\n",
              "    </tr>\n",
              "    <tr>\n",
              "      <th>Anos</th>\n",
              "      <th></th>\n",
              "    </tr>\n",
              "  </thead>\n",
              "  <tbody>\n",
              "    <tr>\n",
              "      <th>1996</th>\n",
              "      <td>5219.36</td>\n",
              "    </tr>\n",
              "    <tr>\n",
              "      <th>1997</th>\n",
              "      <td>5729.02</td>\n",
              "    </tr>\n",
              "    <tr>\n",
              "      <th>1998</th>\n",
              "      <td>5944.92</td>\n",
              "    </tr>\n",
              "    <tr>\n",
              "      <th>1999</th>\n",
              "      <td>6359.80</td>\n",
              "    </tr>\n",
              "    <tr>\n",
              "      <th>2000</th>\n",
              "      <td>6900.62</td>\n",
              "    </tr>\n",
              "  </tbody>\n",
              "</table>\n",
              "</div>"
            ],
            "text/plain": [
              "            V\n",
              "Anos         \n",
              "1996  5219.36\n",
              "1997  5729.02\n",
              "1998  5944.92\n",
              "1999  6359.80\n",
              "2000  6900.62"
            ]
          },
          "metadata": {},
          "execution_count": 226
        }
      ]
    },
    {
      "cell_type": "code",
      "metadata": {
        "colab": {
          "base_uri": "https://localhost:8080/",
          "height": 238
        },
        "id": "7APWqGo0E83K",
        "outputId": "3e445779-ec7f-4de8-8883-af67a9147a28"
      },
      "source": [
        "PIBPC.tail()"
      ],
      "execution_count": 227,
      "outputs": [
        {
          "output_type": "execute_result",
          "data": {
            "text/html": [
              "<div>\n",
              "<style scoped>\n",
              "    .dataframe tbody tr th:only-of-type {\n",
              "        vertical-align: middle;\n",
              "    }\n",
              "\n",
              "    .dataframe tbody tr th {\n",
              "        vertical-align: top;\n",
              "    }\n",
              "\n",
              "    .dataframe thead th {\n",
              "        text-align: right;\n",
              "    }\n",
              "</style>\n",
              "<table border=\"1\" class=\"dataframe\">\n",
              "  <thead>\n",
              "    <tr style=\"text-align: right;\">\n",
              "      <th></th>\n",
              "      <th>V</th>\n",
              "    </tr>\n",
              "    <tr>\n",
              "      <th>Anos</th>\n",
              "      <th></th>\n",
              "    </tr>\n",
              "  </thead>\n",
              "  <tbody>\n",
              "    <tr>\n",
              "      <th>2015</th>\n",
              "      <td>29466.85</td>\n",
              "    </tr>\n",
              "    <tr>\n",
              "      <th>2016</th>\n",
              "      <td>30558.75</td>\n",
              "    </tr>\n",
              "    <tr>\n",
              "      <th>2017</th>\n",
              "      <td>31843.95</td>\n",
              "    </tr>\n",
              "    <tr>\n",
              "      <th>2018</th>\n",
              "      <td>33593.82</td>\n",
              "    </tr>\n",
              "    <tr>\n",
              "      <th>2019</th>\n",
              "      <td>35161.70</td>\n",
              "    </tr>\n",
              "  </tbody>\n",
              "</table>\n",
              "</div>"
            ],
            "text/plain": [
              "             V\n",
              "Anos          \n",
              "2015  29466.85\n",
              "2016  30558.75\n",
              "2017  31843.95\n",
              "2018  33593.82\n",
              "2019  35161.70"
            ]
          },
          "metadata": {},
          "execution_count": 227
        }
      ]
    },
    {
      "cell_type": "code",
      "metadata": {
        "colab": {
          "base_uri": "https://localhost:8080/",
          "height": 537
        },
        "id": "f8zsb3EzmhyI",
        "outputId": "db5f6478-5e50-4249-9ea6-a3df8d8dacf2"
      },
      "source": [
        "plt.rcParams['figure.figsize'] = (10,8)\n",
        "plt.title('PIB per capita nominal - 1996-2019',fontsize = 16)\n",
        "plt.plot(PIBPC.V,lw =2, label = 'PIBpc nominal', c= 'b') ### estou fazendo um gráfico da śerie \"V\".\n",
        "plt.ylabel(\"PIBpc nominal\",fontsize = 15)\n",
        "plt.xlabel('Anos',fontsize = 15)\n",
        "plt.legend(loc = 'upper left')"
      ],
      "execution_count": 228,
      "outputs": [
        {
          "output_type": "execute_result",
          "data": {
            "text/plain": [
              "<matplotlib.legend.Legend at 0x7efe9d565210>"
            ]
          },
          "metadata": {},
          "execution_count": 228
        },
        {
          "output_type": "display_data",
          "data": {
            "image/png": "[encoded data removed]",
            "text/plain": [
              "<Figure size 720x576 with 1 Axes>"
            ]
          },
          "metadata": {
            "needs_background": "light"
          }
        }
      ]
    },
    {
      "cell_type": "markdown",
      "metadata": {
        "id": "qw23Mnab000_"
      },
      "source": [
        "**IPCA**\n",
        "---"
      ]
    },
    {
      "cell_type": "markdown",
      "metadata": {
        "id": "Orfds5Sozulm"
      },
      "source": [
        "**Instruções para pegar a série do IPCA no Sidra-IBGE**"
      ]
    },
    {
      "cell_type": "markdown",
      "metadata": {
        "id": "swSZDyWL08nw"
      },
      "source": [
        " Nesse endereço, você pega o endereço JSON da **tabela 1737** do SIDRA-IBGE: https://sidra.ibge.gov.br/tabela/1737 .\n"
      ]
    },
    {
      "cell_type": "markdown",
      "metadata": {
        "id": "GeF3nnNp0Wya"
      },
      "source": [
        "Na página da tabela 1737, as seleções que você deve fazer são as seguintes: **Variável:** IPCA - Número-índice (base: dezembro de 1993 = 100) (Número-índice): 13 de 13 casas decimais.\n",
        "**Mês:** Clique na lupa e escreva \"dezembro\". Marque os anos de 1995 até 2019 (para bater com a série de PIB per capita nominal).\n",
        "Clique no botão \"Links de compartilhar\" no fim de página.\n",
        "Copie o endereço de **Parâmetros para API**. Esse endereço será usado no comando seguinte."
      ]
    },
    {
      "cell_type": "code",
      "metadata": {
        "id": "QxEbt9AI2Oqt"
      },
      "source": [
        "linkIPCA = 'https://apisidra.ibge.gov.br/values/t/1737/n1/all/v/2266/p/199612,199712,199812,199912,200012,200112,200212,200312,200412,200512,200612,200712,200812,200912,201012,201112,201212,201312,201412,201512,201612,201712,201812,201912/d/v2266%2013'"
      ],
      "execution_count": 229,
      "outputs": []
    },
    {
      "cell_type": "code",
      "metadata": {
        "id": "yqWIDYDS6CGf"
      },
      "source": [
        "DFIPCA = pd.read_json(linkIPCA) ### Usando a função read_json para fazer a raspagem de dados com o link anterior."
      ],
      "execution_count": 230,
      "outputs": []
    },
    {
      "cell_type": "code",
      "metadata": {
        "colab": {
          "base_uri": "https://localhost:8080/",
          "height": 293
        },
        "id": "iSa5KFtV6CI_",
        "outputId": "9f0959fe-f388-4251-ac56-400d40c30196"
      },
      "source": [
        "DFIPCA.head()"
      ],
      "execution_count": 231,
      "outputs": [
        {
          "output_type": "execute_result",
          "data": {
            "text/html": [
              "<div>\n",
              "<style scoped>\n",
              "    .dataframe tbody tr th:only-of-type {\n",
              "        vertical-align: middle;\n",
              "    }\n",
              "\n",
              "    .dataframe tbody tr th {\n",
              "        vertical-align: top;\n",
              "    }\n",
              "\n",
              "    .dataframe thead th {\n",
              "        text-align: right;\n",
              "    }\n",
              "</style>\n",
              "<table border=\"1\" class=\"dataframe\">\n",
              "  <thead>\n",
              "    <tr style=\"text-align: right;\">\n",
              "      <th></th>\n",
              "      <th>NC</th>\n",
              "      <th>NN</th>\n",
              "      <th>MC</th>\n",
              "      <th>MN</th>\n",
              "      <th>V</th>\n",
              "      <th>D1C</th>\n",
              "      <th>D1N</th>\n",
              "      <th>D2C</th>\n",
              "      <th>D2N</th>\n",
              "      <th>D3C</th>\n",
              "      <th>D3N</th>\n",
              "    </tr>\n",
              "  </thead>\n",
              "  <tbody>\n",
              "    <tr>\n",
              "      <th>0</th>\n",
              "      <td>Nível Territorial (Código)</td>\n",
              "      <td>Nível Territorial</td>\n",
              "      <td>Unidade de Medida (Código)</td>\n",
              "      <td>Unidade de Medida</td>\n",
              "      <td>Valor</td>\n",
              "      <td>Brasil (Código)</td>\n",
              "      <td>Brasil</td>\n",
              "      <td>Variável (Código)</td>\n",
              "      <td>Variável</td>\n",
              "      <td>Mês (Código)</td>\n",
              "      <td>Mês</td>\n",
              "    </tr>\n",
              "    <tr>\n",
              "      <th>1</th>\n",
              "      <td>1</td>\n",
              "      <td>Brasil</td>\n",
              "      <td>30</td>\n",
              "      <td>Número-índice</td>\n",
              "      <td>1363.2400000000000</td>\n",
              "      <td>1</td>\n",
              "      <td>Brasil</td>\n",
              "      <td>2266</td>\n",
              "      <td>IPCA - Número-índice (base: dezembro de 1993 =...</td>\n",
              "      <td>199612</td>\n",
              "      <td>dezembro 1996</td>\n",
              "    </tr>\n",
              "    <tr>\n",
              "      <th>2</th>\n",
              "      <td>1</td>\n",
              "      <td>Brasil</td>\n",
              "      <td>30</td>\n",
              "      <td>Número-índice</td>\n",
              "      <td>1434.4600000000000</td>\n",
              "      <td>1</td>\n",
              "      <td>Brasil</td>\n",
              "      <td>2266</td>\n",
              "      <td>IPCA - Número-índice (base: dezembro de 1993 =...</td>\n",
              "      <td>199712</td>\n",
              "      <td>dezembro 1997</td>\n",
              "    </tr>\n",
              "    <tr>\n",
              "      <th>3</th>\n",
              "      <td>1</td>\n",
              "      <td>Brasil</td>\n",
              "      <td>30</td>\n",
              "      <td>Número-índice</td>\n",
              "      <td>1458.2000000000000</td>\n",
              "      <td>1</td>\n",
              "      <td>Brasil</td>\n",
              "      <td>2266</td>\n",
              "      <td>IPCA - Número-índice (base: dezembro de 1993 =...</td>\n",
              "      <td>199812</td>\n",
              "      <td>dezembro 1998</td>\n",
              "    </tr>\n",
              "    <tr>\n",
              "      <th>4</th>\n",
              "      <td>1</td>\n",
              "      <td>Brasil</td>\n",
              "      <td>30</td>\n",
              "      <td>Número-índice</td>\n",
              "      <td>1588.5600000000000</td>\n",
              "      <td>1</td>\n",
              "      <td>Brasil</td>\n",
              "      <td>2266</td>\n",
              "      <td>IPCA - Número-índice (base: dezembro de 1993 =...</td>\n",
              "      <td>199912</td>\n",
              "      <td>dezembro 1999</td>\n",
              "    </tr>\n",
              "  </tbody>\n",
              "</table>\n",
              "</div>"
            ],
            "text/plain": [
              "                           NC                 NN  ...           D3C            D3N\n",
              "0  Nível Territorial (Código)  Nível Territorial  ...  Mês (Código)            Mês\n",
              "1                           1             Brasil  ...        199612  dezembro 1996\n",
              "2                           1             Brasil  ...        199712  dezembro 1997\n",
              "3                           1             Brasil  ...        199812  dezembro 1998\n",
              "4                           1             Brasil  ...        199912  dezembro 1999\n",
              "\n",
              "[5 rows x 11 columns]"
            ]
          },
          "metadata": {},
          "execution_count": 231
        }
      ]
    },
    {
      "cell_type": "code",
      "metadata": {
        "id": "3kd_VMIF6COZ"
      },
      "source": [
        "IPCA = DFIPCA.drop([0], axis=0) ### Excluindo a primeira linha do data frame, para facilitar a leitura."
      ],
      "execution_count": 232,
      "outputs": []
    },
    {
      "cell_type": "code",
      "metadata": {
        "colab": {
          "base_uri": "https://localhost:8080/",
          "height": 206
        },
        "id": "voKoKz0H6CRY",
        "outputId": "a91a1ca4-0d5e-46a7-b93c-f8063c5b8b2e"
      },
      "source": [
        "IPCA.head()"
      ],
      "execution_count": 233,
      "outputs": [
        {
          "output_type": "execute_result",
          "data": {
            "text/html": [
              "<div>\n",
              "<style scoped>\n",
              "    .dataframe tbody tr th:only-of-type {\n",
              "        vertical-align: middle;\n",
              "    }\n",
              "\n",
              "    .dataframe tbody tr th {\n",
              "        vertical-align: top;\n",
              "    }\n",
              "\n",
              "    .dataframe thead th {\n",
              "        text-align: right;\n",
              "    }\n",
              "</style>\n",
              "<table border=\"1\" class=\"dataframe\">\n",
              "  <thead>\n",
              "    <tr style=\"text-align: right;\">\n",
              "      <th></th>\n",
              "      <th>NC</th>\n",
              "      <th>NN</th>\n",
              "      <th>MC</th>\n",
              "      <th>MN</th>\n",
              "      <th>V</th>\n",
              "      <th>D1C</th>\n",
              "      <th>D1N</th>\n",
              "      <th>D2C</th>\n",
              "      <th>D2N</th>\n",
              "      <th>D3C</th>\n",
              "      <th>D3N</th>\n",
              "    </tr>\n",
              "  </thead>\n",
              "  <tbody>\n",
              "    <tr>\n",
              "      <th>1</th>\n",
              "      <td>1</td>\n",
              "      <td>Brasil</td>\n",
              "      <td>30</td>\n",
              "      <td>Número-índice</td>\n",
              "      <td>1363.2400000000000</td>\n",
              "      <td>1</td>\n",
              "      <td>Brasil</td>\n",
              "      <td>2266</td>\n",
              "      <td>IPCA - Número-índice (base: dezembro de 1993 =...</td>\n",
              "      <td>199612</td>\n",
              "      <td>dezembro 1996</td>\n",
              "    </tr>\n",
              "    <tr>\n",
              "      <th>2</th>\n",
              "      <td>1</td>\n",
              "      <td>Brasil</td>\n",
              "      <td>30</td>\n",
              "      <td>Número-índice</td>\n",
              "      <td>1434.4600000000000</td>\n",
              "      <td>1</td>\n",
              "      <td>Brasil</td>\n",
              "      <td>2266</td>\n",
              "      <td>IPCA - Número-índice (base: dezembro de 1993 =...</td>\n",
              "      <td>199712</td>\n",
              "      <td>dezembro 1997</td>\n",
              "    </tr>\n",
              "    <tr>\n",
              "      <th>3</th>\n",
              "      <td>1</td>\n",
              "      <td>Brasil</td>\n",
              "      <td>30</td>\n",
              "      <td>Número-índice</td>\n",
              "      <td>1458.2000000000000</td>\n",
              "      <td>1</td>\n",
              "      <td>Brasil</td>\n",
              "      <td>2266</td>\n",
              "      <td>IPCA - Número-índice (base: dezembro de 1993 =...</td>\n",
              "      <td>199812</td>\n",
              "      <td>dezembro 1998</td>\n",
              "    </tr>\n",
              "    <tr>\n",
              "      <th>4</th>\n",
              "      <td>1</td>\n",
              "      <td>Brasil</td>\n",
              "      <td>30</td>\n",
              "      <td>Número-índice</td>\n",
              "      <td>1588.5600000000000</td>\n",
              "      <td>1</td>\n",
              "      <td>Brasil</td>\n",
              "      <td>2266</td>\n",
              "      <td>IPCA - Número-índice (base: dezembro de 1993 =...</td>\n",
              "      <td>199912</td>\n",
              "      <td>dezembro 1999</td>\n",
              "    </tr>\n",
              "    <tr>\n",
              "      <th>5</th>\n",
              "      <td>1</td>\n",
              "      <td>Brasil</td>\n",
              "      <td>30</td>\n",
              "      <td>Número-índice</td>\n",
              "      <td>1683.4700000000000</td>\n",
              "      <td>1</td>\n",
              "      <td>Brasil</td>\n",
              "      <td>2266</td>\n",
              "      <td>IPCA - Número-índice (base: dezembro de 1993 =...</td>\n",
              "      <td>200012</td>\n",
              "      <td>dezembro 2000</td>\n",
              "    </tr>\n",
              "  </tbody>\n",
              "</table>\n",
              "</div>"
            ],
            "text/plain": [
              "  NC      NN  ...     D3C            D3N\n",
              "1  1  Brasil  ...  199612  dezembro 1996\n",
              "2  1  Brasil  ...  199712  dezembro 1997\n",
              "3  1  Brasil  ...  199812  dezembro 1998\n",
              "4  1  Brasil  ...  199912  dezembro 1999\n",
              "5  1  Brasil  ...  200012  dezembro 2000\n",
              "\n",
              "[5 rows x 11 columns]"
            ]
          },
          "metadata": {},
          "execution_count": 233
        }
      ]
    },
    {
      "cell_type": "markdown",
      "metadata": {
        "id": "Zm47UgZyFis9"
      },
      "source": [
        "Por causa da maneira como as datas aparecem nesse data frame, é mais interessante incluir uma coluna de datas em um data frame com os valores."
      ]
    },
    {
      "cell_type": "code",
      "metadata": {
        "id": "nM8Nbrf66CUk"
      },
      "source": [
        "ipca = IPCA[[\"V\"]] ### Criando um outro data frame só com os valores que interessam."
      ],
      "execution_count": 234,
      "outputs": []
    },
    {
      "cell_type": "code",
      "metadata": {
        "colab": {
          "base_uri": "https://localhost:8080/",
          "height": 206
        },
        "id": "jHCcrDtUCcfI",
        "outputId": "b0983569-e3d4-409f-f92f-361d72c85d1a"
      },
      "source": [
        "ipca.head()"
      ],
      "execution_count": 235,
      "outputs": [
        {
          "output_type": "execute_result",
          "data": {
            "text/html": [
              "<div>\n",
              "<style scoped>\n",
              "    .dataframe tbody tr th:only-of-type {\n",
              "        vertical-align: middle;\n",
              "    }\n",
              "\n",
              "    .dataframe tbody tr th {\n",
              "        vertical-align: top;\n",
              "    }\n",
              "\n",
              "    .dataframe thead th {\n",
              "        text-align: right;\n",
              "    }\n",
              "</style>\n",
              "<table border=\"1\" class=\"dataframe\">\n",
              "  <thead>\n",
              "    <tr style=\"text-align: right;\">\n",
              "      <th></th>\n",
              "      <th>V</th>\n",
              "    </tr>\n",
              "  </thead>\n",
              "  <tbody>\n",
              "    <tr>\n",
              "      <th>1</th>\n",
              "      <td>1363.2400000000000</td>\n",
              "    </tr>\n",
              "    <tr>\n",
              "      <th>2</th>\n",
              "      <td>1434.4600000000000</td>\n",
              "    </tr>\n",
              "    <tr>\n",
              "      <th>3</th>\n",
              "      <td>1458.2000000000000</td>\n",
              "    </tr>\n",
              "    <tr>\n",
              "      <th>4</th>\n",
              "      <td>1588.5600000000000</td>\n",
              "    </tr>\n",
              "    <tr>\n",
              "      <th>5</th>\n",
              "      <td>1683.4700000000000</td>\n",
              "    </tr>\n",
              "  </tbody>\n",
              "</table>\n",
              "</div>"
            ],
            "text/plain": [
              "                    V\n",
              "1  1363.2400000000000\n",
              "2  1434.4600000000000\n",
              "3  1458.2000000000000\n",
              "4  1588.5600000000000\n",
              "5  1683.4700000000000"
            ]
          },
          "metadata": {},
          "execution_count": 235
        }
      ]
    },
    {
      "cell_type": "code",
      "metadata": {
        "id": "oiUWJKZwOBw0"
      },
      "source": [
        "Ipca = ipca.astype(float) ### Convertendo a arquivo para uma formato númerico (float)."
      ],
      "execution_count": 236,
      "outputs": []
    },
    {
      "cell_type": "code",
      "metadata": {
        "id": "lgzu9GHjF5po"
      },
      "source": [
        "Ipca['Anos'] = pd.date_range(start='1996', periods=len(ipca['V']), freq='Y') ### Acrescentando uma coluna de datas (anos), já no formato de datas do Python."
      ],
      "execution_count": 239,
      "outputs": []
    },
    {
      "cell_type": "code",
      "metadata": {
        "colab": {
          "base_uri": "https://localhost:8080/",
          "height": 206
        },
        "id": "Ht6AzjZjGu4s",
        "outputId": "e0fb7c6a-26f9-4784-842d-54220935937d"
      },
      "source": [
        "Ipca.head()"
      ],
      "execution_count": 240,
      "outputs": [
        {
          "output_type": "execute_result",
          "data": {
            "text/html": [
              "<div>\n",
              "<style scoped>\n",
              "    .dataframe tbody tr th:only-of-type {\n",
              "        vertical-align: middle;\n",
              "    }\n",
              "\n",
              "    .dataframe tbody tr th {\n",
              "        vertical-align: top;\n",
              "    }\n",
              "\n",
              "    .dataframe thead th {\n",
              "        text-align: right;\n",
              "    }\n",
              "</style>\n",
              "<table border=\"1\" class=\"dataframe\">\n",
              "  <thead>\n",
              "    <tr style=\"text-align: right;\">\n",
              "      <th></th>\n",
              "      <th>V</th>\n",
              "      <th>Anos</th>\n",
              "    </tr>\n",
              "  </thead>\n",
              "  <tbody>\n",
              "    <tr>\n",
              "      <th>1</th>\n",
              "      <td>1363.24</td>\n",
              "      <td>1996-12-31</td>\n",
              "    </tr>\n",
              "    <tr>\n",
              "      <th>2</th>\n",
              "      <td>1434.46</td>\n",
              "      <td>1997-12-31</td>\n",
              "    </tr>\n",
              "    <tr>\n",
              "      <th>3</th>\n",
              "      <td>1458.20</td>\n",
              "      <td>1998-12-31</td>\n",
              "    </tr>\n",
              "    <tr>\n",
              "      <th>4</th>\n",
              "      <td>1588.56</td>\n",
              "      <td>1999-12-31</td>\n",
              "    </tr>\n",
              "    <tr>\n",
              "      <th>5</th>\n",
              "      <td>1683.47</td>\n",
              "      <td>2000-12-31</td>\n",
              "    </tr>\n",
              "  </tbody>\n",
              "</table>\n",
              "</div>"
            ],
            "text/plain": [
              "         V       Anos\n",
              "1  1363.24 1996-12-31\n",
              "2  1434.46 1997-12-31\n",
              "3  1458.20 1998-12-31\n",
              "4  1588.56 1999-12-31\n",
              "5  1683.47 2000-12-31"
            ]
          },
          "metadata": {},
          "execution_count": 240
        }
      ]
    },
    {
      "cell_type": "code",
      "metadata": {
        "colab": {
          "base_uri": "https://localhost:8080/",
          "height": 537
        },
        "id": "UGr4gJ5zGu7G",
        "outputId": "13ab2d56-a070-45e0-ee94-0c658ca772a1"
      },
      "source": [
        "plt.rcParams['figure.figsize'] = (12,8)\n",
        "plt.title('IPCA (nº índice)- 1996-2019',fontsize = 16)\n",
        "plt.plot(Ipca.Anos,Ipca.V,lw =2, label = ' IPCA', c= 'r')\n",
        "plt.ylabel(\"IPCA\",fontsize = 15)\n",
        "plt.xlabel('Anos',fontsize = 15)\n",
        "plt.legend(loc = 'upper left')"
      ],
      "execution_count": 241,
      "outputs": [
        {
          "output_type": "execute_result",
          "data": {
            "text/plain": [
              "<matplotlib.legend.Legend at 0x7efe9d4efa10>"
            ]
          },
          "metadata": {},
          "execution_count": 241
        },
        {
          "output_type": "display_data",
          "data": {
            "image/png": "[encoded data removed]",
            "text/plain": [
              "<Figure size 864x576 with 1 Axes>"
            ]
          },
          "metadata": {
            "needs_background": "light"
          }
        }
      ]
    },
    {
      "cell_type": "markdown",
      "metadata": {
        "id": "lwul-PjP5MWx"
      },
      "source": [
        "Para deflacionar a série do PIB per capita nominal e apresentá-la a preços de 2019, precisamos multiplicar a série pelo fator: $IPCA_{2019}/IPCA_i$."
      ]
    },
    {
      "cell_type": "code",
      "metadata": {
        "colab": {
          "base_uri": "https://localhost:8080/",
          "height": 206
        },
        "id": "dhRy4N77JmvJ",
        "outputId": "a117496d-6fbf-4dc0-f48a-08dd5c8d59a9"
      },
      "source": [
        "Ipca.tail() ### Verificando qual o IPCA de 2019."
      ],
      "execution_count": 242,
      "outputs": [
        {
          "output_type": "execute_result",
          "data": {
            "text/html": [
              "<div>\n",
              "<style scoped>\n",
              "    .dataframe tbody tr th:only-of-type {\n",
              "        vertical-align: middle;\n",
              "    }\n",
              "\n",
              "    .dataframe tbody tr th {\n",
              "        vertical-align: top;\n",
              "    }\n",
              "\n",
              "    .dataframe thead th {\n",
              "        text-align: right;\n",
              "    }\n",
              "</style>\n",
              "<table border=\"1\" class=\"dataframe\">\n",
              "  <thead>\n",
              "    <tr style=\"text-align: right;\">\n",
              "      <th></th>\n",
              "      <th>V</th>\n",
              "      <th>Anos</th>\n",
              "    </tr>\n",
              "  </thead>\n",
              "  <tbody>\n",
              "    <tr>\n",
              "      <th>20</th>\n",
              "      <td>4493.17</td>\n",
              "      <td>2015-12-31</td>\n",
              "    </tr>\n",
              "    <tr>\n",
              "      <th>21</th>\n",
              "      <td>4775.70</td>\n",
              "      <td>2016-12-31</td>\n",
              "    </tr>\n",
              "    <tr>\n",
              "      <th>22</th>\n",
              "      <td>4916.46</td>\n",
              "      <td>2017-12-31</td>\n",
              "    </tr>\n",
              "    <tr>\n",
              "      <th>23</th>\n",
              "      <td>5100.61</td>\n",
              "      <td>2018-12-31</td>\n",
              "    </tr>\n",
              "    <tr>\n",
              "      <th>24</th>\n",
              "      <td>5320.25</td>\n",
              "      <td>2019-12-31</td>\n",
              "    </tr>\n",
              "  </tbody>\n",
              "</table>\n",
              "</div>"
            ],
            "text/plain": [
              "          V       Anos\n",
              "20  4493.17 2015-12-31\n",
              "21  4775.70 2016-12-31\n",
              "22  4916.46 2017-12-31\n",
              "23  5100.61 2018-12-31\n",
              "24  5320.25 2019-12-31"
            ]
          },
          "metadata": {},
          "execution_count": 242
        }
      ]
    },
    {
      "cell_type": "code",
      "metadata": {
        "id": "5cNMo2vFGvAt"
      },
      "source": [
        "ipca2019 = Ipca['V'].iloc[-1] ### Estamos selecionando a última lina da coluna de valores do Ipca."
      ],
      "execution_count": 243,
      "outputs": []
    },
    {
      "cell_type": "code",
      "metadata": {
        "id": "72lTX-qxCcq6",
        "colab": {
          "base_uri": "https://localhost:8080/"
        },
        "outputId": "ee1d33ad-af98-4fa5-8e52-12451f50b2da"
      },
      "source": [
        "ipca2019"
      ],
      "execution_count": 244,
      "outputs": [
        {
          "output_type": "execute_result",
          "data": {
            "text/plain": [
              "5320.25"
            ]
          },
          "metadata": {},
          "execution_count": 244
        }
      ]
    },
    {
      "cell_type": "markdown",
      "metadata": {
        "id": "xRAQ7sth8RHl"
      },
      "source": [
        "Precisamos agora multiplicar esse ipca2019 pelo inverso da coluna de valores de IPCA (ou seja, a coluna Ipca.V). Primeiro vamos tratar de inverter a coluna Ipca.V."
      ]
    },
    {
      "cell_type": "code",
      "metadata": {
        "id": "fGh1EuwONA83"
      },
      "source": [
        "Inv_IPCA= np.power(Ipca.V, -1) ### Estamos aqui invertendo os valores de Inv_IPCA."
      ],
      "execution_count": 245,
      "outputs": []
    },
    {
      "cell_type": "code",
      "metadata": {
        "colab": {
          "base_uri": "https://localhost:8080/"
        },
        "id": "jStrMUPpNA_l",
        "outputId": "125268b5-4abe-4992-b4ed-24f93680beac"
      },
      "source": [
        "Inv_IPCA.head()"
      ],
      "execution_count": 246,
      "outputs": [
        {
          "output_type": "execute_result",
          "data": {
            "text/plain": [
              "1    0.000734\n",
              "2    0.000697\n",
              "3    0.000686\n",
              "4    0.000630\n",
              "5    0.000594\n",
              "Name: V, dtype: float64"
            ]
          },
          "metadata": {},
          "execution_count": 246
        }
      ]
    },
    {
      "cell_type": "code",
      "metadata": {
        "id": "bY1avIvxO_ve"
      },
      "source": [
        "mult = ipca2019*Inv_IPCA ### Multiplicando o IPCA de 2019 pelo vetor Inv_IPCA."
      ],
      "execution_count": 247,
      "outputs": []
    },
    {
      "cell_type": "code",
      "metadata": {
        "id": "xdW7tJTDO_yd",
        "colab": {
          "base_uri": "https://localhost:8080/"
        },
        "outputId": "3ed6d475-0ef1-4a86-f7ab-82341e67bbca"
      },
      "source": [
        "mult.head()"
      ],
      "execution_count": 248,
      "outputs": [
        {
          "output_type": "execute_result",
          "data": {
            "text/plain": [
              "1    3.902651\n",
              "2    3.708887\n",
              "3    3.648505\n",
              "4    3.349102\n",
              "5    3.160288\n",
              "Name: V, dtype: float64"
            ]
          },
          "metadata": {},
          "execution_count": 248
        }
      ]
    },
    {
      "cell_type": "markdown",
      "metadata": {
        "id": "_u9oAjEM9rUd"
      },
      "source": [
        "Finalmente, precisamos multiplicar essa coluna de mutiplicadores (*mult*) pela coluna com os valores dos PIB per capita nominais. Atençao: não se trata de uma multiplicação de vetores ou matrizes, mas de uma multiplicação de elemento a elemento de dois vetores de dimensões iguais. É o que em matemática se chama de produto Hadamard (em homenagem ao matemático francês Jacques Hadamard (1865-1963). Vamos usar a funções da biblioteca **numpy** na operação."
      ]
    },
    {
      "cell_type": "code",
      "metadata": {
        "id": "r4jMZvrXDcfz"
      },
      "source": [
        "a = np.array([PIBPC['V']]) ### Criando um *array* em numpy para o PIB per capita nominal."
      ],
      "execution_count": 249,
      "outputs": []
    },
    {
      "cell_type": "code",
      "metadata": {
        "colab": {
          "base_uri": "https://localhost:8080/"
        },
        "id": "9bKS27r8DciS",
        "outputId": "ccac8d6d-b29c-42f4-aac0-b6e142e4e407"
      },
      "source": [
        "a"
      ],
      "execution_count": 250,
      "outputs": [
        {
          "output_type": "execute_result",
          "data": {
            "text/plain": [
              "array([[ 5219.36,  5729.02,  5944.92,  6359.8 ,  6900.62,  7467.03,\n",
              "         8340.58,  9506.76, 10705.99, 11733.45, 12880.52, 14390.01,\n",
              "        16280.82, 17271.34, 19938.6 , 22259.91, 24278.35, 26657.54,\n",
              "        28648.74, 29466.85, 30558.75, 31843.95, 33593.82, 35161.7 ]])"
            ]
          },
          "metadata": {},
          "execution_count": 250
        }
      ]
    },
    {
      "cell_type": "code",
      "metadata": {
        "id": "ZkblyoRwDclV"
      },
      "source": [
        "b = np.array([mult]) ### Criando um array em numpy para os multiplicadores."
      ],
      "execution_count": 251,
      "outputs": []
    },
    {
      "cell_type": "code",
      "metadata": {
        "colab": {
          "base_uri": "https://localhost:8080/"
        },
        "id": "XWASmdzxDcoS",
        "outputId": "b0576351-7b2d-4b88-9ff5-ab68beb69886"
      },
      "source": [
        "b"
      ],
      "execution_count": 252,
      "outputs": [
        {
          "output_type": "execute_result",
          "data": {
            "text/plain": [
              "array([[3.90265104, 3.70888697, 3.64850501, 3.34910233, 3.16028798,\n",
              "        2.93506744, 2.60824697, 2.38630808, 2.21776883, 2.09838684,\n",
              "        2.03447353, 1.94765377, 1.83909695, 1.76307915, 1.66471624,\n",
              "        1.56306464, 1.47683805, 1.39441839, 1.31045159, 1.18407494,\n",
              "        1.11402517, 1.08213023, 1.04306152, 1.        ]])"
            ]
          },
          "metadata": {},
          "execution_count": 252
        }
      ]
    },
    {
      "cell_type": "code",
      "metadata": {
        "id": "5B1OPCEBDcra"
      },
      "source": [
        "c = np.multiply(a,b) ### Multiplicando os dois vetores (*arrays*) recém criados."
      ],
      "execution_count": 253,
      "outputs": []
    },
    {
      "cell_type": "code",
      "metadata": {
        "colab": {
          "base_uri": "https://localhost:8080/"
        },
        "id": "tJENEXDY_OGX",
        "outputId": "7142710d-7032-4bf7-c086-de0ae840d691"
      },
      "source": [
        "c"
      ],
      "execution_count": 254,
      "outputs": [
        {
          "output_type": "execute_result",
          "data": {
            "text/plain": [
              "array([[20369.3407177 , 21248.28761694, 21690.07038129, 21299.62100896,\n",
              "        21807.94641722, 21916.23664662, 21754.29249478, 22686.05819717,\n",
              "        23743.41090887, 24621.31709494, 26205.07696985, 28026.75727316,\n",
              "        29942.00638987, 30450.73937646, 33192.1113211 , 34793.6781641 ,\n",
              "        35855.19106041, 37171.76414076, 37542.7869397 , 34890.95865781,\n",
              "        34043.21663578, 34459.30099858, 35040.4208232 , 35161.7       ]])"
            ]
          },
          "metadata": {},
          "execution_count": 254
        }
      ]
    },
    {
      "cell_type": "code",
      "metadata": {
        "id": "H1B5I0gb_OM3"
      },
      "source": [
        "PIBpc_real = pd.DataFrame(c) ### Transformando o *array* em numpy em um data frame em pandas."
      ],
      "execution_count": 255,
      "outputs": []
    },
    {
      "cell_type": "code",
      "metadata": {
        "colab": {
          "base_uri": "https://localhost:8080/",
          "height": 101
        },
        "id": "oZUWOUFM-sml",
        "outputId": "d52be770-fd10-40f8-9fdd-57d0fb43b08d"
      },
      "source": [
        "PIBpc_real"
      ],
      "execution_count": 256,
      "outputs": [
        {
          "output_type": "execute_result",
          "data": {
            "text/html": [
              "<div>\n",
              "<style scoped>\n",
              "    .dataframe tbody tr th:only-of-type {\n",
              "        vertical-align: middle;\n",
              "    }\n",
              "\n",
              "    .dataframe tbody tr th {\n",
              "        vertical-align: top;\n",
              "    }\n",
              "\n",
              "    .dataframe thead th {\n",
              "        text-align: right;\n",
              "    }\n",
              "</style>\n",
              "<table border=\"1\" class=\"dataframe\">\n",
              "  <thead>\n",
              "    <tr style=\"text-align: right;\">\n",
              "      <th></th>\n",
              "      <th>0</th>\n",
              "      <th>1</th>\n",
              "      <th>2</th>\n",
              "      <th>3</th>\n",
              "      <th>4</th>\n",
              "      <th>5</th>\n",
              "      <th>6</th>\n",
              "      <th>7</th>\n",
              "      <th>8</th>\n",
              "      <th>9</th>\n",
              "      <th>10</th>\n",
              "      <th>11</th>\n",
              "      <th>12</th>\n",
              "      <th>13</th>\n",
              "      <th>14</th>\n",
              "      <th>15</th>\n",
              "      <th>16</th>\n",
              "      <th>17</th>\n",
              "      <th>18</th>\n",
              "      <th>19</th>\n",
              "      <th>20</th>\n",
              "      <th>21</th>\n",
              "      <th>22</th>\n",
              "      <th>23</th>\n",
              "    </tr>\n",
              "  </thead>\n",
              "  <tbody>\n",
              "    <tr>\n",
              "      <th>0</th>\n",
              "      <td>20369.340718</td>\n",
              "      <td>21248.287617</td>\n",
              "      <td>21690.070381</td>\n",
              "      <td>21299.621009</td>\n",
              "      <td>21807.946417</td>\n",
              "      <td>21916.236647</td>\n",
              "      <td>21754.292495</td>\n",
              "      <td>22686.058197</td>\n",
              "      <td>23743.410909</td>\n",
              "      <td>24621.317095</td>\n",
              "      <td>26205.07697</td>\n",
              "      <td>28026.757273</td>\n",
              "      <td>29942.00639</td>\n",
              "      <td>30450.739376</td>\n",
              "      <td>33192.111321</td>\n",
              "      <td>34793.678164</td>\n",
              "      <td>35855.19106</td>\n",
              "      <td>37171.764141</td>\n",
              "      <td>37542.78694</td>\n",
              "      <td>34890.958658</td>\n",
              "      <td>34043.216636</td>\n",
              "      <td>34459.300999</td>\n",
              "      <td>35040.420823</td>\n",
              "      <td>35161.7</td>\n",
              "    </tr>\n",
              "  </tbody>\n",
              "</table>\n",
              "</div>"
            ],
            "text/plain": [
              "             0             1   ...            22       23\n",
              "0  20369.340718  21248.287617  ...  35040.420823  35161.7\n",
              "\n",
              "[1 rows x 24 columns]"
            ]
          },
          "metadata": {},
          "execution_count": 256
        }
      ]
    },
    {
      "cell_type": "code",
      "metadata": {
        "id": "GFqQ5Tp4ITNU"
      },
      "source": [
        "PIBpc_real = PIBpc_real.T ### Transpondo o data frame recém criado."
      ],
      "execution_count": 257,
      "outputs": []
    },
    {
      "cell_type": "code",
      "metadata": {
        "colab": {
          "base_uri": "https://localhost:8080/",
          "height": 206
        },
        "id": "ihzOrLR5IYh7",
        "outputId": "dea732ac-aaee-4823-be5d-eebb2ed6a05e"
      },
      "source": [
        "PIBpc_real.head()"
      ],
      "execution_count": 258,
      "outputs": [
        {
          "output_type": "execute_result",
          "data": {
            "text/html": [
              "<div>\n",
              "<style scoped>\n",
              "    .dataframe tbody tr th:only-of-type {\n",
              "        vertical-align: middle;\n",
              "    }\n",
              "\n",
              "    .dataframe tbody tr th {\n",
              "        vertical-align: top;\n",
              "    }\n",
              "\n",
              "    .dataframe thead th {\n",
              "        text-align: right;\n",
              "    }\n",
              "</style>\n",
              "<table border=\"1\" class=\"dataframe\">\n",
              "  <thead>\n",
              "    <tr style=\"text-align: right;\">\n",
              "      <th></th>\n",
              "      <th>0</th>\n",
              "    </tr>\n",
              "  </thead>\n",
              "  <tbody>\n",
              "    <tr>\n",
              "      <th>0</th>\n",
              "      <td>20369.340718</td>\n",
              "    </tr>\n",
              "    <tr>\n",
              "      <th>1</th>\n",
              "      <td>21248.287617</td>\n",
              "    </tr>\n",
              "    <tr>\n",
              "      <th>2</th>\n",
              "      <td>21690.070381</td>\n",
              "    </tr>\n",
              "    <tr>\n",
              "      <th>3</th>\n",
              "      <td>21299.621009</td>\n",
              "    </tr>\n",
              "    <tr>\n",
              "      <th>4</th>\n",
              "      <td>21807.946417</td>\n",
              "    </tr>\n",
              "  </tbody>\n",
              "</table>\n",
              "</div>"
            ],
            "text/plain": [
              "              0\n",
              "0  20369.340718\n",
              "1  21248.287617\n",
              "2  21690.070381\n",
              "3  21299.621009\n",
              "4  21807.946417"
            ]
          },
          "metadata": {},
          "execution_count": 258
        }
      ]
    },
    {
      "cell_type": "code",
      "metadata": {
        "id": "s9eqJMbpIbfI"
      },
      "source": [
        "PIBpc_real['Anos'] = pd.date_range(start='1996', periods=len(PIBpc_real), freq='Y') ### Acrescentando uma coluna de datas (anos), já no formato de datas do Python."
      ],
      "execution_count": 259,
      "outputs": []
    },
    {
      "cell_type": "code",
      "metadata": {
        "colab": {
          "base_uri": "https://localhost:8080/",
          "height": 206
        },
        "id": "nuJkrrZlTbpm",
        "outputId": "efe6de79-6b80-4b0e-b5e3-90a25fb3de44"
      },
      "source": [
        "PIBpc_real.head()"
      ],
      "execution_count": 260,
      "outputs": [
        {
          "output_type": "execute_result",
          "data": {
            "text/html": [
              "<div>\n",
              "<style scoped>\n",
              "    .dataframe tbody tr th:only-of-type {\n",
              "        vertical-align: middle;\n",
              "    }\n",
              "\n",
              "    .dataframe tbody tr th {\n",
              "        vertical-align: top;\n",
              "    }\n",
              "\n",
              "    .dataframe thead th {\n",
              "        text-align: right;\n",
              "    }\n",
              "</style>\n",
              "<table border=\"1\" class=\"dataframe\">\n",
              "  <thead>\n",
              "    <tr style=\"text-align: right;\">\n",
              "      <th></th>\n",
              "      <th>0</th>\n",
              "      <th>Anos</th>\n",
              "    </tr>\n",
              "  </thead>\n",
              "  <tbody>\n",
              "    <tr>\n",
              "      <th>0</th>\n",
              "      <td>20369.340718</td>\n",
              "      <td>1996-12-31</td>\n",
              "    </tr>\n",
              "    <tr>\n",
              "      <th>1</th>\n",
              "      <td>21248.287617</td>\n",
              "      <td>1997-12-31</td>\n",
              "    </tr>\n",
              "    <tr>\n",
              "      <th>2</th>\n",
              "      <td>21690.070381</td>\n",
              "      <td>1998-12-31</td>\n",
              "    </tr>\n",
              "    <tr>\n",
              "      <th>3</th>\n",
              "      <td>21299.621009</td>\n",
              "      <td>1999-12-31</td>\n",
              "    </tr>\n",
              "    <tr>\n",
              "      <th>4</th>\n",
              "      <td>21807.946417</td>\n",
              "      <td>2000-12-31</td>\n",
              "    </tr>\n",
              "  </tbody>\n",
              "</table>\n",
              "</div>"
            ],
            "text/plain": [
              "              0       Anos\n",
              "0  20369.340718 1996-12-31\n",
              "1  21248.287617 1997-12-31\n",
              "2  21690.070381 1998-12-31\n",
              "3  21299.621009 1999-12-31\n",
              "4  21807.946417 2000-12-31"
            ]
          },
          "metadata": {},
          "execution_count": 260
        }
      ]
    },
    {
      "cell_type": "code",
      "metadata": {
        "id": "_mpNy5RGYHWV"
      },
      "source": [
        "PIBpc_real.columns = ['PIBpc', 'Anos'] ### Dando nomes as duas colunas."
      ],
      "execution_count": 261,
      "outputs": []
    },
    {
      "cell_type": "code",
      "metadata": {
        "colab": {
          "base_uri": "https://localhost:8080/",
          "height": 206
        },
        "id": "U6skqLFzYbBB",
        "outputId": "2bf5b44c-9803-4a3b-c6b7-ff95ee5ebfeb"
      },
      "source": [
        "PIBpc_real.head()"
      ],
      "execution_count": 262,
      "outputs": [
        {
          "output_type": "execute_result",
          "data": {
            "text/html": [
              "<div>\n",
              "<style scoped>\n",
              "    .dataframe tbody tr th:only-of-type {\n",
              "        vertical-align: middle;\n",
              "    }\n",
              "\n",
              "    .dataframe tbody tr th {\n",
              "        vertical-align: top;\n",
              "    }\n",
              "\n",
              "    .dataframe thead th {\n",
              "        text-align: right;\n",
              "    }\n",
              "</style>\n",
              "<table border=\"1\" class=\"dataframe\">\n",
              "  <thead>\n",
              "    <tr style=\"text-align: right;\">\n",
              "      <th></th>\n",
              "      <th>PIBpc</th>\n",
              "      <th>Anos</th>\n",
              "    </tr>\n",
              "  </thead>\n",
              "  <tbody>\n",
              "    <tr>\n",
              "      <th>0</th>\n",
              "      <td>20369.340718</td>\n",
              "      <td>1996-12-31</td>\n",
              "    </tr>\n",
              "    <tr>\n",
              "      <th>1</th>\n",
              "      <td>21248.287617</td>\n",
              "      <td>1997-12-31</td>\n",
              "    </tr>\n",
              "    <tr>\n",
              "      <th>2</th>\n",
              "      <td>21690.070381</td>\n",
              "      <td>1998-12-31</td>\n",
              "    </tr>\n",
              "    <tr>\n",
              "      <th>3</th>\n",
              "      <td>21299.621009</td>\n",
              "      <td>1999-12-31</td>\n",
              "    </tr>\n",
              "    <tr>\n",
              "      <th>4</th>\n",
              "      <td>21807.946417</td>\n",
              "      <td>2000-12-31</td>\n",
              "    </tr>\n",
              "  </tbody>\n",
              "</table>\n",
              "</div>"
            ],
            "text/plain": [
              "          PIBpc       Anos\n",
              "0  20369.340718 1996-12-31\n",
              "1  21248.287617 1997-12-31\n",
              "2  21690.070381 1998-12-31\n",
              "3  21299.621009 1999-12-31\n",
              "4  21807.946417 2000-12-31"
            ]
          },
          "metadata": {},
          "execution_count": 262
        }
      ]
    },
    {
      "cell_type": "code",
      "metadata": {
        "colab": {
          "base_uri": "https://localhost:8080/",
          "height": 537
        },
        "id": "sVrfCEmKTbyg",
        "outputId": "121687ea-de03-40a5-a3cc-5fff6f698452"
      },
      "source": [
        "plt.rcParams['figure.figsize'] = (12,8)\n",
        "plt.title('PIB per capita real- 1996-2019 (R$ de 2019)',fontsize = 16)\n",
        "plt.plot(PIBpc_real.Anos, PIBpc_real.PIBpc,lw =2, label = ' PIB per capita real', c= 'g')\n",
        "plt.ylabel(\"PIBpc Real (R$)\",fontsize = 15)\n",
        "plt.xlabel('Anos',fontsize = 15)\n",
        "plt.legend(loc = 'upper left')"
      ],
      "execution_count": 263,
      "outputs": [
        {
          "output_type": "execute_result",
          "data": {
            "text/plain": [
              "<matplotlib.legend.Legend at 0x7efe9d46d910>"
            ]
          },
          "metadata": {},
          "execution_count": 263
        },
        {
          "output_type": "display_data",
          "data": {
            "image/png": "[encoded data removed]",
            "text/plain": [
              "<Figure size 864x576 with 1 Axes>"
            ]
          },
          "metadata": {
            "needs_background": "light"
          }
        }
      ]
    },
    {
      "cell_type": "markdown",
      "metadata": {
        "id": "7rypS2_Dubal"
      },
      "source": [
        "Vamos agora juntar as duas séries, **PIBpc nominal** e **PIBpc real**, em um mesmo gráfico."
      ]
    },
    {
      "cell_type": "code",
      "metadata": {
        "colab": {
          "base_uri": "https://localhost:8080/",
          "height": 520
        },
        "id": "uXX17HhHwcTt",
        "outputId": "3aee5ed2-3079-477f-c435-dd77c088bf05"
      },
      "source": [
        "plt.rcParams['figure.figsize'] = (12,8)\n",
        "plt.title('PIBs per capita nominal e real (R$ de 2019)- 1996-2019',fontsize = 16)\n",
        "plt.plot(PIBpc_real.Anos, PIBpc_real.PIBpc,lw =2, label = 'PIB per capita real', c= 'g')\n",
        "plt.plot(PIBpc_real.Anos, PIBPC.V, lw=2, label= 'PIB per capita nominal', c='orange')\n",
        "plt.ylabel(\"PIB per capita (R$)\",fontsize = 15)\n",
        "plt.xlabel('Anos',fontsize = 15)\n",
        "plt.legend(loc = 'upper left')\n",
        "plt.savefig('pibpcnominal&real')"
      ],
      "execution_count": 266,
      "outputs": [
        {
          "output_type": "display_data",
          "data": {
            "image/png": "[encoded data removed]",
            "text/plain": [
              "<Figure size 864x576 with 1 Axes>"
            ]
          },
          "metadata": {
            "needs_background": "light"
          }
        }
      ]
    },
    {
      "cell_type": "markdown",
      "metadata": {
        "id": "Bq3Ow95quViS"
      },
      "source": [
        ""
      ]
    }
  ]
}