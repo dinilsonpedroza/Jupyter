{
  "nbformat": 4,
  "nbformat_minor": 0,
  "metadata": {
    "colab": {
      "name": "deflacionamento.ipynb",
      "provenance": [],
      "collapsed_sections": [],
      "authorship_tag": "ABX9TyPFZgwLn5lzVxvn0UyHc+U6",
      "include_colab_link": true
    },
    "kernelspec": {
      "name": "python3",
      "display_name": "Python 3"
    },
    "language_info": {
      "name": "python"
    }
  },
  "cells": [
    {
      "cell_type": "markdown",
      "metadata": {
        "id": "view-in-github",
        "colab_type": "text"
      },
      "source": [
        "<a href=\"https://colab.research.google.com/github/dinilsonpedroza/Jupyter/blob/main/deflacionamento.ipynb\" target=\"_parent\"><img src=\"https://colab.research.google.com/assets/colab-badge.svg\" alt=\"Open In Colab\"/></a>"
      ]
    },
    {
      "cell_type": "markdown",
      "metadata": {
        "id": "hgf4AncviEcI"
      },
      "source": [
        "**DEFLACIONAMENTO**\n",
        "------\n",
        "***"
      ]
    },
    {
      "cell_type": "code",
      "metadata": {
        "id": "x1VAEyDYim3m"
      },
      "source": [
        "import pandas as pd\n",
        "import numpy as np\n",
        "from matplotlib import pyplot as plt\n",
        "from urllib.request import urlopen ### Bibliotecas que serão usadas no trabalho."
      ],
      "execution_count": 1,
      "outputs": []
    },
    {
      "cell_type": "markdown",
      "metadata": {
        "id": "ix4xDO-0lFEG"
      },
      "source": [
        "Na raspagem de dados usamos uma função do *Pandas* que permite trazer para nosso espaço de trabalho um objeto arquivado em **Json** (Java Script Object Notation, formato ideal para transferência de arquivos). Para que a operação seja possível, é necessário que o site onde pegamos os dados disponha de **API** (Application Programming Interface, rotinas que facilitam a transferênica de dados em sites nos quais eles esteja arquivados). Como pretendemos apresentar o PIB em termos nominais, a séries trabalhadas serão: **PIB per capita nominal** e **índice de preços**. Ambas do IBGE."
      ]
    },
    {
      "cell_type": "markdown",
      "metadata": {
        "id": "iO6u1M850sOn"
      },
      "source": [
        "**PIB per capita nominal**\n",
        "---\n"
      ]
    },
    {
      "cell_type": "code",
      "metadata": {
        "id": "nMP24_XLjXif"
      },
      "source": [
        "linkPIBpc= 'https://apisidra.ibge.gov.br/values/t/6784/n1/all/v/9812/p/all/d/v9812%202' ### PIB pc nominal. Este endereço foi pego no SIDRA - IBGE."
      ],
      "execution_count": 38,
      "outputs": []
    },
    {
      "cell_type": "code",
      "metadata": {
        "id": "Q9-k-PukjX5j"
      },
      "source": [
        "DFPIBpc = pd.read_json(linkPIBpc) ### Usando a função read_json para fazer a raspagem de dados com o link anterior."
      ],
      "execution_count": 39,
      "outputs": []
    },
    {
      "cell_type": "code",
      "metadata": {
        "colab": {
          "base_uri": "https://localhost:8080/",
          "height": 293
        },
        "id": "ye8KZIeIjX8v",
        "outputId": "1f7bb0d5-bf0b-49b2-877d-af83500e67ce"
      },
      "source": [
        "DFPIBpc.head() ### Visualizando o início da tabela que foi pega (um data frame)."
      ],
      "execution_count": 40,
      "outputs": [
        {
          "output_type": "execute_result",
          "data": {
            "text/html": [
              "<div>\n",
              "<style scoped>\n",
              "    .dataframe tbody tr th:only-of-type {\n",
              "        vertical-align: middle;\n",
              "    }\n",
              "\n",
              "    .dataframe tbody tr th {\n",
              "        vertical-align: top;\n",
              "    }\n",
              "\n",
              "    .dataframe thead th {\n",
              "        text-align: right;\n",
              "    }\n",
              "</style>\n",
              "<table border=\"1\" class=\"dataframe\">\n",
              "  <thead>\n",
              "    <tr style=\"text-align: right;\">\n",
              "      <th></th>\n",
              "      <th>NC</th>\n",
              "      <th>NN</th>\n",
              "      <th>MC</th>\n",
              "      <th>MN</th>\n",
              "      <th>V</th>\n",
              "      <th>D1C</th>\n",
              "      <th>D1N</th>\n",
              "      <th>D2C</th>\n",
              "      <th>D2N</th>\n",
              "      <th>D3C</th>\n",
              "      <th>D3N</th>\n",
              "    </tr>\n",
              "  </thead>\n",
              "  <tbody>\n",
              "    <tr>\n",
              "      <th>0</th>\n",
              "      <td>Nível Territorial (Código)</td>\n",
              "      <td>Nível Territorial</td>\n",
              "      <td>Unidade de Medida (Código)</td>\n",
              "      <td>Unidade de Medida</td>\n",
              "      <td>Valor</td>\n",
              "      <td>Brasil (Código)</td>\n",
              "      <td>Brasil</td>\n",
              "      <td>Variável (Código)</td>\n",
              "      <td>Variável</td>\n",
              "      <td>Ano (Código)</td>\n",
              "      <td>Ano</td>\n",
              "    </tr>\n",
              "    <tr>\n",
              "      <th>1</th>\n",
              "      <td>1</td>\n",
              "      <td>Brasil</td>\n",
              "      <td>38</td>\n",
              "      <td>Reais</td>\n",
              "      <td>5219.36</td>\n",
              "      <td>1</td>\n",
              "      <td>Brasil</td>\n",
              "      <td>9812</td>\n",
              "      <td>PIB per capita - valores correntes</td>\n",
              "      <td>1996</td>\n",
              "      <td>1996</td>\n",
              "    </tr>\n",
              "    <tr>\n",
              "      <th>2</th>\n",
              "      <td>1</td>\n",
              "      <td>Brasil</td>\n",
              "      <td>38</td>\n",
              "      <td>Reais</td>\n",
              "      <td>5729.02</td>\n",
              "      <td>1</td>\n",
              "      <td>Brasil</td>\n",
              "      <td>9812</td>\n",
              "      <td>PIB per capita - valores correntes</td>\n",
              "      <td>1997</td>\n",
              "      <td>1997</td>\n",
              "    </tr>\n",
              "    <tr>\n",
              "      <th>3</th>\n",
              "      <td>1</td>\n",
              "      <td>Brasil</td>\n",
              "      <td>38</td>\n",
              "      <td>Reais</td>\n",
              "      <td>5944.92</td>\n",
              "      <td>1</td>\n",
              "      <td>Brasil</td>\n",
              "      <td>9812</td>\n",
              "      <td>PIB per capita - valores correntes</td>\n",
              "      <td>1998</td>\n",
              "      <td>1998</td>\n",
              "    </tr>\n",
              "    <tr>\n",
              "      <th>4</th>\n",
              "      <td>1</td>\n",
              "      <td>Brasil</td>\n",
              "      <td>38</td>\n",
              "      <td>Reais</td>\n",
              "      <td>6359.80</td>\n",
              "      <td>1</td>\n",
              "      <td>Brasil</td>\n",
              "      <td>9812</td>\n",
              "      <td>PIB per capita - valores correntes</td>\n",
              "      <td>1999</td>\n",
              "      <td>1999</td>\n",
              "    </tr>\n",
              "  </tbody>\n",
              "</table>\n",
              "</div>"
            ],
            "text/plain": [
              "                           NC                 NN  ...           D3C   D3N\n",
              "0  Nível Territorial (Código)  Nível Territorial  ...  Ano (Código)   Ano\n",
              "1                           1             Brasil  ...          1996  1996\n",
              "2                           1             Brasil  ...          1997  1997\n",
              "3                           1             Brasil  ...          1998  1998\n",
              "4                           1             Brasil  ...          1999  1999\n",
              "\n",
              "[5 rows x 11 columns]"
            ]
          },
          "metadata": {},
          "execution_count": 40
        }
      ]
    },
    {
      "cell_type": "code",
      "metadata": {
        "colab": {
          "base_uri": "https://localhost:8080/"
        },
        "id": "049ZRy9UjYAU",
        "outputId": "9972304e-db30-439b-f833-d4308205d123"
      },
      "source": [
        "type(DFPIBpc) ### Verificando o tipo de objeto criado: data frame."
      ],
      "execution_count": 41,
      "outputs": [
        {
          "output_type": "execute_result",
          "data": {
            "text/plain": [
              "pandas.core.frame.DataFrame"
            ]
          },
          "metadata": {},
          "execution_count": 41
        }
      ]
    },
    {
      "cell_type": "code",
      "metadata": {
        "id": "6kRQtCHPjYDe"
      },
      "source": [
        "PIBpc = DFPIBpc.drop([0], axis=0) ### Excluindo a primeira linha do data frame, para facilitar a leitura."
      ],
      "execution_count": 42,
      "outputs": []
    },
    {
      "cell_type": "code",
      "metadata": {
        "colab": {
          "base_uri": "https://localhost:8080/",
          "height": 206
        },
        "id": "IZ2fhRz-jYKc",
        "outputId": "30f257cd-b601-4324-acf1-c4308c0fcf37"
      },
      "source": [
        "PIBpc.head()"
      ],
      "execution_count": 43,
      "outputs": [
        {
          "output_type": "execute_result",
          "data": {
            "text/html": [
              "<div>\n",
              "<style scoped>\n",
              "    .dataframe tbody tr th:only-of-type {\n",
              "        vertical-align: middle;\n",
              "    }\n",
              "\n",
              "    .dataframe tbody tr th {\n",
              "        vertical-align: top;\n",
              "    }\n",
              "\n",
              "    .dataframe thead th {\n",
              "        text-align: right;\n",
              "    }\n",
              "</style>\n",
              "<table border=\"1\" class=\"dataframe\">\n",
              "  <thead>\n",
              "    <tr style=\"text-align: right;\">\n",
              "      <th></th>\n",
              "      <th>NC</th>\n",
              "      <th>NN</th>\n",
              "      <th>MC</th>\n",
              "      <th>MN</th>\n",
              "      <th>V</th>\n",
              "      <th>D1C</th>\n",
              "      <th>D1N</th>\n",
              "      <th>D2C</th>\n",
              "      <th>D2N</th>\n",
              "      <th>D3C</th>\n",
              "      <th>D3N</th>\n",
              "    </tr>\n",
              "  </thead>\n",
              "  <tbody>\n",
              "    <tr>\n",
              "      <th>1</th>\n",
              "      <td>1</td>\n",
              "      <td>Brasil</td>\n",
              "      <td>38</td>\n",
              "      <td>Reais</td>\n",
              "      <td>5219.36</td>\n",
              "      <td>1</td>\n",
              "      <td>Brasil</td>\n",
              "      <td>9812</td>\n",
              "      <td>PIB per capita - valores correntes</td>\n",
              "      <td>1996</td>\n",
              "      <td>1996</td>\n",
              "    </tr>\n",
              "    <tr>\n",
              "      <th>2</th>\n",
              "      <td>1</td>\n",
              "      <td>Brasil</td>\n",
              "      <td>38</td>\n",
              "      <td>Reais</td>\n",
              "      <td>5729.02</td>\n",
              "      <td>1</td>\n",
              "      <td>Brasil</td>\n",
              "      <td>9812</td>\n",
              "      <td>PIB per capita - valores correntes</td>\n",
              "      <td>1997</td>\n",
              "      <td>1997</td>\n",
              "    </tr>\n",
              "    <tr>\n",
              "      <th>3</th>\n",
              "      <td>1</td>\n",
              "      <td>Brasil</td>\n",
              "      <td>38</td>\n",
              "      <td>Reais</td>\n",
              "      <td>5944.92</td>\n",
              "      <td>1</td>\n",
              "      <td>Brasil</td>\n",
              "      <td>9812</td>\n",
              "      <td>PIB per capita - valores correntes</td>\n",
              "      <td>1998</td>\n",
              "      <td>1998</td>\n",
              "    </tr>\n",
              "    <tr>\n",
              "      <th>4</th>\n",
              "      <td>1</td>\n",
              "      <td>Brasil</td>\n",
              "      <td>38</td>\n",
              "      <td>Reais</td>\n",
              "      <td>6359.80</td>\n",
              "      <td>1</td>\n",
              "      <td>Brasil</td>\n",
              "      <td>9812</td>\n",
              "      <td>PIB per capita - valores correntes</td>\n",
              "      <td>1999</td>\n",
              "      <td>1999</td>\n",
              "    </tr>\n",
              "    <tr>\n",
              "      <th>5</th>\n",
              "      <td>1</td>\n",
              "      <td>Brasil</td>\n",
              "      <td>38</td>\n",
              "      <td>Reais</td>\n",
              "      <td>6900.62</td>\n",
              "      <td>1</td>\n",
              "      <td>Brasil</td>\n",
              "      <td>9812</td>\n",
              "      <td>PIB per capita - valores correntes</td>\n",
              "      <td>2000</td>\n",
              "      <td>2000</td>\n",
              "    </tr>\n",
              "  </tbody>\n",
              "</table>\n",
              "</div>"
            ],
            "text/plain": [
              "  NC      NN  MC     MN  ...   D2C                                 D2N   D3C   D3N\n",
              "1  1  Brasil  38  Reais  ...  9812  PIB per capita - valores correntes  1996  1996\n",
              "2  1  Brasil  38  Reais  ...  9812  PIB per capita - valores correntes  1997  1997\n",
              "3  1  Brasil  38  Reais  ...  9812  PIB per capita - valores correntes  1998  1998\n",
              "4  1  Brasil  38  Reais  ...  9812  PIB per capita - valores correntes  1999  1999\n",
              "5  1  Brasil  38  Reais  ...  9812  PIB per capita - valores correntes  2000  2000\n",
              "\n",
              "[5 rows x 11 columns]"
            ]
          },
          "metadata": {},
          "execution_count": 43
        }
      ]
    },
    {
      "cell_type": "code",
      "metadata": {
        "id": "I-P8evVPIQxp"
      },
      "source": [
        "pibpc = PIBpc[[\"V\", \"D3C\"]] ### Criando um outro data frame só com os valores que interessam."
      ],
      "execution_count": 44,
      "outputs": []
    },
    {
      "cell_type": "code",
      "metadata": {
        "colab": {
          "base_uri": "https://localhost:8080/",
          "height": 206
        },
        "id": "xnwjvXXhIQ0Z",
        "outputId": "31dc6d3e-9693-4dfb-f8a0-dfe118abc7be"
      },
      "source": [
        "pibpc.head()"
      ],
      "execution_count": 45,
      "outputs": [
        {
          "output_type": "execute_result",
          "data": {
            "text/html": [
              "<div>\n",
              "<style scoped>\n",
              "    .dataframe tbody tr th:only-of-type {\n",
              "        vertical-align: middle;\n",
              "    }\n",
              "\n",
              "    .dataframe tbody tr th {\n",
              "        vertical-align: top;\n",
              "    }\n",
              "\n",
              "    .dataframe thead th {\n",
              "        text-align: right;\n",
              "    }\n",
              "</style>\n",
              "<table border=\"1\" class=\"dataframe\">\n",
              "  <thead>\n",
              "    <tr style=\"text-align: right;\">\n",
              "      <th></th>\n",
              "      <th>V</th>\n",
              "      <th>D3C</th>\n",
              "    </tr>\n",
              "  </thead>\n",
              "  <tbody>\n",
              "    <tr>\n",
              "      <th>1</th>\n",
              "      <td>5219.36</td>\n",
              "      <td>1996</td>\n",
              "    </tr>\n",
              "    <tr>\n",
              "      <th>2</th>\n",
              "      <td>5729.02</td>\n",
              "      <td>1997</td>\n",
              "    </tr>\n",
              "    <tr>\n",
              "      <th>3</th>\n",
              "      <td>5944.92</td>\n",
              "      <td>1998</td>\n",
              "    </tr>\n",
              "    <tr>\n",
              "      <th>4</th>\n",
              "      <td>6359.80</td>\n",
              "      <td>1999</td>\n",
              "    </tr>\n",
              "    <tr>\n",
              "      <th>5</th>\n",
              "      <td>6900.62</td>\n",
              "      <td>2000</td>\n",
              "    </tr>\n",
              "  </tbody>\n",
              "</table>\n",
              "</div>"
            ],
            "text/plain": [
              "         V   D3C\n",
              "1  5219.36  1996\n",
              "2  5729.02  1997\n",
              "3  5944.92  1998\n",
              "4  6359.80  1999\n",
              "5  6900.62  2000"
            ]
          },
          "metadata": {},
          "execution_count": 45
        }
      ]
    },
    {
      "cell_type": "code",
      "metadata": {
        "colab": {
          "base_uri": "https://localhost:8080/"
        },
        "id": "t2EU3527hezd",
        "outputId": "d3a556fe-3e8d-4b45-ff37-e229b9f0a7cc"
      },
      "source": [
        "pibpc.rename(columns={'D3C': 'Anos'}, inplace = True) ### Renomeando a coluna de datas (de D3C para Anos)."
      ],
      "execution_count": 46,
      "outputs": [
        {
          "output_type": "stream",
          "name": "stderr",
          "text": [
            "/usr/local/lib/python3.7/dist-packages/pandas/core/frame.py:4308: SettingWithCopyWarning: \n",
            "A value is trying to be set on a copy of a slice from a DataFrame\n",
            "\n",
            "See the caveats in the documentation: https://pandas.pydata.org/pandas-docs/stable/user_guide/indexing.html#returning-a-view-versus-a-copy\n",
            "  errors=errors,\n"
          ]
        }
      ]
    },
    {
      "cell_type": "markdown",
      "metadata": {
        "id": "H_JwX-IDtTG6"
      },
      "source": [
        "Apesar no nome da variável (\"Anos\") se referir a uma unidade de tempo, a coluna não é, para o Python, uma coluna de datas. Precisamos transformá-la em tempo. Uma das formas é a empregada a seguir: vamos fazer com que a coluna \"Index\", que sempre consta nos data frames, seja considerada, ela, a coluna do tempo."
      ]
    },
    {
      "cell_type": "code",
      "metadata": {
        "id": "1M5VjbtXlrtK"
      },
      "source": [
        "pibpc.index = pd.to_datetime(pibpc['Anos']) ### Estamos aqui substituindo a coluna Index pela de datas do próprio arquivo."
      ],
      "execution_count": 47,
      "outputs": []
    },
    {
      "cell_type": "code",
      "metadata": {
        "colab": {
          "base_uri": "https://localhost:8080/",
          "height": 238
        },
        "id": "mB0CIqCzlrwC",
        "outputId": "7cffb160-04fa-4d6b-eb1a-e17cabfe555e"
      },
      "source": [
        "pibpc.head()"
      ],
      "execution_count": 48,
      "outputs": [
        {
          "output_type": "execute_result",
          "data": {
            "text/html": [
              "<div>\n",
              "<style scoped>\n",
              "    .dataframe tbody tr th:only-of-type {\n",
              "        vertical-align: middle;\n",
              "    }\n",
              "\n",
              "    .dataframe tbody tr th {\n",
              "        vertical-align: top;\n",
              "    }\n",
              "\n",
              "    .dataframe thead th {\n",
              "        text-align: right;\n",
              "    }\n",
              "</style>\n",
              "<table border=\"1\" class=\"dataframe\">\n",
              "  <thead>\n",
              "    <tr style=\"text-align: right;\">\n",
              "      <th></th>\n",
              "      <th>V</th>\n",
              "      <th>Anos</th>\n",
              "    </tr>\n",
              "    <tr>\n",
              "      <th>Anos</th>\n",
              "      <th></th>\n",
              "      <th></th>\n",
              "    </tr>\n",
              "  </thead>\n",
              "  <tbody>\n",
              "    <tr>\n",
              "      <th>1996-01-01</th>\n",
              "      <td>5219.36</td>\n",
              "      <td>1996</td>\n",
              "    </tr>\n",
              "    <tr>\n",
              "      <th>1997-01-01</th>\n",
              "      <td>5729.02</td>\n",
              "      <td>1997</td>\n",
              "    </tr>\n",
              "    <tr>\n",
              "      <th>1998-01-01</th>\n",
              "      <td>5944.92</td>\n",
              "      <td>1998</td>\n",
              "    </tr>\n",
              "    <tr>\n",
              "      <th>1999-01-01</th>\n",
              "      <td>6359.80</td>\n",
              "      <td>1999</td>\n",
              "    </tr>\n",
              "    <tr>\n",
              "      <th>2000-01-01</th>\n",
              "      <td>6900.62</td>\n",
              "      <td>2000</td>\n",
              "    </tr>\n",
              "  </tbody>\n",
              "</table>\n",
              "</div>"
            ],
            "text/plain": [
              "                  V  Anos\n",
              "Anos                     \n",
              "1996-01-01  5219.36  1996\n",
              "1997-01-01  5729.02  1997\n",
              "1998-01-01  5944.92  1998\n",
              "1999-01-01  6359.80  1999\n",
              "2000-01-01  6900.62  2000"
            ]
          },
          "metadata": {},
          "execution_count": 48
        }
      ]
    },
    {
      "cell_type": "markdown",
      "metadata": {
        "id": "7M7LQeBQt9O9"
      },
      "source": [
        "Notem que a terceira coluna do data frame *pibpc* é redundante. Vamos tratar de excluí-la."
      ]
    },
    {
      "cell_type": "code",
      "metadata": {
        "id": "yaZkRZoYw3hr",
        "colab": {
          "base_uri": "https://localhost:8080/"
        },
        "outputId": "84a88b3a-339d-43f3-c6d8-9f50b41662e3"
      },
      "source": [
        "pibpcdf = pibpc.drop(pibpc.columns[[1]], axis=1, inplace=True) ### Atenção para as mudanças de nomes, não são obrigatórias."
      ],
      "execution_count": 49,
      "outputs": [
        {
          "output_type": "stream",
          "name": "stderr",
          "text": [
            "/usr/local/lib/python3.7/dist-packages/pandas/core/frame.py:4174: SettingWithCopyWarning: \n",
            "A value is trying to be set on a copy of a slice from a DataFrame\n",
            "\n",
            "See the caveats in the documentation: https://pandas.pydata.org/pandas-docs/stable/user_guide/indexing.html#returning-a-view-versus-a-copy\n",
            "  errors=errors,\n"
          ]
        }
      ]
    },
    {
      "cell_type": "code",
      "metadata": {
        "id": "ZDss3j41lr6K"
      },
      "source": [
        "PIBPC = pibpc.astype(float) ### Convertendo a arquivo para uma formato númerico (float). Atenção para a mudança de nome, mais uma vez."
      ],
      "execution_count": 50,
      "outputs": []
    },
    {
      "cell_type": "code",
      "metadata": {
        "colab": {
          "base_uri": "https://localhost:8080/",
          "height": 238
        },
        "id": "a0X4700Fw9ou",
        "outputId": "10937427-2374-43e4-fbf5-abf4e9ef8967"
      },
      "source": [
        "PIBPC.head()"
      ],
      "execution_count": 162,
      "outputs": [
        {
          "output_type": "execute_result",
          "data": {
            "text/html": [
              "<div>\n",
              "<style scoped>\n",
              "    .dataframe tbody tr th:only-of-type {\n",
              "        vertical-align: middle;\n",
              "    }\n",
              "\n",
              "    .dataframe tbody tr th {\n",
              "        vertical-align: top;\n",
              "    }\n",
              "\n",
              "    .dataframe thead th {\n",
              "        text-align: right;\n",
              "    }\n",
              "</style>\n",
              "<table border=\"1\" class=\"dataframe\">\n",
              "  <thead>\n",
              "    <tr style=\"text-align: right;\">\n",
              "      <th></th>\n",
              "      <th>V</th>\n",
              "    </tr>\n",
              "    <tr>\n",
              "      <th>Anos</th>\n",
              "      <th></th>\n",
              "    </tr>\n",
              "  </thead>\n",
              "  <tbody>\n",
              "    <tr>\n",
              "      <th>1996-01-01</th>\n",
              "      <td>5219.36</td>\n",
              "    </tr>\n",
              "    <tr>\n",
              "      <th>1997-01-01</th>\n",
              "      <td>5729.02</td>\n",
              "    </tr>\n",
              "    <tr>\n",
              "      <th>1998-01-01</th>\n",
              "      <td>5944.92</td>\n",
              "    </tr>\n",
              "    <tr>\n",
              "      <th>1999-01-01</th>\n",
              "      <td>6359.80</td>\n",
              "    </tr>\n",
              "    <tr>\n",
              "      <th>2000-01-01</th>\n",
              "      <td>6900.62</td>\n",
              "    </tr>\n",
              "  </tbody>\n",
              "</table>\n",
              "</div>"
            ],
            "text/plain": [
              "                  V\n",
              "Anos               \n",
              "1996-01-01  5219.36\n",
              "1997-01-01  5729.02\n",
              "1998-01-01  5944.92\n",
              "1999-01-01  6359.80\n",
              "2000-01-01  6900.62"
            ]
          },
          "metadata": {},
          "execution_count": 162
        }
      ]
    },
    {
      "cell_type": "code",
      "metadata": {
        "colab": {
          "base_uri": "https://localhost:8080/",
          "height": 238
        },
        "id": "7APWqGo0E83K",
        "outputId": "e92a34d1-0c89-439a-eab5-d39a31d90fc3"
      },
      "source": [
        "PIBPC.tail()"
      ],
      "execution_count": 98,
      "outputs": [
        {
          "output_type": "execute_result",
          "data": {
            "text/html": [
              "<div>\n",
              "<style scoped>\n",
              "    .dataframe tbody tr th:only-of-type {\n",
              "        vertical-align: middle;\n",
              "    }\n",
              "\n",
              "    .dataframe tbody tr th {\n",
              "        vertical-align: top;\n",
              "    }\n",
              "\n",
              "    .dataframe thead th {\n",
              "        text-align: right;\n",
              "    }\n",
              "</style>\n",
              "<table border=\"1\" class=\"dataframe\">\n",
              "  <thead>\n",
              "    <tr style=\"text-align: right;\">\n",
              "      <th></th>\n",
              "      <th>V</th>\n",
              "    </tr>\n",
              "    <tr>\n",
              "      <th>Anos</th>\n",
              "      <th></th>\n",
              "    </tr>\n",
              "  </thead>\n",
              "  <tbody>\n",
              "    <tr>\n",
              "      <th>2015-01-01</th>\n",
              "      <td>29466.85</td>\n",
              "    </tr>\n",
              "    <tr>\n",
              "      <th>2016-01-01</th>\n",
              "      <td>30558.75</td>\n",
              "    </tr>\n",
              "    <tr>\n",
              "      <th>2017-01-01</th>\n",
              "      <td>31843.95</td>\n",
              "    </tr>\n",
              "    <tr>\n",
              "      <th>2018-01-01</th>\n",
              "      <td>33593.82</td>\n",
              "    </tr>\n",
              "    <tr>\n",
              "      <th>2019-01-01</th>\n",
              "      <td>35161.70</td>\n",
              "    </tr>\n",
              "  </tbody>\n",
              "</table>\n",
              "</div>"
            ],
            "text/plain": [
              "                   V\n",
              "Anos                \n",
              "2015-01-01  29466.85\n",
              "2016-01-01  30558.75\n",
              "2017-01-01  31843.95\n",
              "2018-01-01  33593.82\n",
              "2019-01-01  35161.70"
            ]
          },
          "metadata": {},
          "execution_count": 98
        }
      ]
    },
    {
      "cell_type": "code",
      "metadata": {
        "colab": {
          "base_uri": "https://localhost:8080/",
          "height": 537
        },
        "id": "f8zsb3EzmhyI",
        "outputId": "dfef2b27-3ed2-411e-fb49-e30bbde5f507"
      },
      "source": [
        "plt.rcParams['figure.figsize'] = (10,8)\n",
        "plt.title('PIB per capita nominal - 1996-2019',fontsize = 16)\n",
        "plt.plot(PIBPC.V,lw =2, label = 'PIBpc nominal', c= 'b') ### estou fazendo um gráfico da śerie \"V\".\n",
        "plt.ylabel(\"PIBpc nominal\",fontsize = 15)\n",
        "plt.xlabel('Anos',fontsize = 15)\n",
        "plt.legend(loc = 'upper left')"
      ],
      "execution_count": 52,
      "outputs": [
        {
          "output_type": "execute_result",
          "data": {
            "text/plain": [
              "<matplotlib.legend.Legend at 0x7efea30d9e90>"
            ]
          },
          "metadata": {},
          "execution_count": 52
        },
        {
          "output_type": "display_data",
          "data": {
            "image/png": "[encoded data removed]",
            "text/plain": [
              "<Figure size 720x576 with 1 Axes>"
            ]
          },
          "metadata": {
            "needs_background": "light"
          }
        }
      ]
    },
    {
      "cell_type": "markdown",
      "metadata": {
        "id": "qw23Mnab000_"
      },
      "source": [
        "**IPCA**\n",
        "---"
      ]
    },
    {
      "cell_type": "markdown",
      "metadata": {
        "id": "Orfds5Sozulm"
      },
      "source": [
        "**Instruções para pegar a série do IPCA no Sidra-IBGE**"
      ]
    },
    {
      "cell_type": "markdown",
      "metadata": {
        "id": "swSZDyWL08nw"
      },
      "source": [
        " Nesse endereço, você pega o endereço JSON da **tabela 1737** do SIDRA-IBGE: https://sidra.ibge.gov.br/tabela/1737 .\n"
      ]
    },
    {
      "cell_type": "markdown",
      "metadata": {
        "id": "GeF3nnNp0Wya"
      },
      "source": [
        "Na página da tabela 1737, as seleções que você deve fazer são as seguintes: **Variável:** IPCA - Número-índice (base: dezembro de 1993 = 100) (Número-índice): 13 de 13 casas decimais.\n",
        "**Mês:** Clique na lupa e escreva \"dezembro\". Marque os anos de 1995 até 2019 (para bater com a série de PIB per capita nominal).\n",
        "Clique no botão \"Links de compartilhar\" no fim de página.\n",
        "Copie o endereço de **Parâmetros para API**. Esse endereço será usado no comando seguinte."
      ]
    },
    {
      "cell_type": "code",
      "metadata": {
        "id": "QxEbt9AI2Oqt"
      },
      "source": [
        "linkIPCA = 'https://apisidra.ibge.gov.br/values/t/1737/n1/all/v/2266/p/199612,199712,199812,199912,200012,200112,200212,200312,200412,200512,200612,200712,200812,200912,201012,201112,201212,201312,201412,201512,201612,201712,201812,201912/d/v2266%2013'"
      ],
      "execution_count": 101,
      "outputs": []
    },
    {
      "cell_type": "code",
      "metadata": {
        "id": "yqWIDYDS6CGf"
      },
      "source": [
        "DFIPCA = pd.read_json(linkIPCA) ### Usando a função read_json para fazer a raspagem de dados com o link anterior."
      ],
      "execution_count": 102,
      "outputs": []
    },
    {
      "cell_type": "code",
      "metadata": {
        "colab": {
          "base_uri": "https://localhost:8080/",
          "height": 293
        },
        "id": "iSa5KFtV6CI_",
        "outputId": "f5a74323-5789-48ce-eacc-d4ab5fd1c6d6"
      },
      "source": [
        "DFIPCA.head()"
      ],
      "execution_count": 104,
      "outputs": [
        {
          "output_type": "execute_result",
          "data": {
            "text/html": [
              "<div>\n",
              "<style scoped>\n",
              "    .dataframe tbody tr th:only-of-type {\n",
              "        vertical-align: middle;\n",
              "    }\n",
              "\n",
              "    .dataframe tbody tr th {\n",
              "        vertical-align: top;\n",
              "    }\n",
              "\n",
              "    .dataframe thead th {\n",
              "        text-align: right;\n",
              "    }\n",
              "</style>\n",
              "<table border=\"1\" class=\"dataframe\">\n",
              "  <thead>\n",
              "    <tr style=\"text-align: right;\">\n",
              "      <th></th>\n",
              "      <th>NC</th>\n",
              "      <th>NN</th>\n",
              "      <th>MC</th>\n",
              "      <th>MN</th>\n",
              "      <th>V</th>\n",
              "      <th>D1C</th>\n",
              "      <th>D1N</th>\n",
              "      <th>D2C</th>\n",
              "      <th>D2N</th>\n",
              "      <th>D3C</th>\n",
              "      <th>D3N</th>\n",
              "    </tr>\n",
              "  </thead>\n",
              "  <tbody>\n",
              "    <tr>\n",
              "      <th>0</th>\n",
              "      <td>Nível Territorial (Código)</td>\n",
              "      <td>Nível Territorial</td>\n",
              "      <td>Unidade de Medida (Código)</td>\n",
              "      <td>Unidade de Medida</td>\n",
              "      <td>Valor</td>\n",
              "      <td>Brasil (Código)</td>\n",
              "      <td>Brasil</td>\n",
              "      <td>Variável (Código)</td>\n",
              "      <td>Variável</td>\n",
              "      <td>Mês (Código)</td>\n",
              "      <td>Mês</td>\n",
              "    </tr>\n",
              "    <tr>\n",
              "      <th>1</th>\n",
              "      <td>1</td>\n",
              "      <td>Brasil</td>\n",
              "      <td>30</td>\n",
              "      <td>Número-índice</td>\n",
              "      <td>1363.2400000000000</td>\n",
              "      <td>1</td>\n",
              "      <td>Brasil</td>\n",
              "      <td>2266</td>\n",
              "      <td>IPCA - Número-índice (base: dezembro de 1993 =...</td>\n",
              "      <td>199612</td>\n",
              "      <td>dezembro 1996</td>\n",
              "    </tr>\n",
              "    <tr>\n",
              "      <th>2</th>\n",
              "      <td>1</td>\n",
              "      <td>Brasil</td>\n",
              "      <td>30</td>\n",
              "      <td>Número-índice</td>\n",
              "      <td>1434.4600000000000</td>\n",
              "      <td>1</td>\n",
              "      <td>Brasil</td>\n",
              "      <td>2266</td>\n",
              "      <td>IPCA - Número-índice (base: dezembro de 1993 =...</td>\n",
              "      <td>199712</td>\n",
              "      <td>dezembro 1997</td>\n",
              "    </tr>\n",
              "    <tr>\n",
              "      <th>3</th>\n",
              "      <td>1</td>\n",
              "      <td>Brasil</td>\n",
              "      <td>30</td>\n",
              "      <td>Número-índice</td>\n",
              "      <td>1458.2000000000000</td>\n",
              "      <td>1</td>\n",
              "      <td>Brasil</td>\n",
              "      <td>2266</td>\n",
              "      <td>IPCA - Número-índice (base: dezembro de 1993 =...</td>\n",
              "      <td>199812</td>\n",
              "      <td>dezembro 1998</td>\n",
              "    </tr>\n",
              "    <tr>\n",
              "      <th>4</th>\n",
              "      <td>1</td>\n",
              "      <td>Brasil</td>\n",
              "      <td>30</td>\n",
              "      <td>Número-índice</td>\n",
              "      <td>1588.5600000000000</td>\n",
              "      <td>1</td>\n",
              "      <td>Brasil</td>\n",
              "      <td>2266</td>\n",
              "      <td>IPCA - Número-índice (base: dezembro de 1993 =...</td>\n",
              "      <td>199912</td>\n",
              "      <td>dezembro 1999</td>\n",
              "    </tr>\n",
              "  </tbody>\n",
              "</table>\n",
              "</div>"
            ],
            "text/plain": [
              "                           NC                 NN  ...           D3C            D3N\n",
              "0  Nível Territorial (Código)  Nível Territorial  ...  Mês (Código)            Mês\n",
              "1                           1             Brasil  ...        199612  dezembro 1996\n",
              "2                           1             Brasil  ...        199712  dezembro 1997\n",
              "3                           1             Brasil  ...        199812  dezembro 1998\n",
              "4                           1             Brasil  ...        199912  dezembro 1999\n",
              "\n",
              "[5 rows x 11 columns]"
            ]
          },
          "metadata": {},
          "execution_count": 104
        }
      ]
    },
    {
      "cell_type": "code",
      "metadata": {
        "id": "3kd_VMIF6COZ"
      },
      "source": [
        "IPCA = DFIPCA.drop([0], axis=0) ### Excluindo a primeira linha do data frame, para facilitar a leitura."
      ],
      "execution_count": 105,
      "outputs": []
    },
    {
      "cell_type": "code",
      "metadata": {
        "colab": {
          "base_uri": "https://localhost:8080/",
          "height": 206
        },
        "id": "voKoKz0H6CRY",
        "outputId": "0e8c387e-3416-4fe8-86db-b27c158fb922"
      },
      "source": [
        "IPCA.head()"
      ],
      "execution_count": 106,
      "outputs": [
        {
          "output_type": "execute_result",
          "data": {
            "text/html": [
              "<div>\n",
              "<style scoped>\n",
              "    .dataframe tbody tr th:only-of-type {\n",
              "        vertical-align: middle;\n",
              "    }\n",
              "\n",
              "    .dataframe tbody tr th {\n",
              "        vertical-align: top;\n",
              "    }\n",
              "\n",
              "    .dataframe thead th {\n",
              "        text-align: right;\n",
              "    }\n",
              "</style>\n",
              "<table border=\"1\" class=\"dataframe\">\n",
              "  <thead>\n",
              "    <tr style=\"text-align: right;\">\n",
              "      <th></th>\n",
              "      <th>NC</th>\n",
              "      <th>NN</th>\n",
              "      <th>MC</th>\n",
              "      <th>MN</th>\n",
              "      <th>V</th>\n",
              "      <th>D1C</th>\n",
              "      <th>D1N</th>\n",
              "      <th>D2C</th>\n",
              "      <th>D2N</th>\n",
              "      <th>D3C</th>\n",
              "      <th>D3N</th>\n",
              "    </tr>\n",
              "  </thead>\n",
              "  <tbody>\n",
              "    <tr>\n",
              "      <th>1</th>\n",
              "      <td>1</td>\n",
              "      <td>Brasil</td>\n",
              "      <td>30</td>\n",
              "      <td>Número-índice</td>\n",
              "      <td>1363.2400000000000</td>\n",
              "      <td>1</td>\n",
              "      <td>Brasil</td>\n",
              "      <td>2266</td>\n",
              "      <td>IPCA - Número-índice (base: dezembro de 1993 =...</td>\n",
              "      <td>199612</td>\n",
              "      <td>dezembro 1996</td>\n",
              "    </tr>\n",
              "    <tr>\n",
              "      <th>2</th>\n",
              "      <td>1</td>\n",
              "      <td>Brasil</td>\n",
              "      <td>30</td>\n",
              "      <td>Número-índice</td>\n",
              "      <td>1434.4600000000000</td>\n",
              "      <td>1</td>\n",
              "      <td>Brasil</td>\n",
              "      <td>2266</td>\n",
              "      <td>IPCA - Número-índice (base: dezembro de 1993 =...</td>\n",
              "      <td>199712</td>\n",
              "      <td>dezembro 1997</td>\n",
              "    </tr>\n",
              "    <tr>\n",
              "      <th>3</th>\n",
              "      <td>1</td>\n",
              "      <td>Brasil</td>\n",
              "      <td>30</td>\n",
              "      <td>Número-índice</td>\n",
              "      <td>1458.2000000000000</td>\n",
              "      <td>1</td>\n",
              "      <td>Brasil</td>\n",
              "      <td>2266</td>\n",
              "      <td>IPCA - Número-índice (base: dezembro de 1993 =...</td>\n",
              "      <td>199812</td>\n",
              "      <td>dezembro 1998</td>\n",
              "    </tr>\n",
              "    <tr>\n",
              "      <th>4</th>\n",
              "      <td>1</td>\n",
              "      <td>Brasil</td>\n",
              "      <td>30</td>\n",
              "      <td>Número-índice</td>\n",
              "      <td>1588.5600000000000</td>\n",
              "      <td>1</td>\n",
              "      <td>Brasil</td>\n",
              "      <td>2266</td>\n",
              "      <td>IPCA - Número-índice (base: dezembro de 1993 =...</td>\n",
              "      <td>199912</td>\n",
              "      <td>dezembro 1999</td>\n",
              "    </tr>\n",
              "    <tr>\n",
              "      <th>5</th>\n",
              "      <td>1</td>\n",
              "      <td>Brasil</td>\n",
              "      <td>30</td>\n",
              "      <td>Número-índice</td>\n",
              "      <td>1683.4700000000000</td>\n",
              "      <td>1</td>\n",
              "      <td>Brasil</td>\n",
              "      <td>2266</td>\n",
              "      <td>IPCA - Número-índice (base: dezembro de 1993 =...</td>\n",
              "      <td>200012</td>\n",
              "      <td>dezembro 2000</td>\n",
              "    </tr>\n",
              "  </tbody>\n",
              "</table>\n",
              "</div>"
            ],
            "text/plain": [
              "  NC      NN  ...     D3C            D3N\n",
              "1  1  Brasil  ...  199612  dezembro 1996\n",
              "2  1  Brasil  ...  199712  dezembro 1997\n",
              "3  1  Brasil  ...  199812  dezembro 1998\n",
              "4  1  Brasil  ...  199912  dezembro 1999\n",
              "5  1  Brasil  ...  200012  dezembro 2000\n",
              "\n",
              "[5 rows x 11 columns]"
            ]
          },
          "metadata": {},
          "execution_count": 106
        }
      ]
    },
    {
      "cell_type": "markdown",
      "metadata": {
        "id": "Zm47UgZyFis9"
      },
      "source": [
        "Por causa da maneira como as datas aparecem nesse data frame, é mais interessante incluir uma coluna de datas em um data frame com os valores."
      ]
    },
    {
      "cell_type": "code",
      "metadata": {
        "id": "nM8Nbrf66CUk"
      },
      "source": [
        "ipca = IPCA[[\"V\"]] ### Criando um outro data frame só com os valores que interessam."
      ],
      "execution_count": 107,
      "outputs": []
    },
    {
      "cell_type": "code",
      "metadata": {
        "colab": {
          "base_uri": "https://localhost:8080/",
          "height": 206
        },
        "id": "jHCcrDtUCcfI",
        "outputId": "dbbbf8df-b6bd-4f6e-8c7b-ad54907a856f"
      },
      "source": [
        "ipca.head()"
      ],
      "execution_count": 108,
      "outputs": [
        {
          "output_type": "execute_result",
          "data": {
            "text/html": [
              "<div>\n",
              "<style scoped>\n",
              "    .dataframe tbody tr th:only-of-type {\n",
              "        vertical-align: middle;\n",
              "    }\n",
              "\n",
              "    .dataframe tbody tr th {\n",
              "        vertical-align: top;\n",
              "    }\n",
              "\n",
              "    .dataframe thead th {\n",
              "        text-align: right;\n",
              "    }\n",
              "</style>\n",
              "<table border=\"1\" class=\"dataframe\">\n",
              "  <thead>\n",
              "    <tr style=\"text-align: right;\">\n",
              "      <th></th>\n",
              "      <th>V</th>\n",
              "    </tr>\n",
              "  </thead>\n",
              "  <tbody>\n",
              "    <tr>\n",
              "      <th>1</th>\n",
              "      <td>1363.2400000000000</td>\n",
              "    </tr>\n",
              "    <tr>\n",
              "      <th>2</th>\n",
              "      <td>1434.4600000000000</td>\n",
              "    </tr>\n",
              "    <tr>\n",
              "      <th>3</th>\n",
              "      <td>1458.2000000000000</td>\n",
              "    </tr>\n",
              "    <tr>\n",
              "      <th>4</th>\n",
              "      <td>1588.5600000000000</td>\n",
              "    </tr>\n",
              "    <tr>\n",
              "      <th>5</th>\n",
              "      <td>1683.4700000000000</td>\n",
              "    </tr>\n",
              "  </tbody>\n",
              "</table>\n",
              "</div>"
            ],
            "text/plain": [
              "                    V\n",
              "1  1363.2400000000000\n",
              "2  1434.4600000000000\n",
              "3  1458.2000000000000\n",
              "4  1588.5600000000000\n",
              "5  1683.4700000000000"
            ]
          },
          "metadata": {},
          "execution_count": 108
        }
      ]
    },
    {
      "cell_type": "code",
      "metadata": {
        "id": "oiUWJKZwOBw0"
      },
      "source": [
        "Ipca = ipca.astype(float) ### Convertendo a arquivo para uma formato númerico (float)."
      ],
      "execution_count": 109,
      "outputs": []
    },
    {
      "cell_type": "code",
      "metadata": {
        "id": "lgzu9GHjF5po"
      },
      "source": [
        "Ipca['Anos'] = pd.date_range(start='1996', periods=len(ipca['V']), freq='Y') ### Acrescentando uma coluna de datas (anos), já no formato de datas do Python."
      ],
      "execution_count": 110,
      "outputs": []
    },
    {
      "cell_type": "code",
      "metadata": {
        "colab": {
          "base_uri": "https://localhost:8080/",
          "height": 206
        },
        "id": "Ht6AzjZjGu4s",
        "outputId": "af1381ac-ab7e-4ea8-dddc-614b0e47111c"
      },
      "source": [
        "Ipca.head()"
      ],
      "execution_count": 111,
      "outputs": [
        {
          "output_type": "execute_result",
          "data": {
            "text/html": [
              "<div>\n",
              "<style scoped>\n",
              "    .dataframe tbody tr th:only-of-type {\n",
              "        vertical-align: middle;\n",
              "    }\n",
              "\n",
              "    .dataframe tbody tr th {\n",
              "        vertical-align: top;\n",
              "    }\n",
              "\n",
              "    .dataframe thead th {\n",
              "        text-align: right;\n",
              "    }\n",
              "</style>\n",
              "<table border=\"1\" class=\"dataframe\">\n",
              "  <thead>\n",
              "    <tr style=\"text-align: right;\">\n",
              "      <th></th>\n",
              "      <th>V</th>\n",
              "      <th>Anos</th>\n",
              "    </tr>\n",
              "  </thead>\n",
              "  <tbody>\n",
              "    <tr>\n",
              "      <th>1</th>\n",
              "      <td>1363.24</td>\n",
              "      <td>1996-12-31</td>\n",
              "    </tr>\n",
              "    <tr>\n",
              "      <th>2</th>\n",
              "      <td>1434.46</td>\n",
              "      <td>1997-12-31</td>\n",
              "    </tr>\n",
              "    <tr>\n",
              "      <th>3</th>\n",
              "      <td>1458.20</td>\n",
              "      <td>1998-12-31</td>\n",
              "    </tr>\n",
              "    <tr>\n",
              "      <th>4</th>\n",
              "      <td>1588.56</td>\n",
              "      <td>1999-12-31</td>\n",
              "    </tr>\n",
              "    <tr>\n",
              "      <th>5</th>\n",
              "      <td>1683.47</td>\n",
              "      <td>2000-12-31</td>\n",
              "    </tr>\n",
              "  </tbody>\n",
              "</table>\n",
              "</div>"
            ],
            "text/plain": [
              "         V       Anos\n",
              "1  1363.24 1996-12-31\n",
              "2  1434.46 1997-12-31\n",
              "3  1458.20 1998-12-31\n",
              "4  1588.56 1999-12-31\n",
              "5  1683.47 2000-12-31"
            ]
          },
          "metadata": {},
          "execution_count": 111
        }
      ]
    },
    {
      "cell_type": "code",
      "metadata": {
        "colab": {
          "base_uri": "https://localhost:8080/",
          "height": 537
        },
        "id": "UGr4gJ5zGu7G",
        "outputId": "9576b147-5a0e-49ce-fdcd-34711efe0254"
      },
      "source": [
        "plt.rcParams['figure.figsize'] = (12,8)\n",
        "plt.title('IPCA (nº índice)- 1996-2019',fontsize = 16)\n",
        "plt.plot(Ipca.Anos,Ipca.V,lw =2, label = ' IPCA', c= 'r')\n",
        "plt.ylabel(\"IPCA\",fontsize = 15)\n",
        "plt.xlabel('Anos',fontsize = 15)\n",
        "plt.legend(loc = 'upper left')"
      ],
      "execution_count": 112,
      "outputs": [
        {
          "output_type": "execute_result",
          "data": {
            "text/plain": [
              "<matplotlib.legend.Legend at 0x7efe9e3e5690>"
            ]
          },
          "metadata": {},
          "execution_count": 112
        },
        {
          "output_type": "display_data",
          "data": {
            "image/png": "[encoded data removed]",
            "text/plain": [
              "<Figure size 864x576 with 1 Axes>"
            ]
          },
          "metadata": {
            "needs_background": "light"
          }
        }
      ]
    },
    {
      "cell_type": "markdown",
      "metadata": {
        "id": "lwul-PjP5MWx"
      },
      "source": [
        "Para deflacionar a série do PIB per capita nominal e apresentá-la a preços de 2019, precisamos multiplicar a série pelo fator: $IPCA_{2019}/IPCA_i$."
      ]
    },
    {
      "cell_type": "code",
      "metadata": {
        "colab": {
          "base_uri": "https://localhost:8080/",
          "height": 206
        },
        "id": "dhRy4N77JmvJ",
        "outputId": "4a3f8182-8a75-4f43-d69a-940c9dbb787f"
      },
      "source": [
        "Ipca.tail() ### Verificando qual o IPCA de 2019."
      ],
      "execution_count": 113,
      "outputs": [
        {
          "output_type": "execute_result",
          "data": {
            "text/html": [
              "<div>\n",
              "<style scoped>\n",
              "    .dataframe tbody tr th:only-of-type {\n",
              "        vertical-align: middle;\n",
              "    }\n",
              "\n",
              "    .dataframe tbody tr th {\n",
              "        vertical-align: top;\n",
              "    }\n",
              "\n",
              "    .dataframe thead th {\n",
              "        text-align: right;\n",
              "    }\n",
              "</style>\n",
              "<table border=\"1\" class=\"dataframe\">\n",
              "  <thead>\n",
              "    <tr style=\"text-align: right;\">\n",
              "      <th></th>\n",
              "      <th>V</th>\n",
              "      <th>Anos</th>\n",
              "    </tr>\n",
              "  </thead>\n",
              "  <tbody>\n",
              "    <tr>\n",
              "      <th>20</th>\n",
              "      <td>4493.17</td>\n",
              "      <td>2015-12-31</td>\n",
              "    </tr>\n",
              "    <tr>\n",
              "      <th>21</th>\n",
              "      <td>4775.70</td>\n",
              "      <td>2016-12-31</td>\n",
              "    </tr>\n",
              "    <tr>\n",
              "      <th>22</th>\n",
              "      <td>4916.46</td>\n",
              "      <td>2017-12-31</td>\n",
              "    </tr>\n",
              "    <tr>\n",
              "      <th>23</th>\n",
              "      <td>5100.61</td>\n",
              "      <td>2018-12-31</td>\n",
              "    </tr>\n",
              "    <tr>\n",
              "      <th>24</th>\n",
              "      <td>5320.25</td>\n",
              "      <td>2019-12-31</td>\n",
              "    </tr>\n",
              "  </tbody>\n",
              "</table>\n",
              "</div>"
            ],
            "text/plain": [
              "          V       Anos\n",
              "20  4493.17 2015-12-31\n",
              "21  4775.70 2016-12-31\n",
              "22  4916.46 2017-12-31\n",
              "23  5100.61 2018-12-31\n",
              "24  5320.25 2019-12-31"
            ]
          },
          "metadata": {},
          "execution_count": 113
        }
      ]
    },
    {
      "cell_type": "code",
      "metadata": {
        "id": "5cNMo2vFGvAt"
      },
      "source": [
        "ipca2019 = Ipca['V'].iloc[-1] ### Estamos selecionando a última lina da coluna de valores do Ipca."
      ],
      "execution_count": 114,
      "outputs": []
    },
    {
      "cell_type": "code",
      "metadata": {
        "id": "72lTX-qxCcq6",
        "colab": {
          "base_uri": "https://localhost:8080/"
        },
        "outputId": "2a76051c-6e3f-4ae7-f329-36753510f970"
      },
      "source": [
        "ipca2019"
      ],
      "execution_count": 115,
      "outputs": [
        {
          "output_type": "execute_result",
          "data": {
            "text/plain": [
              "5320.25"
            ]
          },
          "metadata": {},
          "execution_count": 115
        }
      ]
    },
    {
      "cell_type": "markdown",
      "metadata": {
        "id": "xRAQ7sth8RHl"
      },
      "source": [
        "Precisamos agora multiplicar esse ipca2019 pelo inverso da coluna de valores de IPCA (ou seja, a coluna Ipca.V). Primeiro vamos tratar de inverter a coluna Ipca.V."
      ]
    },
    {
      "cell_type": "code",
      "metadata": {
        "id": "fGh1EuwONA83"
      },
      "source": [
        "Inv_IPCA= np.power(Ipca.V, -1)"
      ],
      "execution_count": 116,
      "outputs": []
    },
    {
      "cell_type": "code",
      "metadata": {
        "colab": {
          "base_uri": "https://localhost:8080/"
        },
        "id": "jStrMUPpNA_l",
        "outputId": "bd67515c-665c-4f3c-b67f-6a685f7dc8ac"
      },
      "source": [
        "Inv_IPCA"
      ],
      "execution_count": 117,
      "outputs": [
        {
          "output_type": "execute_result",
          "data": {
            "text/plain": [
              "1     0.000734\n",
              "2     0.000697\n",
              "3     0.000686\n",
              "4     0.000630\n",
              "5     0.000594\n",
              "6     0.000552\n",
              "7     0.000490\n",
              "8     0.000449\n",
              "9     0.000417\n",
              "10    0.000394\n",
              "11    0.000382\n",
              "12    0.000366\n",
              "13    0.000346\n",
              "14    0.000331\n",
              "15    0.000313\n",
              "16    0.000294\n",
              "17    0.000278\n",
              "18    0.000262\n",
              "19    0.000246\n",
              "20    0.000223\n",
              "21    0.000209\n",
              "22    0.000203\n",
              "23    0.000196\n",
              "24    0.000188\n",
              "Name: V, dtype: float64"
            ]
          },
          "metadata": {},
          "execution_count": 117
        }
      ]
    },
    {
      "cell_type": "code",
      "metadata": {
        "id": "bY1avIvxO_ve"
      },
      "source": [
        "mult = ipca2019*Inv_IPCA"
      ],
      "execution_count": 118,
      "outputs": []
    },
    {
      "cell_type": "code",
      "metadata": {
        "id": "xdW7tJTDO_yd",
        "colab": {
          "base_uri": "https://localhost:8080/"
        },
        "outputId": "cb4741de-1cb8-4562-e2a0-19d91709e9d9"
      },
      "source": [
        "mult"
      ],
      "execution_count": 119,
      "outputs": [
        {
          "output_type": "execute_result",
          "data": {
            "text/plain": [
              "1     3.902651\n",
              "2     3.708887\n",
              "3     3.648505\n",
              "4     3.349102\n",
              "5     3.160288\n",
              "6     2.935067\n",
              "7     2.608247\n",
              "8     2.386308\n",
              "9     2.217769\n",
              "10    2.098387\n",
              "11    2.034474\n",
              "12    1.947654\n",
              "13    1.839097\n",
              "14    1.763079\n",
              "15    1.664716\n",
              "16    1.563065\n",
              "17    1.476838\n",
              "18    1.394418\n",
              "19    1.310452\n",
              "20    1.184075\n",
              "21    1.114025\n",
              "22    1.082130\n",
              "23    1.043062\n",
              "24    1.000000\n",
              "Name: V, dtype: float64"
            ]
          },
          "metadata": {},
          "execution_count": 119
        }
      ]
    },
    {
      "cell_type": "markdown",
      "metadata": {
        "id": "_u9oAjEM9rUd"
      },
      "source": [
        "Finalmente, precisamos multiplicar essa coluna de mutiplicadores (*mult*) pela coluna com os valores dos PIB per capita nominais. Atençao: não se trata de uma multiplicação de vetores ou matrizes, mas de uma multiplicação de elemento a elemento de dois vetores de dimensões iguais. É o que em matemática se chama de produto Hadamard (em homenagem ao matemático francês Jacques Hadamard (1865-1963). Vamos usar a funções da biblioteca **numpy** na operação."
      ]
    },
    {
      "cell_type": "code",
      "metadata": {
        "id": "r4jMZvrXDcfz"
      },
      "source": [
        "a = np.array([PIBPC['V']])"
      ],
      "execution_count": 120,
      "outputs": []
    },
    {
      "cell_type": "code",
      "metadata": {
        "colab": {
          "base_uri": "https://localhost:8080/"
        },
        "id": "9bKS27r8DciS",
        "outputId": "b92a4910-d423-4918-8383-ddb6f1e945d8"
      },
      "source": [
        "a"
      ],
      "execution_count": 121,
      "outputs": [
        {
          "output_type": "execute_result",
          "data": {
            "text/plain": [
              "array([[ 5219.36,  5729.02,  5944.92,  6359.8 ,  6900.62,  7467.03,\n",
              "         8340.58,  9506.76, 10705.99, 11733.45, 12880.52, 14390.01,\n",
              "        16280.82, 17271.34, 19938.6 , 22259.91, 24278.35, 26657.54,\n",
              "        28648.74, 29466.85, 30558.75, 31843.95, 33593.82, 35161.7 ]])"
            ]
          },
          "metadata": {},
          "execution_count": 121
        }
      ]
    },
    {
      "cell_type": "code",
      "metadata": {
        "id": "ZkblyoRwDclV"
      },
      "source": [
        "b = np.array([mult])"
      ],
      "execution_count": 122,
      "outputs": []
    },
    {
      "cell_type": "code",
      "metadata": {
        "colab": {
          "base_uri": "https://localhost:8080/"
        },
        "id": "XWASmdzxDcoS",
        "outputId": "f9982290-2067-4e23-fa5a-6c4525ab31da"
      },
      "source": [
        "b"
      ],
      "execution_count": 123,
      "outputs": [
        {
          "output_type": "execute_result",
          "data": {
            "text/plain": [
              "array([[3.90265104, 3.70888697, 3.64850501, 3.34910233, 3.16028798,\n",
              "        2.93506744, 2.60824697, 2.38630808, 2.21776883, 2.09838684,\n",
              "        2.03447353, 1.94765377, 1.83909695, 1.76307915, 1.66471624,\n",
              "        1.56306464, 1.47683805, 1.39441839, 1.31045159, 1.18407494,\n",
              "        1.11402517, 1.08213023, 1.04306152, 1.        ]])"
            ]
          },
          "metadata": {},
          "execution_count": 123
        }
      ]
    },
    {
      "cell_type": "code",
      "metadata": {
        "id": "5B1OPCEBDcra"
      },
      "source": [
        "c = np.multiply(a,b)"
      ],
      "execution_count": 124,
      "outputs": []
    },
    {
      "cell_type": "code",
      "metadata": {
        "colab": {
          "base_uri": "https://localhost:8080/"
        },
        "id": "tJENEXDY_OGX",
        "outputId": "ec352365-7afd-4fe2-aba1-b116f66fa41b"
      },
      "source": [
        "c"
      ],
      "execution_count": 125,
      "outputs": [
        {
          "output_type": "execute_result",
          "data": {
            "text/plain": [
              "array([[20369.3407177 , 21248.28761694, 21690.07038129, 21299.62100896,\n",
              "        21807.94641722, 21916.23664662, 21754.29249478, 22686.05819717,\n",
              "        23743.41090887, 24621.31709494, 26205.07696985, 28026.75727316,\n",
              "        29942.00638987, 30450.73937646, 33192.1113211 , 34793.6781641 ,\n",
              "        35855.19106041, 37171.76414076, 37542.7869397 , 34890.95865781,\n",
              "        34043.21663578, 34459.30099858, 35040.4208232 , 35161.7       ]])"
            ]
          },
          "metadata": {},
          "execution_count": 125
        }
      ]
    },
    {
      "cell_type": "code",
      "metadata": {
        "id": "H1B5I0gb_OM3"
      },
      "source": [
        "PIBpc_real = pd.DataFrame(c)"
      ],
      "execution_count": 126,
      "outputs": []
    },
    {
      "cell_type": "code",
      "metadata": {
        "colab": {
          "base_uri": "https://localhost:8080/",
          "height": 101
        },
        "id": "oZUWOUFM-sml",
        "outputId": "b5bcfc24-232f-45bd-f1c9-78a7731fa7af"
      },
      "source": [
        "PIBpc_real"
      ],
      "execution_count": 127,
      "outputs": [
        {
          "output_type": "execute_result",
          "data": {
            "text/html": [
              "<div>\n",
              "<style scoped>\n",
              "    .dataframe tbody tr th:only-of-type {\n",
              "        vertical-align: middle;\n",
              "    }\n",
              "\n",
              "    .dataframe tbody tr th {\n",
              "        vertical-align: top;\n",
              "    }\n",
              "\n",
              "    .dataframe thead th {\n",
              "        text-align: right;\n",
              "    }\n",
              "</style>\n",
              "<table border=\"1\" class=\"dataframe\">\n",
              "  <thead>\n",
              "    <tr style=\"text-align: right;\">\n",
              "      <th></th>\n",
              "      <th>0</th>\n",
              "      <th>1</th>\n",
              "      <th>2</th>\n",
              "      <th>3</th>\n",
              "      <th>4</th>\n",
              "      <th>5</th>\n",
              "      <th>6</th>\n",
              "      <th>7</th>\n",
              "      <th>8</th>\n",
              "      <th>9</th>\n",
              "      <th>10</th>\n",
              "      <th>11</th>\n",
              "      <th>12</th>\n",
              "      <th>13</th>\n",
              "      <th>14</th>\n",
              "      <th>15</th>\n",
              "      <th>16</th>\n",
              "      <th>17</th>\n",
              "      <th>18</th>\n",
              "      <th>19</th>\n",
              "      <th>20</th>\n",
              "      <th>21</th>\n",
              "      <th>22</th>\n",
              "      <th>23</th>\n",
              "    </tr>\n",
              "  </thead>\n",
              "  <tbody>\n",
              "    <tr>\n",
              "      <th>0</th>\n",
              "      <td>20369.340718</td>\n",
              "      <td>21248.287617</td>\n",
              "      <td>21690.070381</td>\n",
              "      <td>21299.621009</td>\n",
              "      <td>21807.946417</td>\n",
              "      <td>21916.236647</td>\n",
              "      <td>21754.292495</td>\n",
              "      <td>22686.058197</td>\n",
              "      <td>23743.410909</td>\n",
              "      <td>24621.317095</td>\n",
              "      <td>26205.07697</td>\n",
              "      <td>28026.757273</td>\n",
              "      <td>29942.00639</td>\n",
              "      <td>30450.739376</td>\n",
              "      <td>33192.111321</td>\n",
              "      <td>34793.678164</td>\n",
              "      <td>35855.19106</td>\n",
              "      <td>37171.764141</td>\n",
              "      <td>37542.78694</td>\n",
              "      <td>34890.958658</td>\n",
              "      <td>34043.216636</td>\n",
              "      <td>34459.300999</td>\n",
              "      <td>35040.420823</td>\n",
              "      <td>35161.7</td>\n",
              "    </tr>\n",
              "  </tbody>\n",
              "</table>\n",
              "</div>"
            ],
            "text/plain": [
              "             0             1   ...            22       23\n",
              "0  20369.340718  21248.287617  ...  35040.420823  35161.7\n",
              "\n",
              "[1 rows x 24 columns]"
            ]
          },
          "metadata": {},
          "execution_count": 127
        }
      ]
    },
    {
      "cell_type": "code",
      "metadata": {
        "id": "GFqQ5Tp4ITNU"
      },
      "source": [
        "PIBpc_real = PIBpc_real.T"
      ],
      "execution_count": 128,
      "outputs": []
    },
    {
      "cell_type": "code",
      "metadata": {
        "colab": {
          "base_uri": "https://localhost:8080/",
          "height": 802
        },
        "id": "ihzOrLR5IYh7",
        "outputId": "525d408c-d9fb-44f4-8cca-d7b3e2d883e2"
      },
      "source": [
        "PIBpc_real"
      ],
      "execution_count": 129,
      "outputs": [
        {
          "output_type": "execute_result",
          "data": {
            "text/html": [
              "<div>\n",
              "<style scoped>\n",
              "    .dataframe tbody tr th:only-of-type {\n",
              "        vertical-align: middle;\n",
              "    }\n",
              "\n",
              "    .dataframe tbody tr th {\n",
              "        vertical-align: top;\n",
              "    }\n",
              "\n",
              "    .dataframe thead th {\n",
              "        text-align: right;\n",
              "    }\n",
              "</style>\n",
              "<table border=\"1\" class=\"dataframe\">\n",
              "  <thead>\n",
              "    <tr style=\"text-align: right;\">\n",
              "      <th></th>\n",
              "      <th>0</th>\n",
              "    </tr>\n",
              "  </thead>\n",
              "  <tbody>\n",
              "    <tr>\n",
              "      <th>0</th>\n",
              "      <td>20369.340718</td>\n",
              "    </tr>\n",
              "    <tr>\n",
              "      <th>1</th>\n",
              "      <td>21248.287617</td>\n",
              "    </tr>\n",
              "    <tr>\n",
              "      <th>2</th>\n",
              "      <td>21690.070381</td>\n",
              "    </tr>\n",
              "    <tr>\n",
              "      <th>3</th>\n",
              "      <td>21299.621009</td>\n",
              "    </tr>\n",
              "    <tr>\n",
              "      <th>4</th>\n",
              "      <td>21807.946417</td>\n",
              "    </tr>\n",
              "    <tr>\n",
              "      <th>5</th>\n",
              "      <td>21916.236647</td>\n",
              "    </tr>\n",
              "    <tr>\n",
              "      <th>6</th>\n",
              "      <td>21754.292495</td>\n",
              "    </tr>\n",
              "    <tr>\n",
              "      <th>7</th>\n",
              "      <td>22686.058197</td>\n",
              "    </tr>\n",
              "    <tr>\n",
              "      <th>8</th>\n",
              "      <td>23743.410909</td>\n",
              "    </tr>\n",
              "    <tr>\n",
              "      <th>9</th>\n",
              "      <td>24621.317095</td>\n",
              "    </tr>\n",
              "    <tr>\n",
              "      <th>10</th>\n",
              "      <td>26205.076970</td>\n",
              "    </tr>\n",
              "    <tr>\n",
              "      <th>11</th>\n",
              "      <td>28026.757273</td>\n",
              "    </tr>\n",
              "    <tr>\n",
              "      <th>12</th>\n",
              "      <td>29942.006390</td>\n",
              "    </tr>\n",
              "    <tr>\n",
              "      <th>13</th>\n",
              "      <td>30450.739376</td>\n",
              "    </tr>\n",
              "    <tr>\n",
              "      <th>14</th>\n",
              "      <td>33192.111321</td>\n",
              "    </tr>\n",
              "    <tr>\n",
              "      <th>15</th>\n",
              "      <td>34793.678164</td>\n",
              "    </tr>\n",
              "    <tr>\n",
              "      <th>16</th>\n",
              "      <td>35855.191060</td>\n",
              "    </tr>\n",
              "    <tr>\n",
              "      <th>17</th>\n",
              "      <td>37171.764141</td>\n",
              "    </tr>\n",
              "    <tr>\n",
              "      <th>18</th>\n",
              "      <td>37542.786940</td>\n",
              "    </tr>\n",
              "    <tr>\n",
              "      <th>19</th>\n",
              "      <td>34890.958658</td>\n",
              "    </tr>\n",
              "    <tr>\n",
              "      <th>20</th>\n",
              "      <td>34043.216636</td>\n",
              "    </tr>\n",
              "    <tr>\n",
              "      <th>21</th>\n",
              "      <td>34459.300999</td>\n",
              "    </tr>\n",
              "    <tr>\n",
              "      <th>22</th>\n",
              "      <td>35040.420823</td>\n",
              "    </tr>\n",
              "    <tr>\n",
              "      <th>23</th>\n",
              "      <td>35161.700000</td>\n",
              "    </tr>\n",
              "  </tbody>\n",
              "</table>\n",
              "</div>"
            ],
            "text/plain": [
              "               0\n",
              "0   20369.340718\n",
              "1   21248.287617\n",
              "2   21690.070381\n",
              "3   21299.621009\n",
              "4   21807.946417\n",
              "5   21916.236647\n",
              "6   21754.292495\n",
              "7   22686.058197\n",
              "8   23743.410909\n",
              "9   24621.317095\n",
              "10  26205.076970\n",
              "11  28026.757273\n",
              "12  29942.006390\n",
              "13  30450.739376\n",
              "14  33192.111321\n",
              "15  34793.678164\n",
              "16  35855.191060\n",
              "17  37171.764141\n",
              "18  37542.786940\n",
              "19  34890.958658\n",
              "20  34043.216636\n",
              "21  34459.300999\n",
              "22  35040.420823\n",
              "23  35161.700000"
            ]
          },
          "metadata": {},
          "execution_count": 129
        }
      ]
    },
    {
      "cell_type": "code",
      "metadata": {
        "id": "s9eqJMbpIbfI"
      },
      "source": [
        "PIBpc_real['Anos'] = pd.date_range(start='1996', periods=len(PIBpc_real), freq='Y') ### Acrescentando uma coluna de datas (anos), já no formato de datas do Python."
      ],
      "execution_count": 130,
      "outputs": []
    },
    {
      "cell_type": "code",
      "metadata": {
        "colab": {
          "base_uri": "https://localhost:8080/",
          "height": 802
        },
        "id": "nuJkrrZlTbpm",
        "outputId": "2aa83b4c-f685-45db-fe46-16765df40574"
      },
      "source": [
        "PIBpc_real"
      ],
      "execution_count": 133,
      "outputs": [
        {
          "output_type": "execute_result",
          "data": {
            "text/html": [
              "<div>\n",
              "<style scoped>\n",
              "    .dataframe tbody tr th:only-of-type {\n",
              "        vertical-align: middle;\n",
              "    }\n",
              "\n",
              "    .dataframe tbody tr th {\n",
              "        vertical-align: top;\n",
              "    }\n",
              "\n",
              "    .dataframe thead th {\n",
              "        text-align: right;\n",
              "    }\n",
              "</style>\n",
              "<table border=\"1\" class=\"dataframe\">\n",
              "  <thead>\n",
              "    <tr style=\"text-align: right;\">\n",
              "      <th></th>\n",
              "      <th>0</th>\n",
              "      <th>Anos</th>\n",
              "    </tr>\n",
              "  </thead>\n",
              "  <tbody>\n",
              "    <tr>\n",
              "      <th>0</th>\n",
              "      <td>20369.340718</td>\n",
              "      <td>1996-12-31</td>\n",
              "    </tr>\n",
              "    <tr>\n",
              "      <th>1</th>\n",
              "      <td>21248.287617</td>\n",
              "      <td>1997-12-31</td>\n",
              "    </tr>\n",
              "    <tr>\n",
              "      <th>2</th>\n",
              "      <td>21690.070381</td>\n",
              "      <td>1998-12-31</td>\n",
              "    </tr>\n",
              "    <tr>\n",
              "      <th>3</th>\n",
              "      <td>21299.621009</td>\n",
              "      <td>1999-12-31</td>\n",
              "    </tr>\n",
              "    <tr>\n",
              "      <th>4</th>\n",
              "      <td>21807.946417</td>\n",
              "      <td>2000-12-31</td>\n",
              "    </tr>\n",
              "    <tr>\n",
              "      <th>5</th>\n",
              "      <td>21916.236647</td>\n",
              "      <td>2001-12-31</td>\n",
              "    </tr>\n",
              "    <tr>\n",
              "      <th>6</th>\n",
              "      <td>21754.292495</td>\n",
              "      <td>2002-12-31</td>\n",
              "    </tr>\n",
              "    <tr>\n",
              "      <th>7</th>\n",
              "      <td>22686.058197</td>\n",
              "      <td>2003-12-31</td>\n",
              "    </tr>\n",
              "    <tr>\n",
              "      <th>8</th>\n",
              "      <td>23743.410909</td>\n",
              "      <td>2004-12-31</td>\n",
              "    </tr>\n",
              "    <tr>\n",
              "      <th>9</th>\n",
              "      <td>24621.317095</td>\n",
              "      <td>2005-12-31</td>\n",
              "    </tr>\n",
              "    <tr>\n",
              "      <th>10</th>\n",
              "      <td>26205.076970</td>\n",
              "      <td>2006-12-31</td>\n",
              "    </tr>\n",
              "    <tr>\n",
              "      <th>11</th>\n",
              "      <td>28026.757273</td>\n",
              "      <td>2007-12-31</td>\n",
              "    </tr>\n",
              "    <tr>\n",
              "      <th>12</th>\n",
              "      <td>29942.006390</td>\n",
              "      <td>2008-12-31</td>\n",
              "    </tr>\n",
              "    <tr>\n",
              "      <th>13</th>\n",
              "      <td>30450.739376</td>\n",
              "      <td>2009-12-31</td>\n",
              "    </tr>\n",
              "    <tr>\n",
              "      <th>14</th>\n",
              "      <td>33192.111321</td>\n",
              "      <td>2010-12-31</td>\n",
              "    </tr>\n",
              "    <tr>\n",
              "      <th>15</th>\n",
              "      <td>34793.678164</td>\n",
              "      <td>2011-12-31</td>\n",
              "    </tr>\n",
              "    <tr>\n",
              "      <th>16</th>\n",
              "      <td>35855.191060</td>\n",
              "      <td>2012-12-31</td>\n",
              "    </tr>\n",
              "    <tr>\n",
              "      <th>17</th>\n",
              "      <td>37171.764141</td>\n",
              "      <td>2013-12-31</td>\n",
              "    </tr>\n",
              "    <tr>\n",
              "      <th>18</th>\n",
              "      <td>37542.786940</td>\n",
              "      <td>2014-12-31</td>\n",
              "    </tr>\n",
              "    <tr>\n",
              "      <th>19</th>\n",
              "      <td>34890.958658</td>\n",
              "      <td>2015-12-31</td>\n",
              "    </tr>\n",
              "    <tr>\n",
              "      <th>20</th>\n",
              "      <td>34043.216636</td>\n",
              "      <td>2016-12-31</td>\n",
              "    </tr>\n",
              "    <tr>\n",
              "      <th>21</th>\n",
              "      <td>34459.300999</td>\n",
              "      <td>2017-12-31</td>\n",
              "    </tr>\n",
              "    <tr>\n",
              "      <th>22</th>\n",
              "      <td>35040.420823</td>\n",
              "      <td>2018-12-31</td>\n",
              "    </tr>\n",
              "    <tr>\n",
              "      <th>23</th>\n",
              "      <td>35161.700000</td>\n",
              "      <td>2019-12-31</td>\n",
              "    </tr>\n",
              "  </tbody>\n",
              "</table>\n",
              "</div>"
            ],
            "text/plain": [
              "               0       Anos\n",
              "0   20369.340718 1996-12-31\n",
              "1   21248.287617 1997-12-31\n",
              "2   21690.070381 1998-12-31\n",
              "3   21299.621009 1999-12-31\n",
              "4   21807.946417 2000-12-31\n",
              "5   21916.236647 2001-12-31\n",
              "6   21754.292495 2002-12-31\n",
              "7   22686.058197 2003-12-31\n",
              "8   23743.410909 2004-12-31\n",
              "9   24621.317095 2005-12-31\n",
              "10  26205.076970 2006-12-31\n",
              "11  28026.757273 2007-12-31\n",
              "12  29942.006390 2008-12-31\n",
              "13  30450.739376 2009-12-31\n",
              "14  33192.111321 2010-12-31\n",
              "15  34793.678164 2011-12-31\n",
              "16  35855.191060 2012-12-31\n",
              "17  37171.764141 2013-12-31\n",
              "18  37542.786940 2014-12-31\n",
              "19  34890.958658 2015-12-31\n",
              "20  34043.216636 2016-12-31\n",
              "21  34459.300999 2017-12-31\n",
              "22  35040.420823 2018-12-31\n",
              "23  35161.700000 2019-12-31"
            ]
          },
          "metadata": {},
          "execution_count": 133
        }
      ]
    },
    {
      "cell_type": "code",
      "metadata": {
        "id": "_mpNy5RGYHWV"
      },
      "source": [
        "PIBpc_real.columns = ['PIBpc', 'Anos']"
      ],
      "execution_count": 154,
      "outputs": []
    },
    {
      "cell_type": "code",
      "metadata": {
        "colab": {
          "base_uri": "https://localhost:8080/",
          "height": 206
        },
        "id": "U6skqLFzYbBB",
        "outputId": "6ceb3a1d-593c-4ff5-9cfc-42ec3a38191d"
      },
      "source": [
        "PIBpc_real.head()"
      ],
      "execution_count": 166,
      "outputs": [
        {
          "output_type": "execute_result",
          "data": {
            "text/html": [
              "<div>\n",
              "<style scoped>\n",
              "    .dataframe tbody tr th:only-of-type {\n",
              "        vertical-align: middle;\n",
              "    }\n",
              "\n",
              "    .dataframe tbody tr th {\n",
              "        vertical-align: top;\n",
              "    }\n",
              "\n",
              "    .dataframe thead th {\n",
              "        text-align: right;\n",
              "    }\n",
              "</style>\n",
              "<table border=\"1\" class=\"dataframe\">\n",
              "  <thead>\n",
              "    <tr style=\"text-align: right;\">\n",
              "      <th></th>\n",
              "      <th>PIBpc</th>\n",
              "      <th>Anos</th>\n",
              "    </tr>\n",
              "  </thead>\n",
              "  <tbody>\n",
              "    <tr>\n",
              "      <th>0</th>\n",
              "      <td>20369.340718</td>\n",
              "      <td>1996-12-31</td>\n",
              "    </tr>\n",
              "    <tr>\n",
              "      <th>1</th>\n",
              "      <td>21248.287617</td>\n",
              "      <td>1997-12-31</td>\n",
              "    </tr>\n",
              "    <tr>\n",
              "      <th>2</th>\n",
              "      <td>21690.070381</td>\n",
              "      <td>1998-12-31</td>\n",
              "    </tr>\n",
              "    <tr>\n",
              "      <th>3</th>\n",
              "      <td>21299.621009</td>\n",
              "      <td>1999-12-31</td>\n",
              "    </tr>\n",
              "    <tr>\n",
              "      <th>4</th>\n",
              "      <td>21807.946417</td>\n",
              "      <td>2000-12-31</td>\n",
              "    </tr>\n",
              "  </tbody>\n",
              "</table>\n",
              "</div>"
            ],
            "text/plain": [
              "          PIBpc       Anos\n",
              "0  20369.340718 1996-12-31\n",
              "1  21248.287617 1997-12-31\n",
              "2  21690.070381 1998-12-31\n",
              "3  21299.621009 1999-12-31\n",
              "4  21807.946417 2000-12-31"
            ]
          },
          "metadata": {},
          "execution_count": 166
        }
      ]
    },
    {
      "cell_type": "code",
      "metadata": {
        "colab": {
          "base_uri": "https://localhost:8080/",
          "height": 537
        },
        "id": "sVrfCEmKTbyg",
        "outputId": "45a9c486-9146-45d5-ac40-abb964839360"
      },
      "source": [
        "plt.rcParams['figure.figsize'] = (12,8)\n",
        "plt.title('PIB per capita real- 1996-2019 (R$ de 2019)',fontsize = 16)\n",
        "plt.plot(PIBpc_real.Anos, PIBpc_real.PIBpc,lw =2, label = ' PIB per capita real', c= 'g')\n",
        "plt.ylabel(\"PIBpc Real (R$)\",fontsize = 15)\n",
        "plt.xlabel('Anos',fontsize = 15)\n",
        "plt.legend(loc = 'upper left')"
      ],
      "execution_count": 169,
      "outputs": [
        {
          "output_type": "execute_result",
          "data": {
            "text/plain": [
              "<matplotlib.legend.Legend at 0x7efe9dc51b90>"
            ]
          },
          "metadata": {},
          "execution_count": 169
        },
        {
          "output_type": "display_data",
          "data": {
            "image/png": "[encoded data removed]",
            "text/plain": [
              "<Figure size 864x576 with 1 Axes>"
            ]
          },
          "metadata": {
            "needs_background": "light"
          }
        }
      ]
    },
    {
      "cell_type": "markdown",
      "metadata": {
        "id": "7rypS2_Dubal"
      },
      "source": [
        "Vamos agora juntar as duas séries, **PIBpc nominal** e **PIBpc real**, em um mesmo gráfico."
      ]
    },
    {
      "cell_type": "code",
      "metadata": {
        "colab": {
          "base_uri": "https://localhost:8080/",
          "height": 520
        },
        "id": "uXX17HhHwcTt",
        "outputId": "557e43cb-79fd-4f9a-bc45-f05950c8afff"
      },
      "source": [
        "plt.rcParams['figure.figsize'] = (12,8)\n",
        "plt.title('PIBs per capita nominal e real (R$ de 2019)- 1996-2019',fontsize = 16)\n",
        "plt.plot(PIBpc_real.Anos, PIBpc_real.PIBpc,lw =2, label = 'PIB per capita real', c= 'g')\n",
        "plt.plot(PIBpc_real.Anos, PIBPC.V, lw=2, label= 'PIB per capita nominal', c='orange')\n",
        "plt.ylabel(\"PIB per capita (R$)\",fontsize = 15)\n",
        "plt.xlabel('Anos',fontsize = 15)\n",
        "plt.legend(loc = 'upper left')\n",
        "plt.savefig('pibpcnominal&real')"
      ],
      "execution_count": 178,
      "outputs": [
        {
          "output_type": "display_data",
          "data": {
            "image/png": "[encoded data removed]",
            "text/plain": [
              "<Figure size 864x576 with 1 Axes>"
            ]
          },
          "metadata": {
            "needs_background": "light"
          }
        }
      ]
    },
    {
      "cell_type": "markdown",
      "metadata": {
        "id": "Bq3Ow95quViS"
      },
      "source": [
        ""
      ]
    }
  ]
}