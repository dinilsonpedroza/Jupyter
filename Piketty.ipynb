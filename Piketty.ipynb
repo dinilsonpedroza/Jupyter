{
  "nbformat": 4,
  "nbformat_minor": 0,
  "metadata": {
    "colab": {
      "name": "Piketty.ipynb",
      "provenance": [],
      "collapsed_sections": [],
      "authorship_tag": "ABX9TyNoovufEYNPu4YyqHcIn1Zh",
      "include_colab_link": true
    },
    "kernelspec": {
      "name": "python3",
      "display_name": "Python 3"
    },
    "language_info": {
      "name": "python"
    }
  },
  "cells": [
    {
      "cell_type": "markdown",
      "metadata": {
        "id": "view-in-github",
        "colab_type": "text"
      },
      "source": [
        "<a href=\"https://colab.research.google.com/github/dinilsonpedroza/Jupyter/blob/main/Piketty.ipynb\" target=\"_parent\"><img src=\"https://colab.research.google.com/assets/colab-badge.svg\" alt=\"Open In Colab\"/></a>"
      ]
    },
    {
      "cell_type": "markdown",
      "metadata": {
        "id": "GeFvq4q-7QIZ"
      },
      "source": [
        "ENEM 2021 - Quando a taxa de remuneração do capital excede substancialmente a taxa de crescimento da economia, pela lógica, a riqueza herdada aumenta mais rápido do que a renda e a produção. Então, basta aos herdeiros poupar uma parte limitada da renda de seu capital para que ele cresça mais rápido do que a economia como um todo. Sob essas condições, é quase inevitável que a riqueza herdada supere a riqueza constituída durante uma vida de trabalho, e que a concentração do capital atinja níveis muito altos. PIKETTY, T. O capital no século XXI. Rio de Janeiro Intrínseca, 2014 (adaptado). "
      ]
    },
    {
      "cell_type": "markdown",
      "metadata": {
        "id": "VH7nukZw7tMQ"
      },
      "source": [
        "Vamos tratar essa pergunta analisando sua evidência empírica. Vamos coletar, por raspagem, dados sobre a taxa de crescimento do PIB e sobre taxa de retorno do capital financeiro."
      ]
    },
    {
      "cell_type": "code",
      "metadata": {
        "id": "5o-L9TFF-Ep_"
      },
      "source": [
        "import pandas as pd\n",
        "from matplotlib import pyplot as plt\n",
        "from urllib.request import urlopen ### Bibliotecas que serão usadas no trabalho."
      ],
      "execution_count": null,
      "outputs": []
    },
    {
      "cell_type": "code",
      "metadata": {
        "id": "D9TIOwIZ-RzN"
      },
      "source": [
        "def get_data_bcb(código): ### Aqui estamos criando uma função para raspagem usando *urlopen*.\n",
        "    url = \"http://api.bcb.gov.br/dados/serie/bcdata.sgs.{}/dados?formato=json\".format(código) ### Endereço com espaço {} para a tabela específica.\n",
        "    html = urlopen(url).read() ### Acionando a função de raspagem e leitura dos dados (*read*).\n",
        "    df = pd.read_json(html) ### Acionando a função do *Pandas que faz a leitura em **JSON** já criando um data frame.\n",
        "    df.index = pd.to_datetime(df['data']) ### No data frame que será criado, o *Index* assumirá os valores da data.\n",
        "    df = df['valor'] ### Selecionando apenas os valores para o data frame.\n",
        "    return df ### O retorno ou resultado da função é o próprio data frame."
      ],
      "execution_count": null,
      "outputs": []
    },
    {
      "cell_type": "markdown",
      "metadata": {
        "id": "wOgDUDKD9Pwd"
      },
      "source": [
        "**PIB**\n",
        "---"
      ]
    },
    {
      "cell_type": "code",
      "metadata": {
        "colab": {
          "base_uri": "https://localhost:8080/"
        },
        "id": "cneY0Z627pJr",
        "outputId": "18f580e9-0b61-460c-d804-1c540cf2a2f5"
      },
      "source": [
        "PIB = get_data_bcb(24363) ### Nível de atividade mensal SGS do Banco Central. Note que estamos dando o nome de \"PIB\" ao df criado.\n",
        "PIB.head() ### O IBC-Br é um indicador do Banco Central com estimativa de PIB."
      ],
      "execution_count": null,
      "outputs": [
        {
          "output_type": "execute_result",
          "data": {
            "text/plain": [
              "data\n",
              "2003-01-01     96.15\n",
              "2003-01-02     98.67\n",
              "2003-01-03    103.41\n",
              "2003-01-04    102.19\n",
              "2003-01-05    100.30\n",
              "Name: valor, dtype: float64"
            ]
          },
          "metadata": {},
          "execution_count": 33
        }
      ]
    },
    {
      "cell_type": "code",
      "metadata": {
        "id": "YodojVRjHdSt"
      },
      "source": [
        "PIBv = PIB.diff(1)"
      ],
      "execution_count": null,
      "outputs": []
    },
    {
      "cell_type": "code",
      "metadata": {
        "colab": {
          "base_uri": "https://localhost:8080/"
        },
        "id": "VBzp4wEgIvud",
        "outputId": "dbc01757-c106-4b10-dec9-6edcfe5c6728"
      },
      "source": [
        "PIBv.head()"
      ],
      "execution_count": null,
      "outputs": [
        {
          "output_type": "execute_result",
          "data": {
            "text/plain": [
              "data\n",
              "2003-01-01     NaN\n",
              "2003-01-02    2.52\n",
              "2003-01-03    4.74\n",
              "2003-01-04   -1.22\n",
              "2003-01-05   -1.89\n",
              "Name: valor, dtype: float64"
            ]
          },
          "metadata": {},
          "execution_count": 11
        }
      ]
    },
    {
      "cell_type": "code",
      "metadata": {
        "id": "LHcKRBhrK1_t"
      },
      "source": [
        "PIBv = PIBv.loc['2011-01-03':] ### Deixando essa série do mesmo tamanho da série da taxa de juros."
      ],
      "execution_count": null,
      "outputs": []
    },
    {
      "cell_type": "code",
      "metadata": {
        "colab": {
          "base_uri": "https://localhost:8080/"
        },
        "id": "FLuyE4P3LFVY",
        "outputId": "02409611-b05e-4b73-e13c-a479d29daa75"
      },
      "source": [
        "PIBv"
      ],
      "execution_count": null,
      "outputs": [
        {
          "output_type": "execute_result",
          "data": {
            "text/plain": [
              "data\n",
              "2011-01-03    8.75\n",
              "2011-01-04   -5.04\n",
              "2011-01-05    3.34\n",
              "2011-01-06   -1.48\n",
              "2011-01-07    3.44\n",
              "              ... \n",
              "2021-01-05   -2.06\n",
              "2021-01-06    0.61\n",
              "2021-01-07    5.82\n",
              "2021-01-08   -1.34\n",
              "2021-01-09   -2.73\n",
              "Name: valor, Length: 127, dtype: float64"
            ]
          },
          "metadata": {},
          "execution_count": 15
        }
      ]
    },
    {
      "cell_type": "markdown",
      "metadata": {
        "id": "yA5Sdt4-JIV6"
      },
      "source": [
        "**TAXA DE JUROS**\n",
        "---"
      ]
    },
    {
      "cell_type": "code",
      "metadata": {
        "colab": {
          "base_uri": "https://localhost:8080/"
        },
        "id": "4YEgcqDlI2As",
        "outputId": "d760fb39-f27b-48f8-cac1-9e93df525c74"
      },
      "source": [
        "txj = get_data_bcb(25433) ### Pegando a série do PIB nominal no SGS do Banco Central. Note que estamos dando o nome de \"PIB\" ao df criado.\n",
        "txj.head() ### O IBC-Br é um indicador do Banco Central com estimativa de PIB."
      ],
      "execution_count": null,
      "outputs": [
        {
          "output_type": "execute_result",
          "data": {
            "text/plain": [
              "data\n",
              "2011-01-03    2.04\n",
              "2011-01-04    2.07\n",
              "2011-01-05    2.07\n",
              "2011-01-06    2.05\n",
              "2011-01-07    2.07\n",
              "Name: valor, dtype: float64"
            ]
          },
          "metadata": {},
          "execution_count": 13
        }
      ]
    },
    {
      "cell_type": "code",
      "metadata": {
        "colab": {
          "base_uri": "https://localhost:8080/"
        },
        "id": "Zy10fvdEJGYF",
        "outputId": "13317575-bb5a-4c93-ea05-a921c82d5b8a"
      },
      "source": [
        "txj"
      ],
      "execution_count": null,
      "outputs": [
        {
          "output_type": "execute_result",
          "data": {
            "text/plain": [
              "data\n",
              "2011-01-03    2.04\n",
              "2011-01-04    2.07\n",
              "2011-01-05    2.07\n",
              "2011-01-06    2.05\n",
              "2011-01-07    2.07\n",
              "              ... \n",
              "2021-01-05    1.53\n",
              "2021-01-06    1.53\n",
              "2021-01-07    1.56\n",
              "2021-01-08    1.61\n",
              "2021-01-09    1.65\n",
              "Name: valor, Length: 127, dtype: float64"
            ]
          },
          "metadata": {},
          "execution_count": 16
        }
      ]
    },
    {
      "cell_type": "markdown",
      "metadata": {
        "id": "I-IslwESQGNd"
      },
      "source": [
        "Vamos comparar os valores médios das duas séries."
      ]
    },
    {
      "cell_type": "code",
      "metadata": {
        "colab": {
          "base_uri": "https://localhost:8080/"
        },
        "id": "uWEbITv5QPzc",
        "outputId": "5ccaef63-6771-4351-f31e-d8a4934d0bea"
      },
      "source": [
        "PIBv.mean()"
      ],
      "execution_count": null,
      "outputs": [
        {
          "output_type": "execute_result",
          "data": {
            "text/plain": [
              "0.02385826771653544"
            ]
          },
          "metadata": {},
          "execution_count": 31
        }
      ]
    },
    {
      "cell_type": "code",
      "metadata": {
        "colab": {
          "base_uri": "https://localhost:8080/"
        },
        "id": "NRbfkIigQQSi",
        "outputId": "6891b30b-c6a6-4886-9db2-15e1044f6d4e"
      },
      "source": [
        "txj.mean()"
      ],
      "execution_count": null,
      "outputs": [
        {
          "output_type": "execute_result",
          "data": {
            "text/plain": [
              "1.8702362204724416"
            ]
          },
          "metadata": {},
          "execution_count": 32
        }
      ]
    },
    {
      "cell_type": "markdown",
      "metadata": {
        "id": "HpIby_-6Lyz5"
      },
      "source": [
        "**GRÁFICO**\n",
        "---"
      ]
    },
    {
      "cell_type": "code",
      "metadata": {
        "colab": {
          "base_uri": "https://localhost:8080/",
          "height": 918
        },
        "id": "CSorBvoNLU0a",
        "outputId": "14f08a62-0ac2-46f4-b2c0-b89c58c00e59"
      },
      "source": [
        "plt.rcParams['figure.figsize'] = (20,15)\n",
        "plt.title('Nível de atividade x taxa de juros- 2011-2021',fontsize = 16)\n",
        "plt.plot(PIBv, label = 'IBC-Br', c= 'g')\n",
        "plt.plot(txj, label = 'Taxa de juros', c= 'r')\n",
        "plt.ylabel(\"Nível de atividade\",fontsize = 15)\n",
        "plt.xlabel('Meses',fontsize = 15)\n",
        "plt.legend(loc = 'upper left')\n"
      ],
      "execution_count": null,
      "outputs": [
        {
          "output_type": "execute_result",
          "data": {
            "text/plain": [
              "<matplotlib.legend.Legend at 0x7f8b7d5d5c10>"
            ]
          },
          "metadata": {},
          "execution_count": 30
        },
        {
          "output_type": "display_data",
          "data": {
            "image/png": "[encoded data removed]",
            "text/plain": [
              "<Figure size 1440x1080 with 1 Axes>"
            ]
          },
          "metadata": {
            "needs_background": "light"
          }
        }
      ]
    }
  ]
}