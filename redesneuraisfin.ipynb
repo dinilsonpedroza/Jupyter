{
  "nbformat": 4,
  "nbformat_minor": 0,
  "metadata": {
    "kernelspec": {
      "display_name": "Python 3",
      "language": "python",
      "name": "python3"
    },
    "language_info": {
      "codemirror_mode": {
        "name": "ipython",
        "version": 3
      },
      "file_extension": ".py",
      "mimetype": "text/x-python",
      "name": "python",
      "nbconvert_exporter": "python",
      "pygments_lexer": "ipython3",
      "version": "3.8.5"
    },
    "colab": {
      "name": "redesneuraisfin.ipynb",
      "provenance": [],
      "include_colab_link": true
    }
  },
  "cells": [
    {
      "cell_type": "markdown",
      "metadata": {
        "id": "view-in-github",
        "colab_type": "text"
      },
      "source": [
        "<a href=\"https://colab.research.google.com/github/dinilsonpedroza/Jupyter/blob/main/redesneuraisfin.ipynb\" target=\"_parent\"><img src=\"https://colab.research.google.com/assets/colab-badge.svg\" alt=\"Open In Colab\"/></a>"
      ]
    },
    {
      "cell_type": "markdown",
      "metadata": {
        "id": "AYsIgwG1ISBH"
      },
      "source": [
        "# REDES NEURAIS NO MERCADO DE AÇÕES"
      ]
    },
    {
      "cell_type": "markdown",
      "metadata": {
        "id": "P320Pdu1ISBO"
      },
      "source": [
        "Vamos usar redes neurais para fazer previsões de ações da Petrobrás."
      ]
    },
    {
      "cell_type": "code",
      "metadata": {
        "id": "XlTK7daKISBP"
      },
      "source": [
        "import numpy as np\n",
        "import pandas as pd\n",
        "from pandas_datareader import data as wb\n",
        "import matplotlib.pyplot as plt"
      ],
      "execution_count": null,
      "outputs": []
    },
    {
      "cell_type": "markdown",
      "metadata": {
        "id": "NSIqBF4JISBQ"
      },
      "source": [
        "Os pacotes *numpy* e *pandas* já vêm com a instalação do Anaconda. O *pandas_datareader*, bem como o tensorflow devem ser instalados pelo pip, no terminal."
      ]
    },
    {
      "cell_type": "markdown",
      "metadata": {
        "id": "uz0g0ZZDISBQ"
      },
      "source": [
        "Vamos ler os dados das ações da Petrobrás (ticker PETR4) pelo *DataReader*, do site da Yahoo. Devemos acrescentar a terminação *.SA* para leitura de ações negociadas na **B3**."
      ]
    },
    {
      "cell_type": "code",
      "metadata": {
        "id": "a09YZhJHISBR"
      },
      "source": [
        "data = wb.DataReader('PETR4.SA', data_source = 'yahoo', start = '2000-1-1')"
      ],
      "execution_count": null,
      "outputs": []
    },
    {
      "cell_type": "code",
      "metadata": {
        "id": "wK_CYsPVISBR",
        "outputId": "1dd7209a-fa17-4aae-8c23-5653d0680207"
      },
      "source": [
        "data.head() ### lendo as primeiras informações do data frame criado."
      ],
      "execution_count": null,
      "outputs": [
        {
          "output_type": "execute_result",
          "data": {
            "text/html": [
              "<div>\n",
              "<style scoped>\n",
              "    .dataframe tbody tr th:only-of-type {\n",
              "        vertical-align: middle;\n",
              "    }\n",
              "\n",
              "    .dataframe tbody tr th {\n",
              "        vertical-align: top;\n",
              "    }\n",
              "\n",
              "    .dataframe thead th {\n",
              "        text-align: right;\n",
              "    }\n",
              "</style>\n",
              "<table border=\"1\" class=\"dataframe\">\n",
              "  <thead>\n",
              "    <tr style=\"text-align: right;\">\n",
              "      <th></th>\n",
              "      <th>High</th>\n",
              "      <th>Low</th>\n",
              "      <th>Open</th>\n",
              "      <th>Close</th>\n",
              "      <th>Volume</th>\n",
              "      <th>Adj Close</th>\n",
              "    </tr>\n",
              "    <tr>\n",
              "      <th>Date</th>\n",
              "      <th></th>\n",
              "      <th></th>\n",
              "      <th></th>\n",
              "      <th></th>\n",
              "      <th></th>\n",
              "      <th></th>\n",
              "    </tr>\n",
              "  </thead>\n",
              "  <tbody>\n",
              "    <tr>\n",
              "      <th>2000-01-03</th>\n",
              "      <td>5.875</td>\n",
              "      <td>5.875</td>\n",
              "      <td>5.875</td>\n",
              "      <td>5.875</td>\n",
              "      <td>3.538944e+10</td>\n",
              "      <td>3.812799</td>\n",
              "    </tr>\n",
              "    <tr>\n",
              "      <th>2000-01-04</th>\n",
              "      <td>5.550</td>\n",
              "      <td>5.550</td>\n",
              "      <td>5.550</td>\n",
              "      <td>5.550</td>\n",
              "      <td>2.886144e+10</td>\n",
              "      <td>3.601876</td>\n",
              "    </tr>\n",
              "    <tr>\n",
              "      <th>2000-01-05</th>\n",
              "      <td>5.494</td>\n",
              "      <td>5.494</td>\n",
              "      <td>5.494</td>\n",
              "      <td>5.494</td>\n",
              "      <td>4.303360e+10</td>\n",
              "      <td>3.565535</td>\n",
              "    </tr>\n",
              "    <tr>\n",
              "      <th>2000-01-06</th>\n",
              "      <td>5.475</td>\n",
              "      <td>5.475</td>\n",
              "      <td>5.475</td>\n",
              "      <td>5.475</td>\n",
              "      <td>3.405568e+10</td>\n",
              "      <td>3.553203</td>\n",
              "    </tr>\n",
              "    <tr>\n",
              "      <th>2000-01-07</th>\n",
              "      <td>5.500</td>\n",
              "      <td>5.500</td>\n",
              "      <td>5.500</td>\n",
              "      <td>5.500</td>\n",
              "      <td>2.091264e+10</td>\n",
              "      <td>3.569429</td>\n",
              "    </tr>\n",
              "  </tbody>\n",
              "</table>\n",
              "</div>"
            ],
            "text/plain": [
              "             High    Low   Open  Close        Volume  Adj Close\n",
              "Date                                                           \n",
              "2000-01-03  5.875  5.875  5.875  5.875  3.538944e+10   3.812799\n",
              "2000-01-04  5.550  5.550  5.550  5.550  2.886144e+10   3.601876\n",
              "2000-01-05  5.494  5.494  5.494  5.494  4.303360e+10   3.565535\n",
              "2000-01-06  5.475  5.475  5.475  5.475  3.405568e+10   3.553203\n",
              "2000-01-07  5.500  5.500  5.500  5.500  2.091264e+10   3.569429"
            ]
          },
          "metadata": {
            "tags": []
          },
          "execution_count": 5
        }
      ]
    },
    {
      "cell_type": "markdown",
      "metadata": {
        "id": "Y5tjJ3bBISBS"
      },
      "source": [
        "Vamos acrescentar ao data frame uma coluna com *resultados* . A coluna será calculada como a variação do valor ajustado entre um dia e o dia anterior."
      ]
    },
    {
      "cell_type": "code",
      "metadata": {
        "id": "_-O6Qa5PISBS",
        "outputId": "43d746b8-4482-422e-80a6-f7e1c1049762"
      },
      "source": [
        "data['Resultado'] = (data['Adj Close']/data['Adj Close'].shift(1))-1 ### a função shift define a defasagem usada nessa diferenciação.\n",
        "print(data['Resultado'])"
      ],
      "execution_count": null,
      "outputs": [
        {
          "output_type": "stream",
          "text": [
            "Date\n",
            "2000-01-03         NaN\n",
            "2000-01-04   -0.055320\n",
            "2000-01-05   -0.010090\n",
            "2000-01-06   -0.003458\n",
            "2000-01-07    0.004566\n",
            "                ...   \n",
            "2021-05-11    0.018219\n",
            "2021-05-12   -0.014712\n",
            "2021-05-13    0.008475\n",
            "2021-05-14    0.051621\n",
            "2021-05-17    0.014460\n",
            "Name: Resultado, Length: 5368, dtype: float64\n"
          ],
          "name": "stdout"
        }
      ]
    },
    {
      "cell_type": "markdown",
      "metadata": {
        "id": "7q9K9PMhISBT"
      },
      "source": [
        "Agora faremos um gráfico dessa coluna de resultados. o argumento figsize permite definir o seu tamanho."
      ]
    },
    {
      "cell_type": "code",
      "metadata": {
        "id": "_BiplUt2ISBT",
        "outputId": "3f0e7113-d743-433b-8f7e-2dd4e649d5c3"
      },
      "source": [
        "data['Resultado'].plot(figsize = (10,8))"
      ],
      "execution_count": null,
      "outputs": [
        {
          "output_type": "execute_result",
          "data": {
            "text/plain": [
              "<AxesSubplot:xlabel='Date'>"
            ]
          },
          "metadata": {
            "tags": []
          },
          "execution_count": 9
        },
        {
          "output_type": "display_data",
          "data": {
            "image/png": "[encoded data removed]",
            "text/plain": [
              "<Figure size 720x576 with 1 Axes>"
            ]
          },
          "metadata": {
            "tags": [],
            "needs_background": "light"
          }
        }
      ]
    },
    {
      "cell_type": "markdown",
      "metadata": {
        "id": "nGckUAwWISBU"
      },
      "source": [
        "Como a série foi diferenciada, observa-se certa estacionariedade. Contudo, a variância não é constante."
      ]
    },
    {
      "cell_type": "code",
      "metadata": {
        "id": "I0VQavIjISBU",
        "outputId": "6c3641be-1e88-4056-e783-f949c1b38269"
      },
      "source": [
        "media = data['Resultado'].mean() ### calculando a média para todo o período (ou seja, cerca de 20 anos)\n",
        "print(media)"
      ],
      "execution_count": null,
      "outputs": [
        {
          "output_type": "stream",
          "text": [
            "0.0007320645302479214\n"
          ],
          "name": "stdout"
        }
      ]
    },
    {
      "cell_type": "code",
      "metadata": {
        "id": "_bIFDVkYISBU",
        "outputId": "cf7a7551-5a98-49ce-8e48-68597f5548c6"
      },
      "source": [
        "media_anual = data['Resultado'].mean()*250 ### considerando 250 úteis, calculamos a média anual.\n",
        "print(media_anual)"
      ],
      "execution_count": null,
      "outputs": [
        {
          "output_type": "stream",
          "text": [
            "0.18301613256198035\n"
          ],
          "name": "stdout"
        }
      ]
    },
    {
      "cell_type": "code",
      "metadata": {
        "id": "wVzaIK-zISBV",
        "outputId": "1c321fa6-a4e9-40d2-b5f5-4fc7c8f89195"
      },
      "source": [
        "print(str(round(media_anual, 5)*100) + '%') ### o valor em termos percentuais."
      ],
      "execution_count": null,
      "outputs": [
        {
          "output_type": "stream",
          "text": [
            "18.302%\n"
          ],
          "name": "stdout"
        }
      ]
    },
    {
      "cell_type": "code",
      "metadata": {
        "id": "Ej920XtsISBV"
      },
      "source": [
        ""
      ],
      "execution_count": null,
      "outputs": []
    }
  ]
}